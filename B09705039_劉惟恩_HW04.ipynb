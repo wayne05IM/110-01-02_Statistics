{
 "cells": [
  {
   "cell_type": "markdown",
   "metadata": {},
   "source": [
    "<h1>B09705039_劉惟恩_HW04"
   ]
  },
  {
   "cell_type": "code",
   "execution_count": 1,
   "metadata": {},
   "outputs": [],
   "source": [
    "from matplotlib import pyplot as plt\n",
    "%matplotlib inline\n",
    "# 設定圖形大小; DPI越大圖越大\n",
    "plt.rcParams[\"figure.dpi\"] = 100\n",
    "import seaborn as sns\n",
    "import pandas as pd\n",
    "import numpy as np\n",
    "import math as math"
   ]
  },
  {
   "cell_type": "markdown",
   "metadata": {},
   "source": [
    "<h2>Problem 6.5"
   ]
  },
  {
   "cell_type": "markdown",
   "metadata": {},
   "source": [
    "<h4>Since each simple event has the same probability. According to the basic properties of prabability the sum of all simple events must be 1 and the probability of each simple event must hold between 0 and 1, we can calculate each simple event's probability as following : <br><br>\n",
    "6 * se_prob = 1, 0 <= se_prob <= 1 <br>\n",
    "se_prob = 1/6"
   ]
  },
  {
   "cell_type": "markdown",
   "metadata": {},
   "source": [
    "<h3> a."
   ]
  },
  {
   "cell_type": "code",
   "execution_count": 2,
   "metadata": {},
   "outputs": [
    {
     "name": "stdout",
     "output_type": "stream",
     "text": [
      "The probability of an even number: 0.5\n"
     ]
    }
   ],
   "source": [
    "se_prob = 1/6\n",
    "#even numbers in the sample space: 2, 4, 6 => 3 numbers\n",
    "print(\"The probability of an even number:\", 3 * se_prob)"
   ]
  },
  {
   "cell_type": "markdown",
   "metadata": {},
   "source": [
    "<h3>b."
   ]
  },
  {
   "cell_type": "code",
   "execution_count": 3,
   "metadata": {},
   "outputs": [
    {
     "name": "stdout",
     "output_type": "stream",
     "text": [
      "The probability of a number less than or equal to 4: 0.6666666666666666\n"
     ]
    }
   ],
   "source": [
    "#numbers less than or equal to 4 in the sample space: 1, 2, 3, 4 => 4 numbers\n",
    "print(\"The probability of a number less than or equal to 4:\", 4 * se_prob)"
   ]
  },
  {
   "cell_type": "markdown",
   "metadata": {},
   "source": [
    "<h3>c."
   ]
  },
  {
   "cell_type": "code",
   "execution_count": 4,
   "metadata": {},
   "outputs": [
    {
     "name": "stdout",
     "output_type": "stream",
     "text": [
      "The probability of a number greater than or equal to 5: 0.3333333333333333\n"
     ]
    }
   ],
   "source": [
    "#numbers greater than or equal to 5 in the sample space: 5, 6 => 2 numbers\n",
    "print(\"The probability of a number greater than or equal to 5:\", 2 * se_prob)"
   ]
  },
  {
   "cell_type": "markdown",
   "metadata": {},
   "source": [
    "<h2>Problem 6.17"
   ]
  },
  {
   "cell_type": "markdown",
   "metadata": {},
   "source": [
    "<h4>According to the basic properties of prabability the sum of all simple events must be 1 and the probability of each simple event must hold between 0 and 1 :"
   ]
  },
  {
   "cell_type": "markdown",
   "metadata": {},
   "source": [
    "<h3>a."
   ]
  },
  {
   "cell_type": "code",
   "execution_count": 5,
   "metadata": {},
   "outputs": [
    {
     "name": "stdout",
     "output_type": "stream",
     "text": [
      "     Language  Frequency\n",
      "0     Spanish       38.4\n",
      "1     Chinese        3.0\n",
      "2     Tagalog        1.6\n",
      "3  Vietnamese        1.4\n",
      "4      French        1.3\n",
      "5      Korean        1.1\n",
      "6       Other       15.2\n",
      "7       Total       62.0\n"
     ]
    }
   ],
   "source": [
    "df_6_17 = pd.read_excel(\"Xr06-17.xlsx\")\n",
    "print(df_6_17)"
   ]
  },
  {
   "cell_type": "code",
   "execution_count": 6,
   "metadata": {},
   "outputs": [
    {
     "name": "stdout",
     "output_type": "stream",
     "text": [
      "The probability of individual speaks Spanish: 0.6193548387096774\n"
     ]
    }
   ],
   "source": [
    "print(\"The probability of individual speaks Spanish:\", df_6_17[\"Frequency\"][0] / df_6_17[\"Frequency\"][7])"
   ]
  },
  {
   "cell_type": "markdown",
   "metadata": {},
   "source": [
    "<h3>b."
   ]
  },
  {
   "cell_type": "code",
   "execution_count": 7,
   "metadata": {},
   "outputs": [
    {
     "name": "stdout",
     "output_type": "stream",
     "text": [
      "The probability of individual speaks a language other than Spanish: 0.38064516129032255\n"
     ]
    }
   ],
   "source": [
    "# apply Complement Rule\n",
    "print(\"The probability of individual speaks a language other than Spanish:\", 1 - (df_6_17[\"Frequency\"][0] / df_6_17[\"Frequency\"][7]))"
   ]
  },
  {
   "cell_type": "markdown",
   "metadata": {},
   "source": [
    "<h3>c."
   ]
  },
  {
   "cell_type": "code",
   "execution_count": 8,
   "metadata": {},
   "outputs": [
    {
     "name": "stdout",
     "output_type": "stream",
     "text": [
      "The probability of individual speaks Vietnamese or French: 0.043548387096774194\n"
     ]
    }
   ],
   "source": [
    "print(\"The probability of individual speaks Vietnamese or French:\", (df_6_17[\"Frequency\"][3] + df_6_17[\"Frequency\"][4]) / df_6_17[\"Frequency\"][7])"
   ]
  },
  {
   "cell_type": "markdown",
   "metadata": {},
   "source": [
    "<h3>d."
   ]
  },
  {
   "cell_type": "code",
   "execution_count": 9,
   "metadata": {},
   "outputs": [
    {
     "name": "stdout",
     "output_type": "stream",
     "text": [
      "The probability of individual speaks one of the other languages: 0.24516129032258063\n"
     ]
    }
   ],
   "source": [
    "print(\"The probability of individual speaks one of the other languages:\", df_6_17[\"Frequency\"][6] / df_6_17[\"Frequency\"][7])"
   ]
  },
  {
   "cell_type": "markdown",
   "metadata": {},
   "source": [
    "<h2>Problem 6.33"
   ]
  },
  {
   "cell_type": "markdown",
   "metadata": {},
   "source": [
    "<h5>Define Events: <br>\n",
    "    Female as G1, Male as G2 <br>\n",
    "    Less than high school as E1, High school graduate as E2, Some college/university-no degree as E3, College/university graduate as E4"
   ]
  },
  {
   "cell_type": "code",
   "execution_count": 10,
   "metadata": {},
   "outputs": [
    {
     "data": {
      "text/html": [
       "<div>\n",
       "<style scoped>\n",
       "    .dataframe tbody tr th:only-of-type {\n",
       "        vertical-align: middle;\n",
       "    }\n",
       "\n",
       "    .dataframe tbody tr th {\n",
       "        vertical-align: top;\n",
       "    }\n",
       "\n",
       "    .dataframe thead th {\n",
       "        text-align: right;\n",
       "    }\n",
       "</style>\n",
       "<table border=\"1\" class=\"dataframe\">\n",
       "  <thead>\n",
       "    <tr style=\"text-align: right;\">\n",
       "      <th></th>\n",
       "      <th>G1</th>\n",
       "      <th>G2</th>\n",
       "    </tr>\n",
       "  </thead>\n",
       "  <tbody>\n",
       "    <tr>\n",
       "      <th>E1</th>\n",
       "      <td>0.057</td>\n",
       "      <td>0.104</td>\n",
       "    </tr>\n",
       "    <tr>\n",
       "      <th>E2</th>\n",
       "      <td>0.136</td>\n",
       "      <td>0.224</td>\n",
       "    </tr>\n",
       "    <tr>\n",
       "      <th>E3</th>\n",
       "      <td>0.132</td>\n",
       "      <td>0.150</td>\n",
       "    </tr>\n",
       "    <tr>\n",
       "      <th>E4</th>\n",
       "      <td>0.095</td>\n",
       "      <td>0.103</td>\n",
       "    </tr>\n",
       "  </tbody>\n",
       "</table>\n",
       "</div>"
      ],
      "text/plain": [
       "       G1     G2\n",
       "E1  0.057  0.104\n",
       "E2  0.136  0.224\n",
       "E3  0.132  0.150\n",
       "E4  0.095  0.103"
      ]
     },
     "metadata": {},
     "output_type": "display_data"
    },
    {
     "name": "stdout",
     "output_type": "stream",
     "text": [
      "Marginal Probability by Educational Attainment = \n",
      "E1    0.161\n",
      "E2    0.360\n",
      "E3    0.282\n",
      "E4    0.198\n",
      "dtype: float64\n",
      "\n",
      "\n",
      "Marginal Probability by Gender = \n",
      "G1    0.420\n",
      "G2    0.581\n",
      "dtype: float64\n",
      "\n",
      "\n",
      "Conditional Probability given both gender on E4 = \n",
      "G1    0.226190\n",
      "G2    0.177281\n",
      "dtype: float64\n",
      "\n",
      "\n",
      "Conditional Probability given E2 on both gender = \n",
      "G1    0.377778\n",
      "G2    0.622222\n",
      "Name: E2, dtype: float64\n",
      "\n",
      "\n"
     ]
    }
   ],
   "source": [
    "#讀取資料集\n",
    "df_6_33 = pd.read_excel('Xr06-33.xlsx')\n",
    "df_6_33 = df_6_33.rename(columns = {\"Female\" : \"G1\", \"Male\" : \"G2\"}, index = {0 : \"E1\", 1 : \"E2\", 2 : 'E3', 3 : 'E4'})\n",
    "df_6_33 = df_6_33.iloc[:, 1:]\n",
    "display(df_6_33)\n",
    "\n",
    "# Marginal Probability\n",
    "col_p = df_6_33.sum(0)\n",
    "row_p = df_6_33.sum(1)\n",
    "print(\"Marginal Probability by Educational Attainment = \\n\", row_p, sep='')\n",
    "print(\"\\n\")\n",
    "print(\"Marginal Probability by Gender = \\n\", col_p, sep='')\n",
    "print(\"\\n\")\n",
    "\n",
    "# Conditional Probability\n",
    "    # given gender on E4\n",
    "p_GoverE4 = df_6_33.loc['E4'] / col_p\n",
    "print(\"Conditional Probability given both gender on E4 = \\n\", p_GoverE4, sep='')\n",
    "print(\"\\n\")\n",
    "    # given E2 on gender\n",
    "p_E2overG = df_6_33.loc['E2'] / row_p[\"E2\"]\n",
    "print(\"Conditional Probability given E2 on both gender = \\n\", p_E2overG, sep='')\n",
    "print(\"\\n\")"
   ]
  },
  {
   "cell_type": "markdown",
   "metadata": {},
   "source": [
    "<h3>a. 0.161<br>\n",
    "    b. 0.226190<br>\n",
    "    c. 0.622222"
   ]
  },
  {
   "cell_type": "markdown",
   "metadata": {},
   "source": [
    "<h2>Problem 6.45"
   ]
  },
  {
   "cell_type": "code",
   "execution_count": 11,
   "metadata": {},
   "outputs": [
    {
     "data": {
      "text/html": [
       "<div>\n",
       "<style scoped>\n",
       "    .dataframe tbody tr th:only-of-type {\n",
       "        vertical-align: middle;\n",
       "    }\n",
       "\n",
       "    .dataframe tbody tr th {\n",
       "        vertical-align: top;\n",
       "    }\n",
       "\n",
       "    .dataframe thead th {\n",
       "        text-align: right;\n",
       "    }\n",
       "</style>\n",
       "<table border=\"1\" class=\"dataframe\">\n",
       "  <thead>\n",
       "    <tr style=\"text-align: right;\">\n",
       "      <th></th>\n",
       "      <th>Overdue</th>\n",
       "      <th>Not overdue</th>\n",
       "    </tr>\n",
       "  </thead>\n",
       "  <tbody>\n",
       "    <tr>\n",
       "      <th>New</th>\n",
       "      <td>0.06</td>\n",
       "      <td>0.13</td>\n",
       "    </tr>\n",
       "    <tr>\n",
       "      <th>Old</th>\n",
       "      <td>0.52</td>\n",
       "      <td>0.29</td>\n",
       "    </tr>\n",
       "  </tbody>\n",
       "</table>\n",
       "</div>"
      ],
      "text/plain": [
       "     Overdue  Not overdue\n",
       "New     0.06         0.13\n",
       "Old     0.52         0.29"
      ]
     },
     "metadata": {},
     "output_type": "display_data"
    },
    {
     "name": "stdout",
     "output_type": "stream",
     "text": [
      "Marginal Probability by new or old = \n",
      "New    0.19\n",
      "Old    0.81\n",
      "dtype: float64\n",
      "\n",
      "\n",
      "Marginal Probability by over-due or not = \n",
      "Overdue        0.58\n",
      "Not overdue    0.42\n",
      "dtype: float64\n",
      "\n",
      "\n",
      "Conditional Probability given overdue and not overdue on new = \n",
      "Overdue        0.103448\n",
      "Not overdue    0.309524\n",
      "dtype: float64\n",
      "\n",
      "\n",
      "Conditional Probability given new on overdue and not overdue = \n",
      "Overdue        0.315789\n",
      "Not overdue    0.684211\n",
      "Name: New, dtype: float64\n",
      "\n",
      "\n"
     ]
    }
   ],
   "source": [
    "#讀取資料集\n",
    "df_6_45 = pd.read_excel('Xr06-45.xlsx')\n",
    "df_6_45 = df_6_45.iloc[:, 1:]\n",
    "df_6_45 = df_6_45.rename(index = {0 : \"New\", 1 : \"Old\"})\n",
    "display(df_6_45)\n",
    "\n",
    "# Marginal Probability\n",
    "col_p = df_6_45.sum(0)\n",
    "row_p = df_6_45.sum(1)\n",
    "print(\"Marginal Probability by new or old = \\n\", row_p, sep='')\n",
    "print(\"\\n\")\n",
    "print(\"Marginal Probability by over-due or not = \\n\", col_p, sep='')\n",
    "print(\"\\n\")\n",
    "\n",
    "# Conditional Probability\n",
    "    # given overdue on new\n",
    "p_OoverN = df_6_45.loc[\"New\"] / col_p\n",
    "print(\"Conditional Probability given overdue and not overdue on new = \\n\", p_OoverN, sep='')\n",
    "print(\"\\n\")\n",
    "    # given new on overdue\n",
    "p_NoverO = df_6_45.loc[\"New\"] / row_p[\"New\"]\n",
    "print(\"Conditional Probability given new on overdue and not overdue = \\n\", p_NoverO, sep='')\n",
    "print(\"\\n\")"
   ]
  },
  {
   "cell_type": "markdown",
   "metadata": {},
   "source": [
    "<h3>a. 0.103448<br>\n",
    "    b. 0.315789<br>\n",
    "    c. Yes, since 0.315789 != 0.58, the two classifications are dependent, the age of the account is related to whether it is overdue."
   ]
  },
  {
   "cell_type": "markdown",
   "metadata": {},
   "source": [
    "<h2>Problem 6.57"
   ]
  },
  {
   "cell_type": "markdown",
   "metadata": {},
   "source": [
    "<h5>Define Events: <br>\n",
    "    Consistent liberal as G1, Mostly liberal as G2, Mixed as G3, Mostly conservative as G4, Consistent conservative as G5 <br>\n",
    "    Trust as T1, Distrust as T2, Neither trust nor distrust as T3, Don't know as T4"
   ]
  },
  {
   "cell_type": "code",
   "execution_count": 12,
   "metadata": {},
   "outputs": [
    {
     "data": {
      "text/html": [
       "<div>\n",
       "<style scoped>\n",
       "    .dataframe tbody tr th:only-of-type {\n",
       "        vertical-align: middle;\n",
       "    }\n",
       "\n",
       "    .dataframe tbody tr th {\n",
       "        vertical-align: top;\n",
       "    }\n",
       "\n",
       "    .dataframe thead th {\n",
       "        text-align: right;\n",
       "    }\n",
       "</style>\n",
       "<table border=\"1\" class=\"dataframe\">\n",
       "  <thead>\n",
       "    <tr style=\"text-align: right;\">\n",
       "      <th></th>\n",
       "      <th>G1</th>\n",
       "      <th>G2</th>\n",
       "      <th>G3</th>\n",
       "      <th>G4</th>\n",
       "      <th>G5</th>\n",
       "    </tr>\n",
       "  </thead>\n",
       "  <tbody>\n",
       "    <tr>\n",
       "      <th>T1</th>\n",
       "      <td>0.0096</td>\n",
       "      <td>0.0616</td>\n",
       "      <td>0.1692</td>\n",
       "      <td>0.1224</td>\n",
       "      <td>0.0792</td>\n",
       "    </tr>\n",
       "    <tr>\n",
       "      <th>T2</th>\n",
       "      <td>0.1296</td>\n",
       "      <td>0.1188</td>\n",
       "      <td>0.1008</td>\n",
       "      <td>0.0187</td>\n",
       "      <td>0.0027</td>\n",
       "    </tr>\n",
       "    <tr>\n",
       "      <th>T3</th>\n",
       "      <td>0.0128</td>\n",
       "      <td>0.0264</td>\n",
       "      <td>0.0540</td>\n",
       "      <td>0.0187</td>\n",
       "      <td>0.0045</td>\n",
       "    </tr>\n",
       "    <tr>\n",
       "      <th>T4</th>\n",
       "      <td>0.0080</td>\n",
       "      <td>0.0132</td>\n",
       "      <td>0.0360</td>\n",
       "      <td>0.0102</td>\n",
       "      <td>0.0036</td>\n",
       "    </tr>\n",
       "  </tbody>\n",
       "</table>\n",
       "</div>"
      ],
      "text/plain": [
       "        G1      G2      G3      G4      G5\n",
       "T1  0.0096  0.0616  0.1692  0.1224  0.0792\n",
       "T2  0.1296  0.1188  0.1008  0.0187  0.0027\n",
       "T3  0.0128  0.0264  0.0540  0.0187  0.0045\n",
       "T4  0.0080  0.0132  0.0360  0.0102  0.0036"
      ]
     },
     "metadata": {},
     "output_type": "display_data"
    },
    {
     "name": "stdout",
     "output_type": "stream",
     "text": [
      "Marginal Probability by Trust or Distrust = \n",
      "T1    0.4420\n",
      "T2    0.3706\n",
      "T3    0.1164\n",
      "T4    0.0710\n",
      "dtype: float64\n",
      "\n",
      "\n",
      "Marginal Probability by Liberal or Conservative = \n",
      "G1    0.16\n",
      "G2    0.22\n",
      "G3    0.36\n",
      "G4    0.17\n",
      "G5    0.09\n",
      "dtype: float64\n",
      "\n",
      "\n",
      "Conditional Probability given G1 to G5 on T2 = \n",
      "G1    0.81\n",
      "G2    0.54\n",
      "G3    0.28\n",
      "G4    0.11\n",
      "G5    0.03\n",
      "dtype: float64\n",
      "\n",
      "\n",
      "Conditional Probability given G1 to G5 on T1 = \n",
      "G1    0.06\n",
      "G2    0.28\n",
      "G3    0.47\n",
      "G4    0.72\n",
      "G5    0.88\n",
      "dtype: float64\n",
      "\n",
      "\n",
      "Conditional Probability given G1 to G5 on T3 = \n",
      "G1    0.08\n",
      "G2    0.12\n",
      "G3    0.15\n",
      "G4    0.11\n",
      "G5    0.05\n",
      "dtype: float64\n",
      "\n",
      "\n"
     ]
    }
   ],
   "source": [
    "#讀取資料集\n",
    "df_6_57 = pd.read_excel('Xr06-57.xlsx')\n",
    "df_6_57 = df_6_57.rename(columns = {\"Consistent liberal\" : \"G1\", \"Mostly liberal\" : \"G2\", \"Mixed\" : \"G3\", \"Mostly conservative\" : \"G4\", \"Consistent conservative\" : \"G5\"}, index = {0 : \"T1\", 1 : \"T2\", 2 : \"T3\", 3 : \"T4\"})\n",
    "df_6_57 = df_6_57.iloc[:, 1:]\n",
    "display(df_6_57)\n",
    "\n",
    "# Marginal Probability\n",
    "col_p = df_6_57.sum(0)\n",
    "row_p = df_6_57.sum(1)\n",
    "print(\"Marginal Probability by Trust or Distrust = \\n\", row_p, sep='')\n",
    "print(\"\\n\")\n",
    "print(\"Marginal Probability by Liberal or Conservative = \\n\", col_p, sep='')\n",
    "print(\"\\n\")\n",
    "\n",
    "# Conditional Probability\n",
    "    # given G1 on T2\n",
    "p_G1overT2 = df_6_57.loc['T2'] / col_p\n",
    "print(\"Conditional Probability given G1 to G5 on T2 = \\n\", p_G1overT2, sep='')\n",
    "print(\"\\n\")\n",
    "    # given G4 on T1\n",
    "p_G4overT1 = df_6_57.loc['T1'] / col_p\n",
    "print(\"Conditional Probability given G1 to G5 on T1 = \\n\", p_G4overT1, sep='')\n",
    "print(\"\\n\")\n",
    "    # given G5 on T3\n",
    "p_G5overT3 = df_6_57.loc['T3'] / col_p\n",
    "print(\"Conditional Probability given G1 to G5 on T3 = \\n\", p_G5overT3, sep='')\n",
    "print(\"\\n\")"
   ]
  },
  {
   "cell_type": "markdown",
   "metadata": {},
   "source": [
    "<h3>a. 0.81<br>\n",
    "    b. 0.72<br>\n",
    "    c. 0.05<br>\n",
    "    d. 0.09"
   ]
  },
  {
   "cell_type": "markdown",
   "metadata": {},
   "source": [
    "<h2>Problem 6.71"
   ]
  },
  {
   "cell_type": "code",
   "execution_count": 13,
   "metadata": {},
   "outputs": [
    {
     "name": "stdout",
     "output_type": "stream",
     "text": [
      "DD: 0.1936\n",
      "RR: 0.1369\n",
      "OO: 0.0361\n",
      "DR RD: 0.1628\n",
      "DO OD: 0.0836\n",
      "RO OR: 0.0703\n"
     ]
    }
   ],
   "source": [
    "# calculate the probabilities to put into the tree\n",
    "D = 0.44\n",
    "R = 0.37\n",
    "O = 0.19\n",
    "print(\"DD:\", round(D * D, 4))\n",
    "print(\"RR:\", round(R * R, 4))\n",
    "print(\"OO:\", round(O * O, 4))\n",
    "print(\"DR RD:\", round(D * R, 4))\n",
    "print(\"DO OD:\", round(D * O, 4))\n",
    "print(\"RO OR:\", round(R * O, 4))"
   ]
  },
  {
   "cell_type": "code",
   "execution_count": 14,
   "metadata": {},
   "outputs": [
    {
     "name": "stdout",
     "output_type": "stream",
     "text": [
      "Requirement already satisfied: ete3 in /Users/liuweien/opt/anaconda3/lib/python3.8/site-packages (3.1.2)\n"
     ]
    }
   ],
   "source": [
    "!pip install ete3"
   ]
  },
  {
   "cell_type": "code",
   "execution_count": 15,
   "metadata": {},
   "outputs": [],
   "source": [
    "def ts_layout(node, fgcolor='#FF4ba6', fsize=12):\n",
    "    node.img_style[\"size\"] = 2\n",
    "    node.img_style[\"shape\"] = \"circle\"\n",
    "    node.img_style[\"fgcolor\"] = fgcolor\n",
    "    if node.is_leaf():\n",
    "        # If terminal node, draws its name\n",
    "        name_face = AttrFace(\"name\", fsize=fsize)         # fgcolor=\"royalblue\"\n",
    "        name_face.margin_left = 3\n",
    "        faces.add_face_to_node(name_face, node, column=0, position=\"branch-right\")\n",
    "    elif not node.is_root():\n",
    "        # If internal node, draws label with smaller font size\n",
    "        name_face = AttrFace(\"name\", fsize=fsize)\n",
    "        name_face.margin_left = 2\n",
    "        name_face.margin_bottom = 2\n",
    "        # Adds the name face to the image at the preferred position\n",
    "        faces.add_face_to_node(name_face, node, column=0, position=\"branch-top\")\n",
    "        # Possible values are “branch-right”, “branch-top”, “branch-bottom”, “float”, “float-behind” and “aligned”"
   ]
  },
  {
   "cell_type": "code",
   "execution_count": 16,
   "metadata": {},
   "outputs": [
    {
     "data": {
      "image/png": "[encoded data removed]",
      "text/plain": [
       "<IPython.core.display.Image object>"
      ]
     },
     "execution_count": 16,
     "metadata": {},
     "output_type": "execute_result"
    }
   ],
   "source": [
    "from ete3 import Tree, faces, AttrFace, TreeStyle, TextFace\n",
    "ts = TreeStyle()\n",
    "ts.mode = 'r' # 'c'\n",
    "ts.min_leaf_separation = 40\n",
    "\n",
    "# Do not add leaf names automatically\n",
    "ts.show_leaf_name = False\n",
    "ts.show_scale = False\n",
    "ts.optimal_scale_level = 'mid'\n",
    "ts.margin_top = 5\n",
    "ts.margin_left = 5\n",
    "ts.margin_right = 5\n",
    "ts.force_topology = True\n",
    "ts.title.add_face(TextFace(\"         Probability Tree for Two Register Voters\", fsize=18), column=0)\n",
    "\n",
    "# Use my custom layout\n",
    "ts.layout_fn = ts_layout # from mgt2001.tree\n",
    "t = Tree(\"(((DD 0.1936)Democrats 0.44, (DR 0.1628)Republicans 0.37, (DO 0.0836)Others 0.19)Democrats 0.44,((RD 0.1628)Democrats 0.44, (RR 0.1369)Republicans 0.37, (RO 0.0703)Others 0.19)Republicans 0.37,((OD 0.0836)Democrats 0.44, (OR 0.0703)Republicans 0.37, (OO 0.0361)Others 0.19)Others 0.19)🌳;\", format=8)\n",
    "# Tell ETE to use your custom Tree Style\n",
    "#t.show(tree_style=ts) #print into a file\n",
    "t.render('%%inline', tree_style=ts, dpi=300, h=500, w=625) # 'file_name'"
   ]
  },
  {
   "cell_type": "code",
   "execution_count": 17,
   "metadata": {},
   "outputs": [
    {
     "name": "stdout",
     "output_type": "stream",
     "text": [
      "The probability of both of them have the same party affiliation = DD + RR + OO = 0.3666\n"
     ]
    }
   ],
   "source": [
    "print(\"The probability of both of them have the same party affiliation = DD + RR + OO =\", round((D * D) + (R * R) + (O * O), 4))"
   ]
  },
  {
   "cell_type": "markdown",
   "metadata": {},
   "source": [
    "<h2> Problem 6.77"
   ]
  },
  {
   "cell_type": "code",
   "execution_count": 18,
   "metadata": {},
   "outputs": [
    {
     "name": "stdout",
     "output_type": "stream",
     "text": [
      "flawless: 0.78\n",
      "FR: 0.1848\n",
      "FD: 0.0352\n"
     ]
    }
   ],
   "source": [
    "flawed = 0.22\n",
    "flawless = round(1 - flawed, 2)\n",
    "repairable = 0.84\n",
    "discarded = round(1 - repairable, 2)\n",
    "\n",
    "print(\"flawless:\", flawless)\n",
    "print(\"FR:\", flawed * repairable)\n",
    "print(\"FD:\", flawed * discarded)"
   ]
  },
  {
   "cell_type": "code",
   "execution_count": 19,
   "metadata": {},
   "outputs": [
    {
     "data": {
      "image/png": "[encoded data removed]",
      "text/plain": [
       "<IPython.core.display.Image object>"
      ]
     },
     "execution_count": 19,
     "metadata": {},
     "output_type": "execute_result"
    }
   ],
   "source": [
    "from ete3 import Tree, faces, AttrFace, TreeStyle, TextFace\n",
    "ts = TreeStyle()\n",
    "ts.mode = 'r' # 'c'\n",
    "ts.min_leaf_separation = 40\n",
    "\n",
    "# Do not add leaf names automatically\n",
    "ts.show_leaf_name = False\n",
    "ts.show_scale = False\n",
    "ts.optimal_scale_level = 'mid'\n",
    "ts.margin_top = 5\n",
    "ts.margin_left = 5\n",
    "ts.margin_right = 5\n",
    "ts.force_topology = True\n",
    "ts.title.add_face(TextFace(\"                Probability Tree for PCBs\", fsize=18), column=0)\n",
    "\n",
    "# Use my custom layout\n",
    "ts.layout_fn = ts_layout # from mgt2001.tree\n",
    "t = Tree(\"(Flawless 0.78, ((FR 0.1848)Repairable 0.84, (FD 0.0352)Discarded 0.16)Flawed 0.22)🌳;\", format=8)\n",
    "# Tell ETE to use your custom Tree Style\n",
    "#t.show(tree_style=ts) #print into a file\n",
    "t.render('%%inline', tree_style=ts, dpi=300, h=300, w=625) # 'file_name'"
   ]
  },
  {
   "cell_type": "code",
   "execution_count": 20,
   "metadata": {},
   "outputs": [
    {
     "name": "stdout",
     "output_type": "stream",
     "text": [
      "The probability of does not have to be discarded = flawless + flawed but repairable = flawless + flawed * repairable =  0.9648\n"
     ]
    }
   ],
   "source": [
    "print(\"The probability of does not have to be discarded = flawless + flawed but repairable = flawless + flawed * repairable = \", flawless + flawed * repairable)"
   ]
  },
  {
   "cell_type": "markdown",
   "metadata": {},
   "source": [
    "<h2> Problem 6.85"
   ]
  },
  {
   "cell_type": "code",
   "execution_count": 21,
   "metadata": {},
   "outputs": [
    {
     "name": "stdout",
     "output_type": "stream",
     "text": [
      "The probability of different occupations has student debt:\n"
     ]
    },
    {
     "data": {
      "text/plain": [
       "0    0.1440\n",
       "1    0.0585\n",
       "2    0.1431\n",
       "dtype: float64"
      ]
     },
     "metadata": {},
     "output_type": "display_data"
    }
   ],
   "source": [
    "#讀取資料集\n",
    "df_6_85 = pd.read_excel('Xr06-85.xlsx')\n",
    "\n",
    "#The probability of different occupations has student debt\n",
    "occ_prob = df_6_85[\"Proportion under 40\"] * df_6_85[\"Student Debt\"]\n",
    "print(\"The probability of different occupations has student debt:\")\n",
    "display(occ_prob)"
   ]
  },
  {
   "cell_type": "code",
   "execution_count": 22,
   "metadata": {},
   "outputs": [
    {
     "data": {
      "image/png": "[encoded data removed]",
      "text/plain": [
       "<IPython.core.display.Image object>"
      ]
     },
     "execution_count": 22,
     "metadata": {},
     "output_type": "execute_result"
    }
   ],
   "source": [
    "from ete3 import Tree, faces, AttrFace, TreeStyle, TextFace\n",
    "ts = TreeStyle()\n",
    "ts.mode = 'r' # 'c'\n",
    "ts.min_leaf_separation = 40\n",
    "\n",
    "# Do not add leaf names automatically\n",
    "ts.show_leaf_name = False\n",
    "ts.show_scale = False\n",
    "ts.optimal_scale_level = 'mid'\n",
    "ts.margin_top = 5\n",
    "ts.margin_left = 5\n",
    "ts.margin_right = 5\n",
    "ts.force_topology = True\n",
    "ts.title.add_face(TextFace(\"                Probability Tree for different occupations has student debt\", fsize=18), column=0)\n",
    "\n",
    "# Use my custom layout\n",
    "ts.layout_fn = ts_layout # from mgt2001.tree\n",
    "t = Tree(\"(((MP 0.1440)Student Debt 0.45)Managerial/Professional 0.32, ((TP 0.0585)Student Debt 0.39)Technical/sales/services 0.15, ((OP 0.1431)Student Debt 0.27)Other 0.53)🌳;\", format=8)\n",
    "# Tell ETE to use your custom Tree Style\n",
    "#t.show(tree_style=ts) #print into a file\n",
    "t.render('%%inline', tree_style=ts, dpi=300, h=300, w=625) # 'file_name'"
   ]
  },
  {
   "cell_type": "code",
   "execution_count": 23,
   "metadata": {},
   "outputs": [
    {
     "name": "stdout",
     "output_type": "stream",
     "text": [
      "The probability of randomly selected respondent has student debt = sum of probability of different occupations has student debt = sum (Proportion under 40 * Student Debt) = 0.432\n"
     ]
    }
   ],
   "source": [
    "print(\"The probability of randomly selected respondent has student debt = sum of probability of different occupations has student debt = sum (Proportion under 40 * Student Debt) =\", round(occ_prob[0] + occ_prob[0] + occ_prob[0], 4))"
   ]
  },
  {
   "cell_type": "markdown",
   "metadata": {},
   "source": [
    "<h2> Problem 6.93"
   ]
  },
  {
   "cell_type": "markdown",
   "metadata": {},
   "source": [
    "Interpretation:\n",
    "\n",
    "given heart attack have periodontal disease = 0.85<br>\n",
    "given healthy have periodontal disease = 0.29<br>\n",
    "heart attack = 0.1<br>\n",
    "given periodontal disease have heart attack ?"
   ]
  },
  {
   "cell_type": "code",
   "execution_count": 24,
   "metadata": {},
   "outputs": [],
   "source": [
    "def BayesTheorem(Pre_P):\n",
    "    n = Pre_P.shape[1]\n",
    "    m = Pre_P.shape[0] - 1\n",
    "    # Fst_P is an array representing the previous probability\n",
    "    # Con_P is a matrix representing the previous condition probability\n",
    "    Fst_P = Pre_P[0,]\n",
    "    Con_P = np.zeros((m,n))\n",
    "    for k in range(m):\n",
    "        Con_P[k,] = Pre_P[k+1,]\n",
    "    # Post_P is a matrix representing the joint probability\n",
    "    # P_C_Sum is an array representing the probability of prior event\n",
    "    # Bayes_M_G is a matrix representing the post conditional probability\n",
    "    Post_P = np.zeros((m,n))\n",
    "    P_C_Sum = np.zeros(n)\n",
    "    Bayes_T_P = np.zeros((m,n))\n",
    "    for i in range(m):\n",
    "        Post_P[i,] = Fst_P * Con_P[i,]\n",
    "        P_C_Sum[i] = np.sum(Post_P[i,])    \n",
    "        Bayes_T_P[i,] = Post_P[i,] / P_C_Sum[i]\n",
    "        print(\"# # # # The probability of prior event\", i, \"# # # \\n\")\n",
    "        print(P_C_Sum[i])\n",
    "        print(\"# # # # The Bayes probability given the prior event\", i, \"# # # \\n\")\n",
    "        print(Bayes_T_P[i,])"
   ]
  },
  {
   "cell_type": "code",
   "execution_count": 25,
   "metadata": {},
   "outputs": [
    {
     "name": "stdout",
     "output_type": "stream",
     "text": [
      "# # # # The probability of prior event 0 # # # \n",
      "\n",
      "0.34600000000000003\n",
      "# # # # The Bayes probability given the prior event 0 # # # \n",
      "\n",
      "[0.24566474 0.75433526]\n"
     ]
    }
   ],
   "source": [
    "Prior_P_2 = np.array([[0.1, 1 - 0.1],\n",
    "                      [0.85, 0.29]])\n",
    "BayesTheorem(Prior_P_2)"
   ]
  },
  {
   "cell_type": "markdown",
   "metadata": {},
   "source": [
    "Result:\n",
    "\n",
    "Given periodontal disease have heart attack probability = 0.24566474"
   ]
  },
  {
   "cell_type": "markdown",
   "metadata": {},
   "source": [
    "<h2> Problem 6.101"
   ]
  },
  {
   "cell_type": "markdown",
   "metadata": {},
   "source": [
    "Interpretation:\n",
    "\n",
    "false_positive rate = 0.636<br>\n",
    "false_negative rate = 0.180<br>\n",
    "\n",
    "given cervical cancer but positive = 1 - 0.180<br>\n",
    "given not cervical cancer but positive = 0.636<br>\n",
    "given cervical cancer but negative = 0.180<br>\n",
    "given not cervical cancer but negative = 1 - 0.636<br>\n",
    "cervical cancer rate = 0.02<br>\n",
    "\n",
    "given test have cervical cancer ?"
   ]
  },
  {
   "cell_type": "code",
   "execution_count": 26,
   "metadata": {},
   "outputs": [
    {
     "name": "stdout",
     "output_type": "stream",
     "text": [
      "# # # # The probability of prior event 0 # # # \n",
      "\n",
      "0.6396799999999999\n",
      "# # # # The Bayes probability given the prior event 0 # # # \n",
      "\n",
      "[0.02563782 0.97436218]\n",
      "# # # # The probability of prior event 1 # # # \n",
      "\n",
      "0.36032\n",
      "# # # # The Bayes probability given the prior event 1 # # # \n",
      "\n",
      "[0.00999112 0.99000888]\n"
     ]
    }
   ],
   "source": [
    "Prior_P_2 = np.array([[0.02, 1 - 0.02],\n",
    "                      [1 - 0.180, 0.636],\n",
    "                      [0.180, 1 - 0.636]])\n",
    "BayesTheorem(Prior_P_2)"
   ]
  },
  {
   "cell_type": "markdown",
   "metadata": {},
   "source": [
    "Result:\n",
    "\n",
    "Given positive have cervical cancer probability = 0.02563782<br>\n",
    "Given positive does not have cervical cancer probability = 0.97436218<br>\n",
    "\n",
    "Given negative have cervical cancer probability = 0.00999112<br>\n",
    "Given negative does not have cervical cancer probability = 0.99000888"
   ]
  }
 ],
 "metadata": {
  "kernelspec": {
   "display_name": "Python 3 (ipykernel)",
   "language": "python",
   "name": "python3"
  },
  "language_info": {
   "codemirror_mode": {
    "name": "ipython",
    "version": 3
   },
   "file_extension": ".py",
   "mimetype": "text/x-python",
   "name": "python",
   "nbconvert_exporter": "python",
   "pygments_lexer": "ipython3",
   "version": "3.8.11"
  }
 },
 "nbformat": 4,
 "nbformat_minor": 4
}
