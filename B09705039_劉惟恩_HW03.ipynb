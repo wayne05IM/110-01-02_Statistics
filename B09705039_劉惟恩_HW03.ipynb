{
 "cells": [
  {
   "cell_type": "markdown",
   "id": "0d6e12f1-0d7c-4603-815a-b5ce08f124ae",
   "metadata": {},
   "source": [
    "<h1>B09705039_劉惟恩_HW03"
   ]
  },
  {
   "cell_type": "code",
   "execution_count": 1,
   "id": "e443e516-b658-4658-8253-69f4c57730a8",
   "metadata": {},
   "outputs": [],
   "source": [
    "#載入所需函示庫\n",
    "from matplotlib import pyplot as plt\n",
    "%matplotlib inline\n",
    "# 設定圖形大小; DPI越大圖越大\n",
    "plt.rcParams[\"figure.dpi\"] = 100\n",
    "import seaborn as sns\n",
    "import pandas as pd\n",
    "import numpy as np\n",
    "import math as math"
   ]
  },
  {
   "cell_type": "markdown",
   "id": "033d4a62-63d5-4bd7-b0be-490d690a2734",
   "metadata": {},
   "source": [
    "<h2>Problem 4.35"
   ]
  },
  {
   "cell_type": "code",
   "execution_count": 2,
   "id": "10a86a9c-b699-4c25-82e5-746d2386ca6e",
   "metadata": {},
   "outputs": [
    {
     "name": "stdout",
     "output_type": "stream",
     "text": [
      "Aproximately 68% of observations lies between: 46 54\n",
      "Aproximately 95% of observations lies between: 42 58\n",
      "Aproximately 99.7% of observations lies between: 38 62\n"
     ]
    }
   ],
   "source": [
    "#Since the histogram of the set of data is a bell shape data, according to the empirical rule:\n",
    "mean = 50\n",
    "std = 4\n",
    "\n",
    "print(\"Aproximately 68% of observations lies between:\", mean - 1 * std, mean + 1 * std)\n",
    "print(\"Aproximately 95% of observations lies between:\", mean - 2 * std, mean + 2 * std)\n",
    "print(\"Aproximately 99.7% of observations lies between:\", mean - 3 * std, mean + 3 * std)"
   ]
  },
  {
   "cell_type": "markdown",
   "id": "c7b426ea-30f4-478f-bb5d-9c0f7e7cae97",
   "metadata": {},
   "source": [
    "<h4>Since the histogram of the set of data is a bell shape data, according to the empirical rule: <br>\n",
    "    a. Aproximately 68% of observations lies between: 46 54 <br>\n",
    "    b. Aproximately 95% of observations lies between: 42 58 <br>\n",
    "    c. Aproximately 99.7% of observations lies between: 38 62"
   ]
  },
  {
   "cell_type": "markdown",
   "id": "00e0dad2-be6f-48b2-a0d2-2e16d8dc8dec",
   "metadata": {},
   "source": [
    "<h2>Problem 4.41"
   ]
  },
  {
   "cell_type": "markdown",
   "id": "08a3847a-293a-49b3-82cb-c08402f89175",
   "metadata": {},
   "source": [
    "<h3>a."
   ]
  },
  {
   "cell_type": "code",
   "execution_count": 3,
   "id": "a1c3cc66-5547-4240-90e2-9e1354fade0e",
   "metadata": {},
   "outputs": [
    {
     "name": "stdout",
     "output_type": "stream",
     "text": [
      "Variance:\n",
      "Punter 1    40.215918\n",
      "Punter 2    14.806531\n",
      "Punter 3     3.633061\n",
      "dtype: float64 \n",
      "\n",
      "Standard Deviation:\n",
      "Punter 1    6.341602\n",
      "Punter 2    3.847925\n",
      "Punter 3    1.906059\n",
      "dtype: float64\n"
     ]
    }
   ],
   "source": [
    "df_4_41 = pd.read_excel(\"Xr04-41.xlsx\")\n",
    "\n",
    "print(\"Variance:\")\n",
    "print(df_4_41.var(), \"\\n\")\n",
    "print(\"Standard Deviation:\")\n",
    "print(df_4_41.std())"
   ]
  },
  {
   "cell_type": "markdown",
   "id": "688526eb-663a-4317-8277-107e7f47e5fd",
   "metadata": {},
   "source": [
    "<h3>b."
   ]
  },
  {
   "cell_type": "markdown",
   "id": "59a52560-4c3d-413b-b8df-eec128ec695a",
   "metadata": {},
   "source": [
    "It is obvious that punter 1 has the largest variance and standard deviation, which means that he lacks distance stability and could cause a wide range of scores.<br>\n",
    "While punter 3 has the lowest variance and standard deviation, which means that he has a much better distance stability and could cause similar sorces near the average scores."
   ]
  },
  {
   "cell_type": "markdown",
   "id": "681088ff-74b9-405c-89c9-6ebbeaca7667",
   "metadata": {},
   "source": [
    "<h2>Problem 4.47"
   ]
  },
  {
   "cell_type": "code",
   "execution_count": 4,
   "id": "60b796a3-c1ed-471c-888c-c7194ea07c09",
   "metadata": {},
   "outputs": [
    {
     "name": "stdout",
     "output_type": "stream",
     "text": [
      "Mean: 1937.3162857142854\n",
      "Standard Deviation: 952.260949640941\n"
     ]
    }
   ],
   "source": [
    "df_4_47 = pd.read_excel(\"Xr04-47.xlsx\")\n",
    "\n",
    "sample_bar = df_4_47[\"Property tax\"].mean()\n",
    "var = df_4_47[\"Property tax\"].var() * (df_4_47[\"Property tax\"].count() / (df_4_47[\"Property tax\"].count() - 1))\n",
    "std = math.sqrt(var)\n",
    "\n",
    "print(\"Mean:\", sample_bar)\n",
    "print(\"Standard Deviation:\", std)"
   ]
  },
  {
   "cell_type": "markdown",
   "id": "19bad8eb-fcbe-40b1-a79e-455b9d63f41b",
   "metadata": {},
   "source": [
    "Since the amounts are highly positively skewed, the mean is bigger than the median and the high standard deviation implies that there are extreme values on the large side."
   ]
  },
  {
   "cell_type": "markdown",
   "id": "bda9438c-9ced-4f99-a6af-2a7f9eeb1b54",
   "metadata": {},
   "source": [
    "<h2>Problem 4.61"
   ]
  },
  {
   "cell_type": "code",
   "execution_count": 5,
   "id": "a69da476-2e92-415e-bb3b-cf3a1ee889c6",
   "metadata": {},
   "outputs": [],
   "source": [
    "# This is a function that computes percentile from input data. \n",
    "def percentile(data1, p):\n",
    "    if type(data1) == np.ndarray:        \n",
    "        alldata = data1.copy()\n",
    "        data1 = data1.copy()\n",
    "    else:\n",
    "        alldata = data1.values.copy()\n",
    "        data1 = data1.values.copy()\n",
    "    alldata.sort()\n",
    "    n = alldata.size\n",
    "    l = (n + 1) * p / 100 - 1\n",
    "    f_l = math.floor(l)\n",
    "    c_l = math.ceil(l)\n",
    "    percentile_v = alldata[f_l] + (alldata[c_l] - alldata[f_l]) * (l - f_l)\n",
    "    return percentile_v"
   ]
  },
  {
   "cell_type": "code",
   "execution_count": 6,
   "id": "f39aeca6-232a-4df0-9cc7-126adf16539f",
   "metadata": {},
   "outputs": [
    {
     "name": "stdout",
     "output_type": "stream",
     "text": [
      "First percentile =  13.05\n",
      "Second percentile =  14.7\n",
      "Third percentile =  15.600000000000001\n"
     ]
    }
   ],
   "source": [
    "df_4_61 = pd.read_excel(\"Xr04-61.xlsx\")\n",
    "data = df_4_61[\"X\"]\n",
    "\n",
    "p25 = percentile(data, 25)\n",
    "p50 = percentile(data, 50)\n",
    "p75 = percentile(data, 75)\n",
    "\n",
    "print(\"First percentile = \", p25)\n",
    "print(\"Second percentile = \", p50)\n",
    "print(\"Third percentile = \", p75)"
   ]
  },
  {
   "cell_type": "markdown",
   "id": "8c7241fe-b607-4bb1-891d-be169892df9f",
   "metadata": {},
   "source": [
    "<h2>Problem 4.67"
   ]
  },
  {
   "cell_type": "code",
   "execution_count": 7,
   "id": "4729c4cf-cb4a-43ce-a66d-1a3247a30963",
   "metadata": {},
   "outputs": [
    {
     "name": "stdout",
     "output_type": "stream",
     "text": [
      "The correct speed limit is: 75.0\n"
     ]
    }
   ],
   "source": [
    "df_4_67 = pd.read_excel(\"Xr04-67.xlsx\")\n",
    "data = df_4_67[\"Speeds\"]\n",
    "\n",
    "p85 = percentile(data, 85)\n",
    "print(\"The correct speed limit is:\", p85)"
   ]
  },
  {
   "cell_type": "markdown",
   "id": "d07c3cd1-69a8-4222-ba8b-8cff2186d668",
   "metadata": {},
   "source": [
    "<h2>Problem 4.75"
   ]
  },
  {
   "cell_type": "code",
   "execution_count": 8,
   "id": "8acefaaf-a75c-45dd-a06e-f344407e7907",
   "metadata": {},
   "outputs": [
    {
     "name": "stdout",
     "output_type": "stream",
     "text": [
      "First Quartile =  9836.97277836036\n",
      "Second Quartile =  12224.261765298434\n",
      "Third Quartile =  14597.98836724367\n"
     ]
    }
   ],
   "source": [
    "df_4_75 = pd.read_excel(\"Xr04-75.xlsx\")\n",
    "data = df_4_75[\"Mortgage Deduction\"]\n",
    "\n",
    "p25 = percentile(data, 25)\n",
    "p50 = percentile(data, 50)\n",
    "p75 = percentile(data, 75)\n",
    "\n",
    "print(\"First Quartile = \", p25)\n",
    "print(\"Second Quartile = \", p50)\n",
    "print(\"Third Quartile = \", p75)"
   ]
  },
  {
   "cell_type": "markdown",
   "id": "88da87b2-e40c-4061-b746-c4ae075e1d5f",
   "metadata": {},
   "source": [
    "There are 50% of tax returns lies approximately between 14598 ~ 9837, and the middle number approximately equals 12224."
   ]
  },
  {
   "cell_type": "markdown",
   "id": "3e7419cf-62b3-4bbb-aa3b-d33f6cf01ca8",
   "metadata": {},
   "source": [
    "<h2>Compute and interpret coefficients of Skewness and Kurtosis for 4.67 and 4.75"
   ]
  },
  {
   "cell_type": "markdown",
   "id": "dcec861c-e134-495c-8bc0-050f648df027",
   "metadata": {},
   "source": [
    "<h3>4.67"
   ]
  },
  {
   "cell_type": "code",
   "execution_count": 9,
   "id": "595eee3a-b85f-4084-866a-d1814bab8427",
   "metadata": {},
   "outputs": [
    {
     "name": "stdout",
     "output_type": "stream",
     "text": [
      "skewness =  [0.11491526]\n",
      "kurtosis =  [3.53531935]\n"
     ]
    }
   ],
   "source": [
    "from scipy.stats import moment\n",
    "\n",
    "m2 = moment(df_4_67, moment=2)\n",
    "m3 = moment(df_4_67, moment=3)\n",
    "m4 = moment(df_4_67, moment=4)\n",
    "\n",
    "skew_f = m3 / pow(pow(m2, 0.5), 3)\n",
    "print(\"skewness = \", skew_f)\n",
    "kurtosis_f = m4 / pow(m2, 2)\n",
    "print(\"kurtosis = \", kurtosis_f)"
   ]
  },
  {
   "cell_type": "markdown",
   "id": "b910aef0-34d7-49d0-bc8f-01cc6ecb1111",
   "metadata": {},
   "source": [
    "Since the skewness of the data > 0, it slightly skewed to the right. The kurtosis of the data > 3 is a narrow-tall shape."
   ]
  },
  {
   "cell_type": "markdown",
   "id": "30bd4d64-a8bb-426b-8a00-ab7575960d75",
   "metadata": {},
   "source": [
    "<h3>4.75"
   ]
  },
  {
   "cell_type": "code",
   "execution_count": 10,
   "id": "5e565c08-4e4d-4897-a9ae-7dfa2522269b",
   "metadata": {},
   "outputs": [
    {
     "name": "stdout",
     "output_type": "stream",
     "text": [
      "skewness =  [-0.02519243]\n",
      "kurtosis =  [2.68429489]\n"
     ]
    }
   ],
   "source": [
    "m2 = moment(df_4_75, moment=2)\n",
    "m3 = moment(df_4_75, moment=3)\n",
    "m4 = moment(df_4_75, moment=4)\n",
    "\n",
    "skew_f = m3 / pow(pow(m2, 0.5), 3)\n",
    "print(\"skewness = \", skew_f)\n",
    "kurtosis_f = m4 / pow(m2, 2)\n",
    "print(\"kurtosis = \", kurtosis_f)"
   ]
  },
  {
   "cell_type": "markdown",
   "id": "8ec565dd-737f-4dcd-a0ce-ea36717d0a28",
   "metadata": {},
   "source": [
    "Since the skewness of the data < 0, it slightly skewed to the left. The kurtosis of the data < 3 is a wide-low shape."
   ]
  },
  {
   "cell_type": "markdown",
   "id": "ea9ba269-56a2-4bad-9589-5bffcb185712",
   "metadata": {},
   "source": [
    "<h2>Compute and interpret covariance and r for 4.95 and 4.101"
   ]
  },
  {
   "cell_type": "markdown",
   "id": "7f850bf6-13e8-4744-9b95-fdaea51be27b",
   "metadata": {},
   "source": [
    "<h3>4.95"
   ]
  },
  {
   "cell_type": "code",
   "execution_count": 11,
   "id": "01dd2497-92d5-4812-8e5e-858c71e61b50",
   "metadata": {},
   "outputs": [
    {
     "data": {
      "image/png": "[encoded data removed]",
      "text/plain": [
       "<Figure size 600x400 with 1 Axes>"
      ]
     },
     "metadata": {
      "needs_background": "light"
     },
     "output_type": "display_data"
    },
    {
     "name": "stdout",
     "output_type": "stream",
     "text": [
      "Covariance Matrix:\n",
      "[[   74.76126421   531.51223141]\n",
      " [  531.51223141 14278.5010912 ]]\n",
      "\n",
      "\n",
      "r Matrix:\n",
      "[[1.        0.5144387]\n",
      " [0.5144387 1.       ]]\n"
     ]
    }
   ],
   "source": [
    "df_4_95 = pd.read_excel('Xr04-95.xlsx')\n",
    "\n",
    "#step 1: draw the scatter plot\n",
    "_ = sns.regplot(x='Age', y= 'Alcohol ', data = df_4_95, color = 'r', ci = None)\n",
    "plt.ylabel('Alcohol (money spent)')\n",
    "plt.title('Scatter Plot for Age vs. Alcohol')\n",
    "plt.show()\n",
    "\n",
    "#Compute the covariance matrix\n",
    "cov_mat = np.cov(df_4_95[['Age', 'Alcohol ']].values, rowvar = False)\n",
    "print(\"Covariance Matrix:\")\n",
    "print(cov_mat)\n",
    "print(\"\\n\")\n",
    "\n",
    "#Compute the correlation matrix (r matrix)\n",
    "cor_mat = np.corrcoef(df_4_95[['Age', 'Alcohol ']].values, rowvar = False)\n",
    "print(\"r Matrix:\")\n",
    "print(cor_mat)"
   ]
  },
  {
   "cell_type": "markdown",
   "id": "87b02403-7f2a-4f25-99be-eeb2f62f7eb2",
   "metadata": {},
   "source": [
    "Since the covariance is approximately 531 > 0, the age and alcohol moves the same direction. The r value approximately 0.5 is moderately strong linear relationship."
   ]
  },
  {
   "cell_type": "markdown",
   "id": "145045b4-5dd9-4278-b1d0-b1102de17b43",
   "metadata": {},
   "source": [
    "<h3>4.101"
   ]
  },
  {
   "cell_type": "code",
   "execution_count": 12,
   "id": "96fcee39-4f02-4a6c-9d2b-ec1b3636f69c",
   "metadata": {},
   "outputs": [
    {
     "data": {
      "image/png": "[encoded data removed]",
      "text/plain": [
       "<Figure size 600x400 with 1 Axes>"
      ]
     },
     "metadata": {
      "needs_background": "light"
     },
     "output_type": "display_data"
    },
    {
     "name": "stdout",
     "output_type": "stream",
     "text": [
      "Covariance Matrix:\n",
      "[[5.31794186e+07 4.00912816e+04]\n",
      " [4.00912816e+04 1.09274713e+02]]\n",
      "\n",
      "\n",
      "r Matrix:\n",
      "[[1.         0.52591833]\n",
      " [0.52591833 1.        ]]\n"
     ]
    }
   ],
   "source": [
    "df_4_101 = pd.read_excel('Xr04-101.xlsx')\n",
    "\n",
    "#step 1: draw the scatter plot\n",
    "_ = sns.regplot(x= 'Home Attendance', y= 'Wins', data = df_4_101, color = 'r', ci = None)\n",
    "plt.title('Scatter Plot for Home Attendance vs. Wins')\n",
    "plt.show()\n",
    "\n",
    "#Compute the covariance matrix\n",
    "cov_mat = np.cov(df_4_101[['Home Attendance', 'Wins']].values, rowvar = False)\n",
    "print(\"Covariance Matrix:\")\n",
    "print(cov_mat)\n",
    "print(\"\\n\")\n",
    "\n",
    "#Compute the correlation matrix (r matrix)\n",
    "cor_mat = np.corrcoef(df_4_101[['Home Attendance', 'Wins']].values, rowvar = False)\n",
    "print(\"r Matrix:\")\n",
    "print(cor_mat)"
   ]
  },
  {
   "cell_type": "markdown",
   "id": "6082692b-ee88-4615-8391-8651c8ed4644",
   "metadata": {},
   "source": [
    "Since the covariance is 4.00912816e+04 >> 0, the Home Attendance and Wins moves the same direction. The r value approximately 0.5 is moderately strong linear relationship."
   ]
  }
 ],
 "metadata": {
  "kernelspec": {
   "display_name": "Python 3 (ipykernel)",
   "language": "python",
   "name": "python3"
  },
  "language_info": {
   "codemirror_mode": {
    "name": "ipython",
    "version": 3
   },
   "file_extension": ".py",
   "mimetype": "text/x-python",
   "name": "python",
   "nbconvert_exporter": "python",
   "pygments_lexer": "ipython3",
   "version": "3.8.11"
  }
 },
 "nbformat": 4,
 "nbformat_minor": 5
}
