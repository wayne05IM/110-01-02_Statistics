{
 "cells": [
  {
   "cell_type": "markdown",
   "id": "ecf8e32b-72e6-429d-8e44-9498921a525b",
   "metadata": {},
   "source": [
    "<h1>B09705039_劉惟恩_HW05"
   ]
  },
  {
   "cell_type": "code",
   "execution_count": 1,
   "id": "8eb6473b-9e7b-470c-8072-7ffce0dca4d4",
   "metadata": {},
   "outputs": [],
   "source": [
    "# 載入所需函示庫\n",
    "import pandas as pd\n",
    "import numpy as np\n",
    "import scipy.stats as stats\n",
    "import statsmodels.api as sm\n",
    "import statsmodels.stats.api as sms\n",
    "import statsmodels.formula.api as smf\n",
    "import statsmodels.stats.multicomp as smm\n",
    "import statsmodels\n",
    "import scipy\n",
    "from matplotlib import pyplot as plt\n",
    "%matplotlib inline\n",
    "# 設定圖形大小; DPI越大圖越大\n",
    "plt.rcParams[\"figure.dpi\"] = 120"
   ]
  },
  {
   "cell_type": "markdown",
   "id": "d2ec4a59-e45e-4179-b549-894ea887d240",
   "metadata": {},
   "source": [
    "<h2> Problem 15.13"
   ]
  },
  {
   "cell_type": "code",
   "execution_count": 2,
   "id": "a188aaf9-f207-4758-96c0-be8c68ebc559",
   "metadata": {},
   "outputs": [
    {
     "name": "stdout",
     "output_type": "stream",
     "text": [
      "Head of dataset:\n"
     ]
    },
    {
     "data": {
      "text/html": [
       "<div>\n",
       "<style scoped>\n",
       "    .dataframe tbody tr th:only-of-type {\n",
       "        vertical-align: middle;\n",
       "    }\n",
       "\n",
       "    .dataframe tbody tr th {\n",
       "        vertical-align: top;\n",
       "    }\n",
       "\n",
       "    .dataframe thead th {\n",
       "        text-align: right;\n",
       "    }\n",
       "</style>\n",
       "<table border=\"1\" class=\"dataframe\">\n",
       "  <thead>\n",
       "    <tr style=\"text-align: right;\">\n",
       "      <th></th>\n",
       "      <th>Car type</th>\n",
       "    </tr>\n",
       "  </thead>\n",
       "  <tbody>\n",
       "    <tr>\n",
       "      <th>0</th>\n",
       "      <td>3</td>\n",
       "    </tr>\n",
       "    <tr>\n",
       "      <th>1</th>\n",
       "      <td>2</td>\n",
       "    </tr>\n",
       "    <tr>\n",
       "      <th>2</th>\n",
       "      <td>2</td>\n",
       "    </tr>\n",
       "    <tr>\n",
       "      <th>3</th>\n",
       "      <td>3</td>\n",
       "    </tr>\n",
       "    <tr>\n",
       "      <th>4</th>\n",
       "      <td>2</td>\n",
       "    </tr>\n",
       "  </tbody>\n",
       "</table>\n",
       "</div>"
      ],
      "text/plain": [
       "   Car type\n",
       "0         3\n",
       "1         2\n",
       "2         2\n",
       "3         3\n",
       "4         2"
      ]
     },
     "metadata": {},
     "output_type": "display_data"
    },
    {
     "name": "stdout",
     "output_type": "stream",
     "text": [
      "Tail of dataset:\n"
     ]
    },
    {
     "data": {
      "text/html": [
       "<div>\n",
       "<style scoped>\n",
       "    .dataframe tbody tr th:only-of-type {\n",
       "        vertical-align: middle;\n",
       "    }\n",
       "\n",
       "    .dataframe tbody tr th {\n",
       "        vertical-align: top;\n",
       "    }\n",
       "\n",
       "    .dataframe thead th {\n",
       "        text-align: right;\n",
       "    }\n",
       "</style>\n",
       "<table border=\"1\" class=\"dataframe\">\n",
       "  <thead>\n",
       "    <tr style=\"text-align: right;\">\n",
       "      <th></th>\n",
       "      <th>Car type</th>\n",
       "    </tr>\n",
       "  </thead>\n",
       "  <tbody>\n",
       "    <tr>\n",
       "      <th>192</th>\n",
       "      <td>2</td>\n",
       "    </tr>\n",
       "    <tr>\n",
       "      <th>193</th>\n",
       "      <td>1</td>\n",
       "    </tr>\n",
       "    <tr>\n",
       "      <th>194</th>\n",
       "      <td>3</td>\n",
       "    </tr>\n",
       "    <tr>\n",
       "      <th>195</th>\n",
       "      <td>3</td>\n",
       "    </tr>\n",
       "    <tr>\n",
       "      <th>196</th>\n",
       "      <td>4</td>\n",
       "    </tr>\n",
       "  </tbody>\n",
       "</table>\n",
       "</div>"
      ],
      "text/plain": [
       "     Car type\n",
       "192         2\n",
       "193         1\n",
       "194         3\n",
       "195         3\n",
       "196         4"
      ]
     },
     "metadata": {},
     "output_type": "display_data"
    }
   ],
   "source": [
    "# 讀取資料集\n",
    "df1 = pd.read_excel('Xr15-13.xlsx')\n",
    "\n",
    "print('Head of dataset:')\n",
    "display(df1.head())\n",
    "\n",
    "print(\"Tail of dataset:\")\n",
    "display(df1.tail())"
   ]
  },
  {
   "cell_type": "markdown",
   "id": "122f1f24-2554-4251-a13a-85e0552c72ec",
   "metadata": {},
   "source": [
    "Hypotheses:<br>\n",
    "Define $a_i$ as the proportion of car type $i$ of license records. <br>\n",
    "Define $p_i$ as the proprotion of car type $i$ involved in accident. <br>\n",
    "\n",
    "$H_0$: $p_i$ = $a_i$ <br>\n",
    "$H_1$: At least one $p_i \\neq a_i$"
   ]
  },
  {
   "cell_type": "code",
   "execution_count": 3,
   "id": "8a9a1dd8-f28b-4277-b976-d9685cc47ba9",
   "metadata": {},
   "outputs": [
    {
     "name": "stdout",
     "output_type": "stream",
     "text": [
      "Chi-squared test: statistics = 6.0000, p-value = 0.1116\n",
      "Critical value = 7.8147 (defree of freedom = 3)\n"
     ]
    }
   ],
   "source": [
    "df2 = df1[\"Car type\"].value_counts()\n",
    "\n",
    "nobs = df1.count()[\"Car type\"]\n",
    "alpha = 0.05\n",
    "prob_e = np.array([0.15, 0.25, 0.40, 0.20])\n",
    "freq_e = nobs * prob_e\n",
    "freq_o = np.array([df2[1], df2[2], df2[3], df2[4]])\n",
    "\n",
    "if np.sum(freq_e < 5) > 0:\n",
    "    print(\"Rule of five is not met. \")\n",
    "else:\n",
    "    stat, pvalue = stats.chisquare(freq_o, freq_e)\n",
    "    print(\"Chi-squared test: statistics = %0.4f, p-value = %0.4f\" % (stat, pvalue))\n",
    "\n",
    "df3 = freq_o.shape[0]-1\n",
    "crit_value = stats.chi2.ppf(1 - alpha, df3)\n",
    "print(\"Critical value = %0.4f (defree of freedom = %d)\" % (crit_value, df3))"
   ]
  },
  {
   "cell_type": "markdown",
   "id": "c416ba52-6690-4b91-9c94-27e242f9ad55",
   "metadata": {},
   "source": [
    "Since p-value = 0.1116 > 0.05, there is no sufficient evidence to reject $H_0$.<br>\n",
    "Thus, we cannot infer that certain sizes of cars are involved in a higher than expected percentage of accidents."
   ]
  },
  {
   "cell_type": "markdown",
   "id": "5d62fc4f-bdcc-4253-97f1-422cc41b7340",
   "metadata": {},
   "source": [
    "<h2> Problem 15.19"
   ]
  },
  {
   "cell_type": "code",
   "execution_count": 4,
   "id": "4a0b6508-6b33-44a6-b8e9-2717ab4b8a7e",
   "metadata": {},
   "outputs": [
    {
     "name": "stdout",
     "output_type": "stream",
     "text": [
      "Head of dataset:\n"
     ]
    },
    {
     "data": {
      "text/html": [
       "<div>\n",
       "<style scoped>\n",
       "    .dataframe tbody tr th:only-of-type {\n",
       "        vertical-align: middle;\n",
       "    }\n",
       "\n",
       "    .dataframe tbody tr th {\n",
       "        vertical-align: top;\n",
       "    }\n",
       "\n",
       "    .dataframe thead th {\n",
       "        text-align: right;\n",
       "    }\n",
       "</style>\n",
       "<table border=\"1\" class=\"dataframe\">\n",
       "  <thead>\n",
       "    <tr style=\"text-align: right;\">\n",
       "      <th></th>\n",
       "      <th>Month</th>\n",
       "      <th>Number of tornadoes</th>\n",
       "    </tr>\n",
       "  </thead>\n",
       "  <tbody>\n",
       "    <tr>\n",
       "      <th>0</th>\n",
       "      <td>January</td>\n",
       "      <td>26</td>\n",
       "    </tr>\n",
       "    <tr>\n",
       "      <th>1</th>\n",
       "      <td>February</td>\n",
       "      <td>2</td>\n",
       "    </tr>\n",
       "    <tr>\n",
       "      <th>2</th>\n",
       "      <td>March</td>\n",
       "      <td>13</td>\n",
       "    </tr>\n",
       "    <tr>\n",
       "      <th>3</th>\n",
       "      <td>April</td>\n",
       "      <td>185</td>\n",
       "    </tr>\n",
       "    <tr>\n",
       "      <th>4</th>\n",
       "      <td>May</td>\n",
       "      <td>414</td>\n",
       "    </tr>\n",
       "  </tbody>\n",
       "</table>\n",
       "</div>"
      ],
      "text/plain": [
       "      Month  Number of tornadoes\n",
       "0   January                   26\n",
       "1  February                    2\n",
       "2     March                   13\n",
       "3     April                  185\n",
       "4       May                  414"
      ]
     },
     "metadata": {},
     "output_type": "display_data"
    },
    {
     "name": "stdout",
     "output_type": "stream",
     "text": [
      "Tail of dataset:\n"
     ]
    },
    {
     "data": {
      "text/html": [
       "<div>\n",
       "<style scoped>\n",
       "    .dataframe tbody tr th:only-of-type {\n",
       "        vertical-align: middle;\n",
       "    }\n",
       "\n",
       "    .dataframe tbody tr th {\n",
       "        vertical-align: top;\n",
       "    }\n",
       "\n",
       "    .dataframe thead th {\n",
       "        text-align: right;\n",
       "    }\n",
       "</style>\n",
       "<table border=\"1\" class=\"dataframe\">\n",
       "  <thead>\n",
       "    <tr style=\"text-align: right;\">\n",
       "      <th></th>\n",
       "      <th>Month</th>\n",
       "      <th>Number of tornadoes</th>\n",
       "    </tr>\n",
       "  </thead>\n",
       "  <tbody>\n",
       "    <tr>\n",
       "      <th>7</th>\n",
       "      <td>August</td>\n",
       "      <td>44</td>\n",
       "    </tr>\n",
       "    <tr>\n",
       "      <th>8</th>\n",
       "      <td>September</td>\n",
       "      <td>24</td>\n",
       "    </tr>\n",
       "    <tr>\n",
       "      <th>9</th>\n",
       "      <td>October</td>\n",
       "      <td>57</td>\n",
       "    </tr>\n",
       "    <tr>\n",
       "      <th>10</th>\n",
       "      <td>November</td>\n",
       "      <td>95</td>\n",
       "    </tr>\n",
       "    <tr>\n",
       "      <th>11</th>\n",
       "      <td>December</td>\n",
       "      <td>93</td>\n",
       "    </tr>\n",
       "  </tbody>\n",
       "</table>\n",
       "</div>"
      ],
      "text/plain": [
       "        Month  Number of tornadoes\n",
       "7      August                   44\n",
       "8   September                   24\n",
       "9     October                   57\n",
       "10   November                   95\n",
       "11   December                   93"
      ]
     },
     "metadata": {},
     "output_type": "display_data"
    }
   ],
   "source": [
    "# 讀取資料集\n",
    "df1 = pd.read_excel('Xr15-19.xlsx')\n",
    "\n",
    "print('Head of dataset:')\n",
    "display(df1.head())\n",
    "\n",
    "print(\"Tail of dataset:\")\n",
    "display(df1.tail())"
   ]
  },
  {
   "cell_type": "markdown",
   "id": "156c731d-3a40-44c1-8fd7-f5bdb30f972b",
   "metadata": {},
   "source": [
    "Hypotheses:<br>\n",
    "Define $a_i$ as the proportion of tornadoes struck the United States between 2000 and 2014 in month $i$. (1 as Jan, 2 as Feb ......) <br>\n",
    "Define $p_i$ as the proportion of tornadoes struck the United States in 2015 in month $i$. <br>\n",
    "\n",
    "$H_0$: $p_i$ = $a_i$ <br>\n",
    "$H_1$: At least one $p_i \\neq a_i$"
   ]
  },
  {
   "cell_type": "markdown",
   "id": "150cf967-b99c-415c-bef8-7890d8c0c2cf",
   "metadata": {},
   "source": [
    "The sum of $a_i$ is not 100%, we add 0.1% to month 2 and 7 ,since it has .0% which implies a rounding from the original data.  "
   ]
  },
  {
   "cell_type": "code",
   "execution_count": 5,
   "id": "33c904d8-e4c4-44b7-a62e-d43f994c8ef4",
   "metadata": {},
   "outputs": [
    {
     "name": "stdout",
     "output_type": "stream",
     "text": [
      "Chi-squared test: statistics = 348.0236, p-value = 0.0000\n",
      "Critical value = 19.6751 (defree of freedom = 11)\n"
     ]
    }
   ],
   "source": [
    "nobs = df1[\"Number of tornadoes\"].sum()\n",
    "alpha = 0.05\n",
    "prob_e = np.array([0.024, 0.031, 0.067, 0.169, 0.212, 0.174, 0.081, 0.057, 0.059, 0.049, 0.049, 0.028])\n",
    "freq_e = nobs * prob_e\n",
    "freq_o = np.array(df1[\"Number of tornadoes\"])\n",
    "\n",
    "if np.sum(freq_e < 5) > 0:\n",
    "    print(\"Rule of five is not met. \")\n",
    "else:\n",
    "    stat, pvalue = stats.chisquare(freq_o, freq_e)\n",
    "    print(\"Chi-squared test: statistics = %0.4f, p-value = %0.4f\" % (stat, pvalue))\n",
    "\n",
    "df3 = freq_o.shape[0]-1\n",
    "crit_value = stats.chi2.ppf(1 - alpha, df3)\n",
    "print(\"Critical value = %0.4f (defree of freedom = %d)\" % (crit_value, df3))"
   ]
  },
  {
   "cell_type": "markdown",
   "id": "aa8a9cc7-cf73-46ad-947d-1c78718e4ab8",
   "metadata": {},
   "source": [
    "Since p-value = 0.0000... < 0.05, there is sufficient evidence to reject $H_0$, in favor of $H_1$.<br>\n",
    "Thus, we can infer that the percentages have changed."
   ]
  },
  {
   "cell_type": "markdown",
   "id": "69d28230-94ed-4c0f-a076-95e59a7f075d",
   "metadata": {},
   "source": [
    "<h2> Problem 15.38"
   ]
  },
  {
   "cell_type": "code",
   "execution_count": 6,
   "id": "46945fa5-05d3-4e7c-98e1-5dd00cc6314d",
   "metadata": {},
   "outputs": [
    {
     "name": "stdout",
     "output_type": "stream",
     "text": [
      "Head of dataset:\n"
     ]
    },
    {
     "data": {
      "text/html": [
       "<div>\n",
       "<style scoped>\n",
       "    .dataframe tbody tr th:only-of-type {\n",
       "        vertical-align: middle;\n",
       "    }\n",
       "\n",
       "    .dataframe tbody tr th {\n",
       "        vertical-align: top;\n",
       "    }\n",
       "\n",
       "    .dataframe thead th {\n",
       "        text-align: right;\n",
       "    }\n",
       "</style>\n",
       "<table border=\"1\" class=\"dataframe\">\n",
       "  <thead>\n",
       "    <tr style=\"text-align: right;\">\n",
       "      <th></th>\n",
       "      <th>Education</th>\n",
       "      <th>Smoker</th>\n",
       "    </tr>\n",
       "  </thead>\n",
       "  <tbody>\n",
       "    <tr>\n",
       "      <th>0</th>\n",
       "      <td>2</td>\n",
       "      <td>1</td>\n",
       "    </tr>\n",
       "    <tr>\n",
       "      <th>1</th>\n",
       "      <td>2</td>\n",
       "      <td>1</td>\n",
       "    </tr>\n",
       "    <tr>\n",
       "      <th>2</th>\n",
       "      <td>4</td>\n",
       "      <td>2</td>\n",
       "    </tr>\n",
       "    <tr>\n",
       "      <th>3</th>\n",
       "      <td>2</td>\n",
       "      <td>1</td>\n",
       "    </tr>\n",
       "    <tr>\n",
       "      <th>4</th>\n",
       "      <td>3</td>\n",
       "      <td>2</td>\n",
       "    </tr>\n",
       "  </tbody>\n",
       "</table>\n",
       "</div>"
      ],
      "text/plain": [
       "   Education  Smoker\n",
       "0          2       1\n",
       "1          2       1\n",
       "2          4       2\n",
       "3          2       1\n",
       "4          3       2"
      ]
     },
     "metadata": {},
     "output_type": "display_data"
    },
    {
     "name": "stdout",
     "output_type": "stream",
     "text": [
      "Tail of dataset:\n"
     ]
    },
    {
     "data": {
      "text/html": [
       "<div>\n",
       "<style scoped>\n",
       "    .dataframe tbody tr th:only-of-type {\n",
       "        vertical-align: middle;\n",
       "    }\n",
       "\n",
       "    .dataframe tbody tr th {\n",
       "        vertical-align: top;\n",
       "    }\n",
       "\n",
       "    .dataframe thead th {\n",
       "        text-align: right;\n",
       "    }\n",
       "</style>\n",
       "<table border=\"1\" class=\"dataframe\">\n",
       "  <thead>\n",
       "    <tr style=\"text-align: right;\">\n",
       "      <th></th>\n",
       "      <th>Education</th>\n",
       "      <th>Smoker</th>\n",
       "    </tr>\n",
       "  </thead>\n",
       "  <tbody>\n",
       "    <tr>\n",
       "      <th>995</th>\n",
       "      <td>2</td>\n",
       "      <td>2</td>\n",
       "    </tr>\n",
       "    <tr>\n",
       "      <th>996</th>\n",
       "      <td>2</td>\n",
       "      <td>2</td>\n",
       "    </tr>\n",
       "    <tr>\n",
       "      <th>997</th>\n",
       "      <td>2</td>\n",
       "      <td>1</td>\n",
       "    </tr>\n",
       "    <tr>\n",
       "      <th>998</th>\n",
       "      <td>2</td>\n",
       "      <td>1</td>\n",
       "    </tr>\n",
       "    <tr>\n",
       "      <th>999</th>\n",
       "      <td>3</td>\n",
       "      <td>1</td>\n",
       "    </tr>\n",
       "  </tbody>\n",
       "</table>\n",
       "</div>"
      ],
      "text/plain": [
       "     Education  Smoker\n",
       "995          2       2\n",
       "996          2       2\n",
       "997          2       1\n",
       "998          2       1\n",
       "999          3       1"
      ]
     },
     "metadata": {},
     "output_type": "display_data"
    }
   ],
   "source": [
    "# 讀取資料集\n",
    "df1 = pd.read_excel('Xr15-38.xlsx')\n",
    "\n",
    "print('Head of dataset:')\n",
    "display(df1.head())\n",
    "\n",
    "print(\"Tail of dataset:\")\n",
    "display(df1.tail())"
   ]
  },
  {
   "cell_type": "markdown",
   "id": "4651c7cc-f458-40a3-a56c-909b5b8de595",
   "metadata": {},
   "source": [
    "Hypotheses:<br>\n",
    "$H_0$: The Educational level is independent of continued to smoke 1 year later. <br>\n",
    "$H_1$: The Educational level is dependent of continued to smoke 1 year later."
   ]
  },
  {
   "cell_type": "code",
   "execution_count": 7,
   "id": "b7208fb2-4fd4-48d9-a815-fc3f1574706b",
   "metadata": {},
   "outputs": [
    {
     "name": "stdout",
     "output_type": "stream",
     "text": [
      "Contingency Table:\n"
     ]
    },
    {
     "data": {
      "text/html": [
       "<div>\n",
       "<style scoped>\n",
       "    .dataframe tbody tr th:only-of-type {\n",
       "        vertical-align: middle;\n",
       "    }\n",
       "\n",
       "    .dataframe tbody tr th {\n",
       "        vertical-align: top;\n",
       "    }\n",
       "\n",
       "    .dataframe thead th {\n",
       "        text-align: right;\n",
       "    }\n",
       "</style>\n",
       "<table border=\"1\" class=\"dataframe\">\n",
       "  <thead>\n",
       "    <tr style=\"text-align: right;\">\n",
       "      <th>Smoker</th>\n",
       "      <th>1</th>\n",
       "      <th>2</th>\n",
       "    </tr>\n",
       "    <tr>\n",
       "      <th>Education</th>\n",
       "      <th></th>\n",
       "      <th></th>\n",
       "    </tr>\n",
       "  </thead>\n",
       "  <tbody>\n",
       "    <tr>\n",
       "      <th>1</th>\n",
       "      <td>34</td>\n",
       "      <td>23</td>\n",
       "    </tr>\n",
       "    <tr>\n",
       "      <th>2</th>\n",
       "      <td>251</td>\n",
       "      <td>212</td>\n",
       "    </tr>\n",
       "    <tr>\n",
       "      <th>3</th>\n",
       "      <td>159</td>\n",
       "      <td>248</td>\n",
       "    </tr>\n",
       "    <tr>\n",
       "      <th>4</th>\n",
       "      <td>16</td>\n",
       "      <td>57</td>\n",
       "    </tr>\n",
       "  </tbody>\n",
       "</table>\n",
       "</div>"
      ],
      "text/plain": [
       "Smoker       1    2\n",
       "Education          \n",
       "1           34   23\n",
       "2          251  212\n",
       "3          159  248\n",
       "4           16   57"
      ]
     },
     "metadata": {},
     "output_type": "display_data"
    }
   ],
   "source": [
    "# 列出Contingency Table\n",
    "cont1 = pd.crosstab(df1[\"Education\"], df1[\"Smoker\"])\n",
    "print(\"Contingency Table:\")\n",
    "display(cont1)"
   ]
  },
  {
   "cell_type": "code",
   "execution_count": 8,
   "id": "ce72bdb5-4b46-4e4b-be38-bbf712301420",
   "metadata": {},
   "outputs": [
    {
     "name": "stdout",
     "output_type": "stream",
     "text": [
      "Chi-squared Statistics = 41.7645\n",
      "Degree of freedom = 3.0000\n",
      "p-value = 0.0000\n",
      "Expected Frequency:\n",
      "[[ 26.22  30.78]\n",
      " [212.98 250.02]\n",
      " [187.22 219.78]\n",
      " [ 33.58  39.42]]\n"
     ]
    }
   ],
   "source": [
    "chi2, p, dof, ex = stats.chi2_contingency(cont1, correction=False)\n",
    "print(\"Chi-squared Statistics = %0.4f\" % chi2)\n",
    "print(\"Degree of freedom = %0.4f\" % dof)\n",
    "print(\"p-value = %0.4f\" % p)\n",
    "print(\"Expected Frequency:\")\n",
    "print(ex)"
   ]
  },
  {
   "cell_type": "markdown",
   "id": "07475169-1a33-4976-87a5-194482abb363",
   "metadata": {},
   "source": [
    "All the expected values satisfies rule of five.<br>\n",
    "\n",
    "Since p-value = 0.0000... < 0.05, there is sufficient evidence to reject $H_0$, in favor of $H_1$.<br>\n",
    "Thus, we can infer that the amount of education is a factor in determining whether a smoker will quit."
   ]
  },
  {
   "cell_type": "markdown",
   "id": "cb252f0b-6693-4d8b-9c28-d8fb41448781",
   "metadata": {},
   "source": [
    "<h2>Problem 15.43"
   ]
  },
  {
   "cell_type": "code",
   "execution_count": 9,
   "id": "3247d27a-f76e-4420-b88e-af5a4226e9d3",
   "metadata": {},
   "outputs": [
    {
     "name": "stdout",
     "output_type": "stream",
     "text": [
      "Head of dataset:\n"
     ]
    },
    {
     "data": {
      "text/html": [
       "<div>\n",
       "<style scoped>\n",
       "    .dataframe tbody tr th:only-of-type {\n",
       "        vertical-align: middle;\n",
       "    }\n",
       "\n",
       "    .dataframe tbody tr th {\n",
       "        vertical-align: top;\n",
       "    }\n",
       "\n",
       "    .dataframe thead th {\n",
       "        text-align: right;\n",
       "    }\n",
       "</style>\n",
       "<table border=\"1\" class=\"dataframe\">\n",
       "  <thead>\n",
       "    <tr style=\"text-align: right;\">\n",
       "      <th></th>\n",
       "      <th>Year 2000</th>\n",
       "      <th>Year 2005</th>\n",
       "      <th>Year 2010</th>\n",
       "    </tr>\n",
       "  </thead>\n",
       "  <tbody>\n",
       "    <tr>\n",
       "      <th>0</th>\n",
       "      <td>3.0</td>\n",
       "      <td>1</td>\n",
       "      <td>4.0</td>\n",
       "    </tr>\n",
       "    <tr>\n",
       "      <th>1</th>\n",
       "      <td>4.0</td>\n",
       "      <td>4</td>\n",
       "      <td>4.0</td>\n",
       "    </tr>\n",
       "    <tr>\n",
       "      <th>2</th>\n",
       "      <td>1.0</td>\n",
       "      <td>3</td>\n",
       "      <td>2.0</td>\n",
       "    </tr>\n",
       "    <tr>\n",
       "      <th>3</th>\n",
       "      <td>1.0</td>\n",
       "      <td>2</td>\n",
       "      <td>4.0</td>\n",
       "    </tr>\n",
       "    <tr>\n",
       "      <th>4</th>\n",
       "      <td>4.0</td>\n",
       "      <td>1</td>\n",
       "      <td>1.0</td>\n",
       "    </tr>\n",
       "  </tbody>\n",
       "</table>\n",
       "</div>"
      ],
      "text/plain": [
       "   Year 2000  Year 2005  Year 2010\n",
       "0        3.0          1        4.0\n",
       "1        4.0          4        4.0\n",
       "2        1.0          3        2.0\n",
       "3        1.0          2        4.0\n",
       "4        4.0          1        1.0"
      ]
     },
     "metadata": {},
     "output_type": "display_data"
    },
    {
     "name": "stdout",
     "output_type": "stream",
     "text": [
      "Tail of dataset:\n"
     ]
    },
    {
     "data": {
      "text/html": [
       "<div>\n",
       "<style scoped>\n",
       "    .dataframe tbody tr th:only-of-type {\n",
       "        vertical-align: middle;\n",
       "    }\n",
       "\n",
       "    .dataframe tbody tr th {\n",
       "        vertical-align: top;\n",
       "    }\n",
       "\n",
       "    .dataframe thead th {\n",
       "        text-align: right;\n",
       "    }\n",
       "</style>\n",
       "<table border=\"1\" class=\"dataframe\">\n",
       "  <thead>\n",
       "    <tr style=\"text-align: right;\">\n",
       "      <th></th>\n",
       "      <th>Year 2000</th>\n",
       "      <th>Year 2005</th>\n",
       "      <th>Year 2010</th>\n",
       "    </tr>\n",
       "  </thead>\n",
       "  <tbody>\n",
       "    <tr>\n",
       "      <th>412</th>\n",
       "      <td>NaN</td>\n",
       "      <td>1</td>\n",
       "      <td>NaN</td>\n",
       "    </tr>\n",
       "    <tr>\n",
       "      <th>413</th>\n",
       "      <td>NaN</td>\n",
       "      <td>4</td>\n",
       "      <td>NaN</td>\n",
       "    </tr>\n",
       "    <tr>\n",
       "      <th>414</th>\n",
       "      <td>NaN</td>\n",
       "      <td>4</td>\n",
       "      <td>NaN</td>\n",
       "    </tr>\n",
       "    <tr>\n",
       "      <th>415</th>\n",
       "      <td>NaN</td>\n",
       "      <td>4</td>\n",
       "      <td>NaN</td>\n",
       "    </tr>\n",
       "    <tr>\n",
       "      <th>416</th>\n",
       "      <td>NaN</td>\n",
       "      <td>4</td>\n",
       "      <td>NaN</td>\n",
       "    </tr>\n",
       "  </tbody>\n",
       "</table>\n",
       "</div>"
      ],
      "text/plain": [
       "     Year 2000  Year 2005  Year 2010\n",
       "412        NaN          1        NaN\n",
       "413        NaN          4        NaN\n",
       "414        NaN          4        NaN\n",
       "415        NaN          4        NaN\n",
       "416        NaN          4        NaN"
      ]
     },
     "metadata": {},
     "output_type": "display_data"
    }
   ],
   "source": [
    "# 讀取資料集\n",
    "df1 = pd.read_excel('Xr15-43.xlsx')\n",
    "\n",
    "print('Head of dataset:')\n",
    "display(df1.head())\n",
    "\n",
    "print(\"Tail of dataset:\")\n",
    "display(df1.tail())"
   ]
  },
  {
   "cell_type": "markdown",
   "id": "caf803f5-8d37-4913-87e7-4aff1319ee8d",
   "metadata": {},
   "source": [
    "Year 2000 and Year 2005<br>\n",
    "\n",
    "Hypotheses:<br>\n",
    "$H_0$: Year 2000 is independent of Year 2005. <br>\n",
    "$H_1$: Year 2000 is dependent of Year 2005. <br>\n",
    "\n",
    "Combine column 2 and 3."
   ]
  },
  {
   "cell_type": "code",
   "execution_count": 10,
   "id": "5448cbcf-aee4-4947-b9f3-ce25394254b2",
   "metadata": {},
   "outputs": [
    {
     "name": "stdout",
     "output_type": "stream",
     "text": [
      "Contingency Table:\n"
     ]
    },
    {
     "data": {
      "text/html": [
       "<div>\n",
       "<style scoped>\n",
       "    .dataframe tbody tr th:only-of-type {\n",
       "        vertical-align: middle;\n",
       "    }\n",
       "\n",
       "    .dataframe tbody tr th {\n",
       "        vertical-align: top;\n",
       "    }\n",
       "\n",
       "    .dataframe thead th {\n",
       "        text-align: right;\n",
       "    }\n",
       "</style>\n",
       "<table border=\"1\" class=\"dataframe\">\n",
       "  <thead>\n",
       "    <tr style=\"text-align: right;\">\n",
       "      <th>Year 2005</th>\n",
       "      <th>1</th>\n",
       "      <th>2</th>\n",
       "      <th>4</th>\n",
       "    </tr>\n",
       "    <tr>\n",
       "      <th>Year 2000</th>\n",
       "      <th></th>\n",
       "      <th></th>\n",
       "      <th></th>\n",
       "    </tr>\n",
       "  </thead>\n",
       "  <tbody>\n",
       "    <tr>\n",
       "      <th>1.0</th>\n",
       "      <td>71</td>\n",
       "      <td>32</td>\n",
       "      <td>58</td>\n",
       "    </tr>\n",
       "    <tr>\n",
       "      <th>2.0</th>\n",
       "      <td>13</td>\n",
       "      <td>8</td>\n",
       "      <td>15</td>\n",
       "    </tr>\n",
       "    <tr>\n",
       "      <th>3.0</th>\n",
       "      <td>23</td>\n",
       "      <td>6</td>\n",
       "      <td>24</td>\n",
       "    </tr>\n",
       "    <tr>\n",
       "      <th>4.0</th>\n",
       "      <td>67</td>\n",
       "      <td>29</td>\n",
       "      <td>63</td>\n",
       "    </tr>\n",
       "  </tbody>\n",
       "</table>\n",
       "</div>"
      ],
      "text/plain": [
       "Year 2005   1   2   4\n",
       "Year 2000            \n",
       "1.0        71  32  58\n",
       "2.0        13   8  15\n",
       "3.0        23   6  24\n",
       "4.0        67  29  63"
      ]
     },
     "metadata": {},
     "output_type": "display_data"
    },
    {
     "name": "stdout",
     "output_type": "stream",
     "text": [
      "Chi-squared Statistics = 3.3636\n",
      "Degree of freedom = 6.0000\n",
      "p-value = 0.7620\n",
      "Expected Frequency:\n",
      "[[68.49388753 29.52322738 62.98288509]\n",
      " [15.31540342  6.60146699 14.08312958]\n",
      " [22.54767726  9.71882641 20.73349633]\n",
      " [67.64303178 29.15647922 62.200489  ]]\n"
     ]
    }
   ],
   "source": [
    "# 列出Contingency Table\n",
    "cont1 = pd.crosstab(df1[\"Year 2000\"], df1[\"Year 2005\"])\n",
    "print(\"Contingency Table:\")\n",
    "cont1[2] = cont1[2] + cont1[3]\n",
    "cont1.pop(3)\n",
    "display(cont1)\n",
    "\n",
    "chi2, p, dof, ex = stats.chi2_contingency(cont1, correction=False)\n",
    "print(\"Chi-squared Statistics = %0.4f\" % chi2)\n",
    "print(\"Degree of freedom = %0.4f\" % dof)\n",
    "print(\"p-value = %0.4f\" % p)\n",
    "print(\"Expected Frequency:\")\n",
    "print(ex)"
   ]
  },
  {
   "cell_type": "markdown",
   "id": "30b11c11-9dc9-4ab4-9189-8fdf0f5a3be0",
   "metadata": {},
   "source": [
    "Since p-value = 0.7620 > 0.05, there is no sufficient evidence to reject $H_0$, in favor of $H_1$.<br>"
   ]
  },
  {
   "cell_type": "markdown",
   "id": "5a47c99a-36ec-4142-92c9-841529e8324c",
   "metadata": {},
   "source": [
    "Year 2000 and Year 2010<br>\n",
    "\n",
    "Hypotheses:<br>\n",
    "$H_0$: Year 2000 is independent of Year 2010. <br>\n",
    "$H_1$: Year 2000 is dependent of Year 2010. <br>\n",
    "\n",
    "Combine column 2, 3 and 4."
   ]
  },
  {
   "cell_type": "code",
   "execution_count": 11,
   "id": "fb21b100-c496-46d4-8248-3080b49ed348",
   "metadata": {},
   "outputs": [
    {
     "name": "stdout",
     "output_type": "stream",
     "text": [
      "Contingency Table:\n"
     ]
    },
    {
     "data": {
      "text/html": [
       "<div>\n",
       "<style scoped>\n",
       "    .dataframe tbody tr th:only-of-type {\n",
       "        vertical-align: middle;\n",
       "    }\n",
       "\n",
       "    .dataframe tbody tr th {\n",
       "        vertical-align: top;\n",
       "    }\n",
       "\n",
       "    .dataframe thead th {\n",
       "        text-align: right;\n",
       "    }\n",
       "</style>\n",
       "<table border=\"1\" class=\"dataframe\">\n",
       "  <thead>\n",
       "    <tr style=\"text-align: right;\">\n",
       "      <th>Year 2010</th>\n",
       "      <th>1.0</th>\n",
       "      <th>2.0</th>\n",
       "    </tr>\n",
       "    <tr>\n",
       "      <th>Year 2000</th>\n",
       "      <th></th>\n",
       "      <th></th>\n",
       "    </tr>\n",
       "  </thead>\n",
       "  <tbody>\n",
       "    <tr>\n",
       "      <th>1.0</th>\n",
       "      <td>50</td>\n",
       "      <td>75</td>\n",
       "    </tr>\n",
       "    <tr>\n",
       "      <th>2.0</th>\n",
       "      <td>11</td>\n",
       "      <td>17</td>\n",
       "    </tr>\n",
       "    <tr>\n",
       "      <th>3.0</th>\n",
       "      <td>19</td>\n",
       "      <td>23</td>\n",
       "    </tr>\n",
       "    <tr>\n",
       "      <th>4.0</th>\n",
       "      <td>51</td>\n",
       "      <td>62</td>\n",
       "    </tr>\n",
       "  </tbody>\n",
       "</table>\n",
       "</div>"
      ],
      "text/plain": [
       "Year 2010  1.0  2.0\n",
       "Year 2000          \n",
       "1.0         50   75\n",
       "2.0         11   17\n",
       "3.0         19   23\n",
       "4.0         51   62"
      ]
     },
     "metadata": {},
     "output_type": "display_data"
    },
    {
     "name": "stdout",
     "output_type": "stream",
     "text": [
      "Chi-squared Statistics = 0.8871\n",
      "Degree of freedom = 3.0000\n",
      "p-value = 0.8285\n",
      "Expected Frequency:\n",
      "[[53.16558442 71.83441558]\n",
      " [11.90909091 16.09090909]\n",
      " [17.86363636 24.13636364]\n",
      " [48.06168831 64.93831169]]\n"
     ]
    }
   ],
   "source": [
    "# 列出Contingency Table\n",
    "cont1 = pd.crosstab(df1[\"Year 2000\"], df1[\"Year 2010\"])\n",
    "print(\"Contingency Table:\")\n",
    "cont1[2] = cont1[2] + cont1[3]\n",
    "cont1.pop(3)\n",
    "cont1[2] = cont1[2] + cont1[4]\n",
    "cont1.pop(4)\n",
    "display(cont1)\n",
    "\n",
    "chi2, p, dof, ex = stats.chi2_contingency(cont1, correction=False)\n",
    "print(\"Chi-squared Statistics = %0.4f\" % chi2)\n",
    "print(\"Degree of freedom = %0.4f\" % dof)\n",
    "print(\"p-value = %0.4f\" % p)\n",
    "print(\"Expected Frequency:\")\n",
    "print(ex)"
   ]
  },
  {
   "cell_type": "markdown",
   "id": "9fae59cb-555b-4ef2-ad3c-ce9b9ec0c0f7",
   "metadata": {},
   "source": [
    "Since p-value = 0.8285 > 0.05, there is no sufficient evidence to reject $H_0$, in favor of $H_1$.<br>"
   ]
  },
  {
   "cell_type": "markdown",
   "id": "c8235488-f3a6-40a7-a92b-6672f6d109bb",
   "metadata": {},
   "source": [
    "Year 2005 and Year 2010<br>\n",
    "\n",
    "Hypotheses:<br>\n",
    "$H_0$: Year 2005 is independent of Year 2010. <br>\n",
    "$H_1$: Year 2005 is dependent of Year 2010. <br>\n",
    "\n",
    "Combine column 2, 3 and 4."
   ]
  },
  {
   "cell_type": "code",
   "execution_count": 12,
   "id": "b8b3c120-c7d8-41b2-bbe5-ea433b9fd834",
   "metadata": {},
   "outputs": [
    {
     "name": "stdout",
     "output_type": "stream",
     "text": [
      "Contingency Table:\n"
     ]
    },
    {
     "data": {
      "text/html": [
       "<div>\n",
       "<style scoped>\n",
       "    .dataframe tbody tr th:only-of-type {\n",
       "        vertical-align: middle;\n",
       "    }\n",
       "\n",
       "    .dataframe tbody tr th {\n",
       "        vertical-align: top;\n",
       "    }\n",
       "\n",
       "    .dataframe thead th {\n",
       "        text-align: right;\n",
       "    }\n",
       "</style>\n",
       "<table border=\"1\" class=\"dataframe\">\n",
       "  <thead>\n",
       "    <tr style=\"text-align: right;\">\n",
       "      <th>Year 2010</th>\n",
       "      <th>1.0</th>\n",
       "      <th>2.0</th>\n",
       "    </tr>\n",
       "    <tr>\n",
       "      <th>Year 2005</th>\n",
       "      <th></th>\n",
       "      <th></th>\n",
       "    </tr>\n",
       "  </thead>\n",
       "  <tbody>\n",
       "    <tr>\n",
       "      <th>1</th>\n",
       "      <td>48</td>\n",
       "      <td>77</td>\n",
       "    </tr>\n",
       "    <tr>\n",
       "      <th>2</th>\n",
       "      <td>11</td>\n",
       "      <td>17</td>\n",
       "    </tr>\n",
       "    <tr>\n",
       "      <th>3</th>\n",
       "      <td>17</td>\n",
       "      <td>10</td>\n",
       "    </tr>\n",
       "    <tr>\n",
       "      <th>4</th>\n",
       "      <td>55</td>\n",
       "      <td>73</td>\n",
       "    </tr>\n",
       "  </tbody>\n",
       "</table>\n",
       "</div>"
      ],
      "text/plain": [
       "Year 2010  1.0  2.0\n",
       "Year 2005          \n",
       "1           48   77\n",
       "2           11   17\n",
       "3           17   10\n",
       "4           55   73"
      ]
     },
     "metadata": {},
     "output_type": "display_data"
    },
    {
     "name": "stdout",
     "output_type": "stream",
     "text": [
      "Chi-squared Statistics = 5.6149\n",
      "Degree of freedom = 3.0000\n",
      "p-value = 0.1319\n",
      "Expected Frequency:\n",
      "[[53.16558442 71.83441558]\n",
      " [11.90909091 16.09090909]\n",
      " [11.48376623 15.51623377]\n",
      " [54.44155844 73.55844156]]\n"
     ]
    }
   ],
   "source": [
    "# 列出Contingency Table\n",
    "cont1 = pd.crosstab(df1[\"Year 2005\"], df1[\"Year 2010\"])\n",
    "print(\"Contingency Table:\")\n",
    "cont1[2] = cont1[2] + cont1[3]\n",
    "cont1.pop(3)\n",
    "cont1[2] = cont1[2] + cont1[4]\n",
    "cont1.pop(4)\n",
    "display(cont1)\n",
    "\n",
    "chi2, p, dof, ex = stats.chi2_contingency(cont1, correction=False)\n",
    "print(\"Chi-squared Statistics = %0.4f\" % chi2)\n",
    "print(\"Degree of freedom = %0.4f\" % dof)\n",
    "print(\"p-value = %0.4f\" % p)\n",
    "print(\"Expected Frequency:\")\n",
    "print(ex)"
   ]
  },
  {
   "cell_type": "markdown",
   "id": "1725880b-a99b-458f-98f1-4626d94a755a",
   "metadata": {},
   "source": [
    "Since p-value = 0.1319 > 0.05, there is no sufficient evidence to reject $H_0$, in favor of $H_1$.<br>\n",
    "\n",
    "\n",
    "Thus, we can infer that the frequency of the use of weapons in robberies differed over the three years."
   ]
  },
  {
   "cell_type": "markdown",
   "id": "f4125e37-fc1c-4921-86a2-d07662f73c30",
   "metadata": {},
   "source": [
    "<h2> Problem 15.80"
   ]
  },
  {
   "cell_type": "markdown",
   "id": "9bafc490-ca62-4d3d-add4-0eadb27400d8",
   "metadata": {},
   "source": [
    "Hypotheses:<br>\n",
    "$H_0$: Data are normaly distributed. <br>\n",
    "$H_1$: Data are not normaly distributed. <br>"
   ]
  },
  {
   "cell_type": "code",
   "execution_count": 13,
   "id": "bba28d0f-df34-4f89-846f-68b14f427953",
   "metadata": {},
   "outputs": [
    {
     "name": "stdout",
     "output_type": "stream",
     "text": [
      "critical value = 2.705543454095404\n",
      "x^2 = 27.599999999999998\n"
     ]
    }
   ],
   "source": [
    "total_ob = 50\n",
    "freq_i = np.array([6, 27, 14, 3])\n",
    "exp_i = np.array([(total_ob / 4)] * 4)\n",
    "\n",
    "crit_v = scipy.stats.chi2.ppf(1 - 0.1, 4 - 3)\n",
    "print(\"critical value =\", crit_v)\n",
    "\n",
    "x_2 = ((freq_i - exp_i) ** 2) / (total_ob / 4)\n",
    "x_2 = np.sum(x_2)\n",
    "print(\"x^2 =\", x_2)"
   ]
  },
  {
   "cell_type": "markdown",
   "id": "03b8606b-bf80-4890-9ccc-c38be012b583",
   "metadata": {},
   "source": [
    "x^2 > critical value, we reject $H_0$ in favor of $H_1$.<br>\n",
    "We can infer that the data are not normal"
   ]
  },
  {
   "cell_type": "markdown",
   "id": "8d11522a-ecf9-44a5-af68-c0bd96393a51",
   "metadata": {},
   "source": [
    "<h2> Problem 15.85"
   ]
  },
  {
   "cell_type": "code",
   "execution_count": 14,
   "id": "efa66c41-870f-4a36-9d10-352f038fa47b",
   "metadata": {},
   "outputs": [
    {
     "name": "stdout",
     "output_type": "stream",
     "text": [
      "Head of dataset:\n"
     ]
    },
    {
     "data": {
      "text/html": [
       "<div>\n",
       "<style scoped>\n",
       "    .dataframe tbody tr th:only-of-type {\n",
       "        vertical-align: middle;\n",
       "    }\n",
       "\n",
       "    .dataframe tbody tr th {\n",
       "        vertical-align: top;\n",
       "    }\n",
       "\n",
       "    .dataframe thead th {\n",
       "        text-align: right;\n",
       "    }\n",
       "</style>\n",
       "<table border=\"1\" class=\"dataframe\">\n",
       "  <thead>\n",
       "    <tr style=\"text-align: right;\">\n",
       "      <th></th>\n",
       "      <th>Method 1</th>\n",
       "      <th>Method 2</th>\n",
       "    </tr>\n",
       "  </thead>\n",
       "  <tbody>\n",
       "    <tr>\n",
       "      <th>0</th>\n",
       "      <td>8.8</td>\n",
       "      <td>9.2</td>\n",
       "    </tr>\n",
       "    <tr>\n",
       "      <th>1</th>\n",
       "      <td>9.6</td>\n",
       "      <td>9.4</td>\n",
       "    </tr>\n",
       "    <tr>\n",
       "      <th>2</th>\n",
       "      <td>8.4</td>\n",
       "      <td>8.9</td>\n",
       "    </tr>\n",
       "    <tr>\n",
       "      <th>3</th>\n",
       "      <td>9.0</td>\n",
       "      <td>9.6</td>\n",
       "    </tr>\n",
       "    <tr>\n",
       "      <th>4</th>\n",
       "      <td>8.3</td>\n",
       "      <td>9.7</td>\n",
       "    </tr>\n",
       "  </tbody>\n",
       "</table>\n",
       "</div>"
      ],
      "text/plain": [
       "   Method 1  Method 2\n",
       "0       8.8       9.2\n",
       "1       9.6       9.4\n",
       "2       8.4       8.9\n",
       "3       9.0       9.6\n",
       "4       8.3       9.7"
      ]
     },
     "metadata": {},
     "output_type": "display_data"
    },
    {
     "name": "stdout",
     "output_type": "stream",
     "text": [
      "Tail of dataset:\n"
     ]
    },
    {
     "data": {
      "text/html": [
       "<div>\n",
       "<style scoped>\n",
       "    .dataframe tbody tr th:only-of-type {\n",
       "        vertical-align: middle;\n",
       "    }\n",
       "\n",
       "    .dataframe tbody tr th {\n",
       "        vertical-align: top;\n",
       "    }\n",
       "\n",
       "    .dataframe thead th {\n",
       "        text-align: right;\n",
       "    }\n",
       "</style>\n",
       "<table border=\"1\" class=\"dataframe\">\n",
       "  <thead>\n",
       "    <tr style=\"text-align: right;\">\n",
       "      <th></th>\n",
       "      <th>Method 1</th>\n",
       "      <th>Method 2</th>\n",
       "    </tr>\n",
       "  </thead>\n",
       "  <tbody>\n",
       "    <tr>\n",
       "      <th>5</th>\n",
       "      <td>9.2</td>\n",
       "      <td>8.4</td>\n",
       "    </tr>\n",
       "    <tr>\n",
       "      <th>6</th>\n",
       "      <td>9.0</td>\n",
       "      <td>8.8</td>\n",
       "    </tr>\n",
       "    <tr>\n",
       "      <th>7</th>\n",
       "      <td>8.7</td>\n",
       "      <td>8.9</td>\n",
       "    </tr>\n",
       "    <tr>\n",
       "      <th>8</th>\n",
       "      <td>8.5</td>\n",
       "      <td>9.0</td>\n",
       "    </tr>\n",
       "    <tr>\n",
       "      <th>9</th>\n",
       "      <td>9.4</td>\n",
       "      <td>9.7</td>\n",
       "    </tr>\n",
       "  </tbody>\n",
       "</table>\n",
       "</div>"
      ],
      "text/plain": [
       "   Method 1  Method 2\n",
       "5       9.2       8.4\n",
       "6       9.0       8.8\n",
       "7       8.7       8.9\n",
       "8       8.5       9.0\n",
       "9       9.4       9.7"
      ]
     },
     "metadata": {},
     "output_type": "display_data"
    }
   ],
   "source": [
    "# 讀取資料集\n",
    "df1 = pd.read_excel('Xr13-115.xlsx')\n",
    "\n",
    "print('Head of dataset:')\n",
    "display(df1.head())\n",
    "\n",
    "print(\"Tail of dataset:\")\n",
    "display(df1.tail())"
   ]
  },
  {
   "cell_type": "markdown",
   "id": "bb4b49ab-8471-4de1-bd4c-fa9aec15cea1",
   "metadata": {},
   "source": [
    "Hypotheses:<br>\n",
    "$H_0$: Data are normaly distributed. <br>\n",
    "$H_1$: Data are not normaly distributed. <br>\n",
    "\n",
    "We cannot satisfy the rule of five, because there isn't enough interval to test it."
   ]
  },
  {
   "cell_type": "code",
   "execution_count": 15,
   "id": "f3804783-6099-43b5-b90b-31d682ce5ce6",
   "metadata": {},
   "outputs": [
    {
     "name": "stdout",
     "output_type": "stream",
     "text": [
      "0   -0.4\n",
      "1    0.2\n",
      "2   -0.5\n",
      "3   -0.6\n",
      "4   -1.4\n",
      "5    0.8\n",
      "6    0.2\n",
      "7   -0.2\n",
      "8   -0.5\n",
      "9   -0.3\n",
      "dtype: float64\n",
      "x1 = -0.8569885480616761 x2 = -0.2699999999999999 x3 = 0.3169885480616763 \n",
      "\n",
      "critical value = 2.705543454095404\n",
      "x^2 = 3.6\n"
     ]
    }
   ],
   "source": [
    "diff = df1[\"Method 1\"] - df1[\"Method 2\"]\n",
    "mean = diff.mean()\n",
    "std = diff.std()\n",
    "print(diff)\n",
    "\n",
    "z1 = -1\n",
    "z2 = 0\n",
    "z3 = 1\n",
    "x1 = z1 * std + mean\n",
    "x2 = z2 * std + mean\n",
    "x3 = z3 * std + mean\n",
    "print(\"x1 =\", x1, \"x2 =\", x2, \"x3 =\", x3, \"\\n\")\n",
    "\n",
    "total_ob = 10\n",
    "freq_i = np.array([1, 4, 4, 1])\n",
    "exp_i = np.array([(total_ob / 4)] * 4)\n",
    "\n",
    "crit_v = scipy.stats.chi2.ppf(1 - 0.1, 4 - 3)\n",
    "print(\"critical value =\", crit_v)\n",
    "\n",
    "x_2 = ((freq_i - exp_i) ** 2) / (total_ob / 4)\n",
    "x_2 = np.sum(x_2)\n",
    "print(\"x^2 =\", x_2)"
   ]
  },
  {
   "cell_type": "markdown",
   "id": "991aae02-8a29-4c8b-bac8-75663141777a",
   "metadata": {},
   "source": [
    "x^2 > critical value, we reject $H_0$ in favor of $H_1$.<br>\n",
    "We still cannot infer that the data are not normal, because it violates the rule of five.\n",
    "But it is likely that the normality requirement is violated."
   ]
  }
 ],
 "metadata": {
  "kernelspec": {
   "display_name": "Python 3 (ipykernel)",
   "language": "python",
   "name": "python3"
  },
  "language_info": {
   "codemirror_mode": {
    "name": "ipython",
    "version": 3
   },
   "file_extension": ".py",
   "mimetype": "text/x-python",
   "name": "python",
   "nbconvert_exporter": "python",
   "pygments_lexer": "ipython3",
   "version": "3.9.7"
  }
 },
 "nbformat": 4,
 "nbformat_minor": 5
}
