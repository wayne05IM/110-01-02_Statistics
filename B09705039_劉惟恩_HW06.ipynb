{
 "cells": [
  {
   "cell_type": "markdown",
   "id": "cab2ca5b-542e-4559-b7bb-861d7e770461",
   "metadata": {},
   "source": [
    "<h1>HW06_B09705039_劉惟恩"
   ]
  },
  {
   "cell_type": "markdown",
   "id": "ce146703-c417-491e-bccc-d8efe8aef3e7",
   "metadata": {},
   "source": [
    "<h2>Problem 5.9"
   ]
  },
  {
   "cell_type": "markdown",
   "id": "2ddb87fe-08c1-4478-a449-48f1b285ea81",
   "metadata": {},
   "source": [
    "<h3>We should ignore these statistics because they ask people who \"read newspapers\" to respond by \"email\".<br>\n",
    "    The target population of this survey is those who read the newspaper.<br>\n",
    "    However, the sample population is those who respond by email.<br>\n",
    "    The two groups are not same or similar to one another, which may cause bias on a specific groups of people instead of the whole target population."
   ]
  },
  {
   "cell_type": "markdown",
   "id": "c016e486-34f2-4004-8523-0cd351ae0cf2",
   "metadata": {},
   "source": [
    "<h2>Problem 5.13"
   ]
  },
  {
   "cell_type": "markdown",
   "id": "40dd00a6-e369-4007-bcc1-bc9c31351e42",
   "metadata": {},
   "source": [
    "<h3>She should apply \"Stratified Random Sampling\".<br>\n",
    "    1)Construct a frame.<br>\n",
    "    2)Idendifying the samples of different schools and sort the frame into different groups, she could compare the school of business, the faculty of arts and sciences, and the graduate school.<br>\n",
    "    3)Draw random samples of pre-determined size on each stratum seperately, she could acquire information about all the students."
   ]
  },
  {
   "cell_type": "markdown",
   "id": "5e3fe6cb-9a9c-497b-9fa5-508692b748e5",
   "metadata": {},
   "source": [
    "<h2>Problem 5.19"
   ]
  },
  {
   "cell_type": "markdown",
   "id": "02d7c44e-1dac-4b3f-a863-edab796252b6",
   "metadata": {},
   "source": [
    "<h3>Yes, it is possible.<br>\n",
    "    This may happen when non-sampling errors occurs more fequently on a census than on a sample.<br>\n",
    "    If the sampling is conducted carefully, the non-sampling errors will decrease.<br>\n",
    "    On the other hand, since conducting a census is much more data to collect, the non-sampling errors are more likely to be larger.<br>\n",
    "    Conclusion: A sampling conducted carefully with minor sampling errors is possible to yeild better results than a census with multiple non-sampling errors."
   ]
  }
 ],
 "metadata": {
  "kernelspec": {
   "display_name": "Python 3 (ipykernel)",
   "language": "python",
   "name": "python3"
  },
  "language_info": {
   "codemirror_mode": {
    "name": "ipython",
    "version": 3
   },
   "file_extension": ".py",
   "mimetype": "text/x-python",
   "name": "python",
   "nbconvert_exporter": "python",
   "pygments_lexer": "ipython3",
   "version": "3.8.11"
  }
 },
 "nbformat": 4,
 "nbformat_minor": 5
}
