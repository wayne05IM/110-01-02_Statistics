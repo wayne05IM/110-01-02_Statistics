{
 "cells": [
  {
   "cell_type": "markdown",
   "id": "aef25341-1e93-45f3-a303-73d2af66b6af",
   "metadata": {},
   "source": [
    "<h1>B09705039_劉惟恩_HW02"
   ]
  },
  {
   "cell_type": "code",
   "execution_count": 1,
   "id": "66d4e4dc-a152-4fc0-9c7b-b78c4ba3bc49",
   "metadata": {},
   "outputs": [],
   "source": [
    "# 載入所需函示庫\n",
    "import pandas as pd\n",
    "import numpy as np\n",
    "import scipy.stats as stats\n",
    "import statsmodels.stats.api as sms\n",
    "from matplotlib import pyplot as plt\n",
    "%matplotlib inline\n",
    "# 設定圖形大小; DPI越大圖越大\n",
    "plt.rcParams[\"figure.dpi\"] = 150"
   ]
  },
  {
   "cell_type": "markdown",
   "id": "d656cc72-8134-46e0-8e53-7917d57ee18b",
   "metadata": {},
   "source": [
    "<h2>Problem 13.95"
   ]
  },
  {
   "cell_type": "code",
   "execution_count": 2,
   "id": "2abf01d3-0824-4285-a4c1-48ffee462d73",
   "metadata": {},
   "outputs": [
    {
     "name": "stdout",
     "output_type": "stream",
     "text": [
      "Head of dataset:\n"
     ]
    },
    {
     "data": {
      "text/html": [
       "<div>\n",
       "<style scoped>\n",
       "    .dataframe tbody tr th:only-of-type {\n",
       "        vertical-align: middle;\n",
       "    }\n",
       "\n",
       "    .dataframe tbody tr th {\n",
       "        vertical-align: top;\n",
       "    }\n",
       "\n",
       "    .dataframe thead th {\n",
       "        text-align: right;\n",
       "    }\n",
       "</style>\n",
       "<table border=\"1\" class=\"dataframe\">\n",
       "  <thead>\n",
       "    <tr style=\"text-align: right;\">\n",
       "      <th></th>\n",
       "      <th>This Year</th>\n",
       "      <th>Last Year</th>\n",
       "    </tr>\n",
       "  </thead>\n",
       "  <tbody>\n",
       "    <tr>\n",
       "      <th>0</th>\n",
       "      <td>189</td>\n",
       "      <td>151</td>\n",
       "    </tr>\n",
       "    <tr>\n",
       "      <th>1</th>\n",
       "      <td>225</td>\n",
       "      <td>224</td>\n",
       "    </tr>\n",
       "    <tr>\n",
       "      <th>2</th>\n",
       "      <td>106</td>\n",
       "      <td>30</td>\n",
       "    </tr>\n",
       "    <tr>\n",
       "      <th>3</th>\n",
       "      <td>146</td>\n",
       "      <td>132</td>\n",
       "    </tr>\n",
       "    <tr>\n",
       "      <th>4</th>\n",
       "      <td>234</td>\n",
       "      <td>233</td>\n",
       "    </tr>\n",
       "  </tbody>\n",
       "</table>\n",
       "</div>"
      ],
      "text/plain": [
       "   This Year  Last Year\n",
       "0        189        151\n",
       "1        225        224\n",
       "2        106         30\n",
       "3        146        132\n",
       "4        234        233"
      ]
     },
     "metadata": {},
     "output_type": "display_data"
    },
    {
     "name": "stdout",
     "output_type": "stream",
     "text": [
      "Tail of dataset:\n"
     ]
    },
    {
     "data": {
      "text/html": [
       "<div>\n",
       "<style scoped>\n",
       "    .dataframe tbody tr th:only-of-type {\n",
       "        vertical-align: middle;\n",
       "    }\n",
       "\n",
       "    .dataframe tbody tr th {\n",
       "        vertical-align: top;\n",
       "    }\n",
       "\n",
       "    .dataframe thead th {\n",
       "        text-align: right;\n",
       "    }\n",
       "</style>\n",
       "<table border=\"1\" class=\"dataframe\">\n",
       "  <thead>\n",
       "    <tr style=\"text-align: right;\">\n",
       "      <th></th>\n",
       "      <th>This Year</th>\n",
       "      <th>Last Year</th>\n",
       "    </tr>\n",
       "  </thead>\n",
       "  <tbody>\n",
       "    <tr>\n",
       "      <th>35</th>\n",
       "      <td>104</td>\n",
       "      <td>102</td>\n",
       "    </tr>\n",
       "    <tr>\n",
       "      <th>36</th>\n",
       "      <td>275</td>\n",
       "      <td>242</td>\n",
       "    </tr>\n",
       "    <tr>\n",
       "      <th>37</th>\n",
       "      <td>137</td>\n",
       "      <td>82</td>\n",
       "    </tr>\n",
       "    <tr>\n",
       "      <th>38</th>\n",
       "      <td>128</td>\n",
       "      <td>148</td>\n",
       "    </tr>\n",
       "    <tr>\n",
       "      <th>39</th>\n",
       "      <td>159</td>\n",
       "      <td>179</td>\n",
       "    </tr>\n",
       "  </tbody>\n",
       "</table>\n",
       "</div>"
      ],
      "text/plain": [
       "    This Year  Last Year\n",
       "35        104        102\n",
       "36        275        242\n",
       "37        137         82\n",
       "38        128        148\n",
       "39        159        179"
      ]
     },
     "metadata": {},
     "output_type": "display_data"
    }
   ],
   "source": [
    "# 讀取資料集\n",
    "df1 = pd.read_excel('Xr13-95.xlsx')\n",
    "\n",
    "# 簡單看一下資料集的樣子\n",
    "# 如果這是你第一次使用這個資料集，使用Excel開啟資料集，\n",
    "# 並確認程式讀到的跟你在Excel中看到的一樣\n",
    "print('Head of dataset:')\n",
    "display(df1.head())\n",
    "\n",
    "print(\"Tail of dataset:\")\n",
    "display(df1.tail())"
   ]
  },
  {
   "cell_type": "markdown",
   "id": "6e7ff1a5-d16a-4d55-afdf-9718a4754381",
   "metadata": {},
   "source": [
    "<h3>a."
   ]
  },
  {
   "cell_type": "markdown",
   "id": "f715405c-6287-410b-a61e-565fab22b893",
   "metadata": {},
   "source": [
    "It implies that we should set the significance level to 0.1."
   ]
  },
  {
   "cell_type": "markdown",
   "id": "3e768dfa-4b5b-45fa-89c8-f9902127c738",
   "metadata": {},
   "source": [
    "<h3>b."
   ]
  },
  {
   "cell_type": "markdown",
   "id": "8530a4ca-6a12-485a-83f6-a453e5be1b89",
   "metadata": {},
   "source": [
    "令 This Year 的均數為 $\\mu_1$。<br>\n",
    "   Last Year 的均數為 $\\mu_2$。\n",
    "\n",
    "Null Hypothesis: $\\mu_1 - \\mu_2 <= 0$ <br>\n",
    "Alternative Hypothesis: $\\mu_1 - \\mu_2 > 0$.\n",
    "\n",
    "using t-test, paired samples"
   ]
  },
  {
   "cell_type": "code",
   "execution_count": 3,
   "id": "74e2e4ff-0c04-4add-84e5-58043c9f5e85",
   "metadata": {},
   "outputs": [
    {
     "name": "stdout",
     "output_type": "stream",
     "text": [
      "degree of freedom =  39\n",
      "t-value = 4.0775\n",
      "p_value (two sided) = 0.0002\n",
      "p_value (right tail) = 0.0001\n",
      "p_value (left tail) = 0.9999\n"
     ]
    }
   ],
   "source": [
    "samp3 = df1['This Year'].values\n",
    "samp4 = df1['Last Year'].values\n",
    "\n",
    "samp_diff = samp3 - samp4\n",
    "nobs = samp_diff.shape[0]\n",
    "df = nobs - 1\n",
    "print(\"degree of freedom = \", df)\n",
    "\n",
    "tmpdesc = stats.describe(samp_diff)\n",
    "t_value = tmpdesc.mean / (tmpdesc.variance ** 0.5) * (nobs ** 0.5)\n",
    "print(f\"t-value = {t_value:.4f}\")\n",
    "# tmpdesc\n",
    "\n",
    "# p-values\n",
    "ptmp = stats.t.cdf(t_value, df)\n",
    "p_value_left = ptmp\n",
    "p_value_right = 1 - ptmp\n",
    "if ptmp > 0.5:\n",
    "    ptmp = 1 - ptmp\n",
    "p_value_twoside = ptmp * 2\n",
    "\n",
    "print(f\"p_value (two sided) = {p_value_twoside:.4f}\")\n",
    "print(f\"p_value (right tail) = {p_value_right:.4f}\")\n",
    "print(f\"p_value (left tail) = {p_value_left:.4f}\")"
   ]
  },
  {
   "cell_type": "markdown",
   "id": "f8589367-d9c2-49c8-8a53-e54ea20b1e96",
   "metadata": {},
   "source": [
    "In our case, we are performing a right-tailed hypothesis test. The right-tailed p-value is 0.0001.\n",
    "The p-value is smaller than the required significance level 0.1. As a result, we reject the null hypothesis in favor of the alternative hypothesis. \n",
    "\n",
    "We can conclude that advertising in the Yellow Pages improves sales."
   ]
  },
  {
   "cell_type": "code",
   "execution_count": 4,
   "id": "481700a2-8c21-4a1d-a483-0f4950c10738",
   "metadata": {},
   "outputs": [
    {
     "name": "stdout",
     "output_type": "stream",
     "text": [
      "Confidence interval = [11.5890, 27.9110]\n"
     ]
    }
   ],
   "source": [
    "t_alpha = stats.t.ppf(1 - 0.1 / 2, df)\n",
    "std_xbar = (tmpdesc.variance / nobs) ** 0.5\n",
    "LCL = tmpdesc.mean - t_alpha * std_xbar\n",
    "UCL = tmpdesc.mean + t_alpha * std_xbar\n",
    "print(\"Confidence interval = [%0.4f, %0.4f]\" % (LCL, UCL))"
   ]
  },
  {
   "cell_type": "markdown",
   "id": "6ecaa7ae-34e3-4c06-a758-3bc629c5b9da",
   "metadata": {},
   "source": [
    "<h3>c."
   ]
  },
  {
   "cell_type": "markdown",
   "id": "62842ec0-eb04-4764-83ab-52452df26253",
   "metadata": {
    "tags": []
   },
   "source": [
    "Satisfied"
   ]
  },
  {
   "cell_type": "markdown",
   "id": "85a03342-fe8f-4a55-a701-5b8fed688d1c",
   "metadata": {},
   "source": [
    "<h3>d."
   ]
  },
  {
   "cell_type": "markdown",
   "id": "e437af71-67fb-41b2-b217-126b30289e87",
   "metadata": {},
   "source": [
    "No, it wouldn't be advantageous to perform this experiment with independent samples. Since we are not interested in the variation between annual sales among different stores, pairing observations by stores can eliminate the variation caused by different stores. By performing this experiment with independent samples will only increase the variation between annual sales among different stores, which won't do any good on this problem."
   ]
  },
  {
   "cell_type": "markdown",
   "id": "5c04124b-d90c-43ff-9d39-50c8108a17df",
   "metadata": {},
   "source": [
    "<h2>Problem 13.100"
   ]
  },
  {
   "cell_type": "code",
   "execution_count": 5,
   "id": "5268ec3b-17c5-451e-a3a1-1bf804c74369",
   "metadata": {},
   "outputs": [
    {
     "name": "stdout",
     "output_type": "stream",
     "text": [
      "Head of dataset:\n"
     ]
    },
    {
     "data": {
      "text/html": [
       "<div>\n",
       "<style scoped>\n",
       "    .dataframe tbody tr th:only-of-type {\n",
       "        vertical-align: middle;\n",
       "    }\n",
       "\n",
       "    .dataframe tbody tr th {\n",
       "        vertical-align: top;\n",
       "    }\n",
       "\n",
       "    .dataframe thead th {\n",
       "        text-align: right;\n",
       "    }\n",
       "</style>\n",
       "<table border=\"1\" class=\"dataframe\">\n",
       "  <thead>\n",
       "    <tr style=\"text-align: right;\">\n",
       "      <th></th>\n",
       "      <th>Company 1</th>\n",
       "      <th>Company 2</th>\n",
       "    </tr>\n",
       "  </thead>\n",
       "  <tbody>\n",
       "    <tr>\n",
       "      <th>0</th>\n",
       "      <td>12859</td>\n",
       "      <td>9449</td>\n",
       "    </tr>\n",
       "    <tr>\n",
       "      <th>1</th>\n",
       "      <td>6082</td>\n",
       "      <td>5694</td>\n",
       "    </tr>\n",
       "    <tr>\n",
       "      <th>2</th>\n",
       "      <td>8604</td>\n",
       "      <td>7457</td>\n",
       "    </tr>\n",
       "    <tr>\n",
       "      <th>3</th>\n",
       "      <td>9230</td>\n",
       "      <td>7725</td>\n",
       "    </tr>\n",
       "    <tr>\n",
       "      <th>4</th>\n",
       "      <td>10405</td>\n",
       "      <td>10163</td>\n",
       "    </tr>\n",
       "  </tbody>\n",
       "</table>\n",
       "</div>"
      ],
      "text/plain": [
       "   Company 1  Company 2\n",
       "0      12859       9449\n",
       "1       6082       5694\n",
       "2       8604       7457\n",
       "3       9230       7725\n",
       "4      10405      10163"
      ]
     },
     "metadata": {},
     "output_type": "display_data"
    },
    {
     "name": "stdout",
     "output_type": "stream",
     "text": [
      "Tail of dataset:\n"
     ]
    },
    {
     "data": {
      "text/html": [
       "<div>\n",
       "<style scoped>\n",
       "    .dataframe tbody tr th:only-of-type {\n",
       "        vertical-align: middle;\n",
       "    }\n",
       "\n",
       "    .dataframe tbody tr th {\n",
       "        vertical-align: top;\n",
       "    }\n",
       "\n",
       "    .dataframe thead th {\n",
       "        text-align: right;\n",
       "    }\n",
       "</style>\n",
       "<table border=\"1\" class=\"dataframe\">\n",
       "  <thead>\n",
       "    <tr style=\"text-align: right;\">\n",
       "      <th></th>\n",
       "      <th>Company 1</th>\n",
       "      <th>Company 2</th>\n",
       "    </tr>\n",
       "  </thead>\n",
       "  <tbody>\n",
       "    <tr>\n",
       "      <th>50</th>\n",
       "      <td>11815</td>\n",
       "      <td>9631</td>\n",
       "    </tr>\n",
       "    <tr>\n",
       "      <th>51</th>\n",
       "      <td>6069</td>\n",
       "      <td>7798</td>\n",
       "    </tr>\n",
       "    <tr>\n",
       "      <th>52</th>\n",
       "      <td>12073</td>\n",
       "      <td>13252</td>\n",
       "    </tr>\n",
       "    <tr>\n",
       "      <th>53</th>\n",
       "      <td>6466</td>\n",
       "      <td>7274</td>\n",
       "    </tr>\n",
       "    <tr>\n",
       "      <th>54</th>\n",
       "      <td>9782</td>\n",
       "      <td>11055</td>\n",
       "    </tr>\n",
       "  </tbody>\n",
       "</table>\n",
       "</div>"
      ],
      "text/plain": [
       "    Company 1  Company 2\n",
       "50      11815       9631\n",
       "51       6069       7798\n",
       "52      12073      13252\n",
       "53       6466       7274\n",
       "54       9782      11055"
      ]
     },
     "metadata": {},
     "output_type": "display_data"
    }
   ],
   "source": [
    "# 讀取資料集\n",
    "df1 = pd.read_excel('Xr13-100.xlsx')\n",
    "\n",
    "# 簡單看一下資料集的樣子\n",
    "# 如果這是你第一次使用這個資料集，使用Excel開啟資料集，\n",
    "# 並確認程式讀到的跟你在Excel中看到的一樣\n",
    "print('Head of dataset:')\n",
    "display(df1.head())\n",
    "\n",
    "print(\"Tail of dataset:\")\n",
    "display(df1.tail())"
   ]
  },
  {
   "cell_type": "markdown",
   "id": "cf51bb74-158d-47f5-a2b7-f102a39b0457",
   "metadata": {},
   "source": [
    "令 Company 1 的均數為 $\\mu_1$。<br>\n",
    "   Company 2 的均數為 $\\mu_2$。\n",
    "\n",
    "Null Hypothesis: $\\mu_1 - \\mu_2 <= 0$ <br>\n",
    "Alternative Hypothesis: $\\mu_1 - \\mu_2 > 0$.\n",
    "\n",
    "using t-test, paired samples"
   ]
  },
  {
   "cell_type": "code",
   "execution_count": 6,
   "id": "29d7a35c-256c-4cf0-a70a-87369f6ed8b5",
   "metadata": {},
   "outputs": [
    {
     "name": "stdout",
     "output_type": "stream",
     "text": [
      "degree of freedom =  54\n",
      "t-value = 2.0824\n",
      "p_value (two sided) = 0.0421\n",
      "p_value (right tail) = 0.0210\n",
      "p_value (left tail) = 0.9790\n"
     ]
    }
   ],
   "source": [
    "samp3 = df1['Company 1'].values\n",
    "samp4 = df1['Company 2'].values\n",
    "\n",
    "samp_diff = samp3 - samp4\n",
    "nobs = samp_diff.shape[0]\n",
    "df = nobs - 1\n",
    "print(\"degree of freedom = \", df)\n",
    "\n",
    "tmpdesc = stats.describe(samp_diff)\n",
    "t_value = tmpdesc.mean / (tmpdesc.variance ** 0.5) * (nobs ** 0.5)\n",
    "print(f\"t-value = {t_value:.4f}\")\n",
    "# tmpdesc\n",
    "\n",
    "# p-values\n",
    "ptmp = stats.t.cdf(t_value, df)\n",
    "p_value_left = ptmp\n",
    "p_value_right = 1 - ptmp\n",
    "if ptmp > 0.5:\n",
    "    ptmp = 1 - ptmp\n",
    "p_value_twoside = ptmp * 2\n",
    "\n",
    "print(f\"p_value (two sided) = {p_value_twoside:.4f}\")\n",
    "print(f\"p_value (right tail) = {p_value_right:.4f}\")\n",
    "print(f\"p_value (left tail) = {p_value_left:.4f}\")"
   ]
  },
  {
   "cell_type": "markdown",
   "id": "cf87bb4a-4b35-4404-983c-094e8bd1057d",
   "metadata": {},
   "source": [
    "In our case, we are performing a right-tailed hypothesis test. The right-tailed p-value is 0.0210.\n",
    "The p-value is smaller than the required significance level 0.05. As a result, we reject the null hypothesis in favor of the alternative hypothesis. \n",
    "\n",
    "We can conclude that that company 1's service results in higher tax payable."
   ]
  },
  {
   "cell_type": "markdown",
   "id": "69ad7609-99ac-4b0f-be97-be4105e18c08",
   "metadata": {},
   "source": [
    "<h2>Problem 13.130"
   ]
  },
  {
   "cell_type": "markdown",
   "id": "fe267e1f-bc9b-41a1-970c-c40fe886330a",
   "metadata": {},
   "source": [
    "令 Regular price 買 warranty 的機率為 p1。<br>\n",
    "   Sale price 買 warranty 的機率為 p2。\n",
    "\n",
    "Null Hypothesis: p1 - p2 = 0 <br>\n",
    "Alternative Hypothesis: p1 - p2 > 0."
   ]
  },
  {
   "cell_type": "code",
   "execution_count": 7,
   "id": "54063f95-b3fd-4fad-aa97-ffe097fa30f6",
   "metadata": {},
   "outputs": [
    {
     "name": "stdout",
     "output_type": "stream",
     "text": [
      "p1 = 0.2052\n",
      "p2 = 0.1404\n",
      "sd_p_pool = 0.0381\n",
      "z-value = 1.6992\n",
      "p-value = 0.0446\n"
     ]
    }
   ],
   "source": [
    "n1 = 229\n",
    "n2 = 178\n",
    "\n",
    "x1 = 47\n",
    "x2 = 25\n",
    "\n",
    "p1 = x1 / n1\n",
    "p2 = x2 / n2\n",
    "\n",
    "p_pool = (x1 + x2) / (n1 + n2)\n",
    "sd_p_pool = (p_pool * (1 - p_pool) * (1 / n1 + 1 / n2)) ** 0.5\n",
    "z_value = (p1 - p2) / sd_p_pool\n",
    "\n",
    "print(f\"p1 = {p1:.4f}\")\n",
    "print(f\"p2 = {p2:.4f}\")\n",
    "print(f\"sd_p_pool = {sd_p_pool:.4f}\")\n",
    "print(f\"z-value = {z_value:.4f}\")\n",
    "p_value = 1 - stats.norm.cdf(z_value)\n",
    "print(f\"p-value = {p_value:.4f}\")"
   ]
  },
  {
   "cell_type": "markdown",
   "id": "984d4412-b835-4207-8342-35b2a607626a",
   "metadata": {},
   "source": [
    "In our case, we are performing a right-tailed hypothesis test. The p-value is 0.0446. The p-value is smaller than the required significance level 0.1. As a result, we reject the null hypothesis in favor of the alternative hypothesis. \n",
    "\n",
    "We can conclude that those who paid the regular price are more likely to buy an extended warranty."
   ]
  },
  {
   "cell_type": "markdown",
   "id": "46a6cde8-f6c9-4980-a7e2-aa0c0f3d0c11",
   "metadata": {},
   "source": [
    "<h2>Problem 13.156"
   ]
  },
  {
   "cell_type": "code",
   "execution_count": 8,
   "id": "110179aa-7a86-4ce7-895c-27f778a4c256",
   "metadata": {},
   "outputs": [
    {
     "name": "stdout",
     "output_type": "stream",
     "text": [
      "Head of dataset:\n"
     ]
    },
    {
     "data": {
      "text/html": [
       "<div>\n",
       "<style scoped>\n",
       "    .dataframe tbody tr th:only-of-type {\n",
       "        vertical-align: middle;\n",
       "    }\n",
       "\n",
       "    .dataframe tbody tr th {\n",
       "        vertical-align: top;\n",
       "    }\n",
       "\n",
       "    .dataframe thead th {\n",
       "        text-align: right;\n",
       "    }\n",
       "</style>\n",
       "<table border=\"1\" class=\"dataframe\">\n",
       "  <thead>\n",
       "    <tr style=\"text-align: right;\">\n",
       "      <th></th>\n",
       "      <th>No religion</th>\n",
       "      <th>Religion</th>\n",
       "      <th>Wallonian</th>\n",
       "    </tr>\n",
       "  </thead>\n",
       "  <tbody>\n",
       "    <tr>\n",
       "      <th>0</th>\n",
       "      <td>2</td>\n",
       "      <td>2</td>\n",
       "      <td>1</td>\n",
       "    </tr>\n",
       "    <tr>\n",
       "      <th>1</th>\n",
       "      <td>2</td>\n",
       "      <td>2</td>\n",
       "      <td>1</td>\n",
       "    </tr>\n",
       "    <tr>\n",
       "      <th>2</th>\n",
       "      <td>2</td>\n",
       "      <td>2</td>\n",
       "      <td>1</td>\n",
       "    </tr>\n",
       "    <tr>\n",
       "      <th>3</th>\n",
       "      <td>1</td>\n",
       "      <td>2</td>\n",
       "      <td>1</td>\n",
       "    </tr>\n",
       "    <tr>\n",
       "      <th>4</th>\n",
       "      <td>2</td>\n",
       "      <td>2</td>\n",
       "      <td>1</td>\n",
       "    </tr>\n",
       "  </tbody>\n",
       "</table>\n",
       "</div>"
      ],
      "text/plain": [
       "   No religion  Religion  Wallonian\n",
       "0            2         2          1\n",
       "1            2         2          1\n",
       "2            2         2          1\n",
       "3            1         2          1\n",
       "4            2         2          1"
      ]
     },
     "metadata": {},
     "output_type": "display_data"
    },
    {
     "name": "stdout",
     "output_type": "stream",
     "text": [
      "Tail of dataset:\n"
     ]
    },
    {
     "data": {
      "text/html": [
       "<div>\n",
       "<style scoped>\n",
       "    .dataframe tbody tr th:only-of-type {\n",
       "        vertical-align: middle;\n",
       "    }\n",
       "\n",
       "    .dataframe tbody tr th {\n",
       "        vertical-align: top;\n",
       "    }\n",
       "\n",
       "    .dataframe thead th {\n",
       "        text-align: right;\n",
       "    }\n",
       "</style>\n",
       "<table border=\"1\" class=\"dataframe\">\n",
       "  <thead>\n",
       "    <tr style=\"text-align: right;\">\n",
       "      <th></th>\n",
       "      <th>No religion</th>\n",
       "      <th>Religion</th>\n",
       "      <th>Wallonian</th>\n",
       "    </tr>\n",
       "  </thead>\n",
       "  <tbody>\n",
       "    <tr>\n",
       "      <th>3195</th>\n",
       "      <td>2</td>\n",
       "      <td>2</td>\n",
       "      <td>1</td>\n",
       "    </tr>\n",
       "    <tr>\n",
       "      <th>3196</th>\n",
       "      <td>2</td>\n",
       "      <td>2</td>\n",
       "      <td>1</td>\n",
       "    </tr>\n",
       "    <tr>\n",
       "      <th>3197</th>\n",
       "      <td>2</td>\n",
       "      <td>2</td>\n",
       "      <td>1</td>\n",
       "    </tr>\n",
       "    <tr>\n",
       "      <th>3198</th>\n",
       "      <td>2</td>\n",
       "      <td>2</td>\n",
       "      <td>1</td>\n",
       "    </tr>\n",
       "    <tr>\n",
       "      <th>3199</th>\n",
       "      <td>2</td>\n",
       "      <td>2</td>\n",
       "      <td>1</td>\n",
       "    </tr>\n",
       "  </tbody>\n",
       "</table>\n",
       "</div>"
      ],
      "text/plain": [
       "      No religion  Religion  Wallonian\n",
       "3195            2         2          1\n",
       "3196            2         2          1\n",
       "3197            2         2          1\n",
       "3198            2         2          1\n",
       "3199            2         2          1"
      ]
     },
     "metadata": {},
     "output_type": "display_data"
    }
   ],
   "source": [
    "# 讀取資料集\n",
    "df1 = pd.read_excel('Xr13-156.xlsx')\n",
    "\n",
    "# 簡單看一下資料集的樣子\n",
    "# 如果這是你第一次使用這個資料集，使用Excel開啟資料集，\n",
    "# 並確認程式讀到的跟你在Excel中看到的一樣\n",
    "print('Head of dataset:')\n",
    "display(df1.head())\n",
    "\n",
    "print(\"Tail of dataset:\")\n",
    "display(df1.tail())"
   ]
  },
  {
   "cell_type": "markdown",
   "id": "fbdf6902-860b-4a44-a914-f6aca4344515",
   "metadata": {},
   "source": [
    "令 No religion call back 的機率為 p1。<br>\n",
    "   Religion call back 的機率為 p2。\n",
    "\n",
    "Null Hypothesis: p1 - p2 = 0 <br>\n",
    "Alternative Hypothesis: p1 - p2 > 0."
   ]
  },
  {
   "cell_type": "code",
   "execution_count": 9,
   "id": "544bf64f-fa26-4408-bc8c-8b0843d8a267",
   "metadata": {},
   "outputs": [],
   "source": [
    "r1 = df1[\"No religion\"]\n",
    "r2 = df1[\"Religion\"]\n",
    "\n",
    "r1 = r1 == 1\n",
    "r2 = r2 == 1"
   ]
  },
  {
   "cell_type": "code",
   "execution_count": 10,
   "id": "7cf4a1cb-360f-44d9-b146-7969c99b74d5",
   "metadata": {},
   "outputs": [
    {
     "name": "stdout",
     "output_type": "stream",
     "text": [
      "p1 = 0.0850\n",
      "p2 = 0.0750\n",
      "sd_p_pool = 0.0068\n",
      "z-value = 1.4744\n",
      "p-value = 0.0702\n"
     ]
    }
   ],
   "source": [
    "p1 = r1.mean()\n",
    "p2 = r2.mean()\n",
    "r12 = np.concatenate([r1, r2])\n",
    "p_pool = r12.mean()\n",
    "sd_p_pool = (p_pool * (1 - p_pool) * \n",
    "             (1 / r1.shape[0] + 1 / r2.shape[0])) ** 0.5\n",
    "z_value = (p1 - p2) / sd_p_pool\n",
    "print(f\"p1 = {p1:.4f}\")\n",
    "print(f\"p2 = {p2:.4f}\")\n",
    "print(f\"sd_p_pool = {sd_p_pool:.4f}\")\n",
    "print(f\"z-value = {z_value:.4f}\")\n",
    "p_value = 1 - stats.norm.cdf(z_value)\n",
    "print(f\"p-value = {p_value:.4f}\")"
   ]
  },
  {
   "cell_type": "markdown",
   "id": "49bf30f1-3584-46db-85f0-9e79141707fe",
   "metadata": {},
   "source": [
    "In our case, we are performing a right-tailed hypothesis test. The p-value is 0.0702. The p-value is larger than the required significance level 0.05. As a result, we reject the alternative hypothesis in favor of the null hypothesis. \n",
    "\n",
    "There is no sufficient evidence to infer that including a reference to religious activity reduces the probability of a call back."
   ]
  }
 ],
 "metadata": {
  "kernelspec": {
   "display_name": "Python 3 (ipykernel)",
   "language": "python",
   "name": "python3"
  },
  "language_info": {
   "codemirror_mode": {
    "name": "ipython",
    "version": 3
   },
   "file_extension": ".py",
   "mimetype": "text/x-python",
   "name": "python",
   "nbconvert_exporter": "python",
   "pygments_lexer": "ipython3",
   "version": "3.9.7"
  }
 },
 "nbformat": 4,
 "nbformat_minor": 5
}
