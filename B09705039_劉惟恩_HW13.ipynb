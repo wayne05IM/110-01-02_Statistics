{
 "cells": [
  {
   "cell_type": "markdown",
   "id": "0f00c86c-0873-41e3-8d92-1f6c22c41c83",
   "metadata": {},
   "source": [
    "<h1>B09705039_劉惟恩_HW08"
   ]
  },
  {
   "cell_type": "code",
   "execution_count": 1,
   "id": "bbc25fce-08a0-4816-8a3e-cbf19522822e",
   "metadata": {},
   "outputs": [],
   "source": [
    "#載入所需函示庫\n",
    "from matplotlib import pyplot as plt\n",
    "%matplotlib inline\n",
    "# 設定圖形大小; DPI越大圖越大\n",
    "plt.rcParams[\"figure.dpi\"] = 100\n",
    "import seaborn as sns\n",
    "import pandas as pd\n",
    "import numpy as np\n",
    "import scipy.stats as stats\n",
    "import statsmodels.api as sm\n",
    "import statsmodels.stats.api as sms\n",
    "import statsmodels.formula.api as smf\n",
    "import statsmodels.stats.multicomp as smm\n",
    "import statsmodels.stats.outliers_influence as sso\n",
    "import statsmodels\n",
    "\n",
    "import statsmodels.formula.api as smf"
   ]
  },
  {
   "cell_type": "markdown",
   "id": "1e6e6273-d863-4386-9736-de3afa113c43",
   "metadata": {},
   "source": [
    "<h2>16.5"
   ]
  },
  {
   "cell_type": "code",
   "execution_count": 2,
   "id": "07ed0a8a-b859-436d-8301-e452127c2371",
   "metadata": {},
   "outputs": [
    {
     "name": "stdout",
     "output_type": "stream",
     "text": [
      "Head of dataset:\n"
     ]
    },
    {
     "data": {
      "text/html": [
       "<div>\n",
       "<style scoped>\n",
       "    .dataframe tbody tr th:only-of-type {\n",
       "        vertical-align: middle;\n",
       "    }\n",
       "\n",
       "    .dataframe tbody tr th {\n",
       "        vertical-align: top;\n",
       "    }\n",
       "\n",
       "    .dataframe thead th {\n",
       "        text-align: right;\n",
       "    }\n",
       "</style>\n",
       "<table border=\"1\" class=\"dataframe\">\n",
       "  <thead>\n",
       "    <tr style=\"text-align: right;\">\n",
       "      <th></th>\n",
       "      <th>Temperature</th>\n",
       "      <th>Beers</th>\n",
       "    </tr>\n",
       "  </thead>\n",
       "  <tbody>\n",
       "    <tr>\n",
       "      <th>0</th>\n",
       "      <td>80</td>\n",
       "      <td>20533</td>\n",
       "    </tr>\n",
       "    <tr>\n",
       "      <th>1</th>\n",
       "      <td>68</td>\n",
       "      <td>1439</td>\n",
       "    </tr>\n",
       "    <tr>\n",
       "      <th>2</th>\n",
       "      <td>78</td>\n",
       "      <td>13829</td>\n",
       "    </tr>\n",
       "    <tr>\n",
       "      <th>3</th>\n",
       "      <td>79</td>\n",
       "      <td>21286</td>\n",
       "    </tr>\n",
       "    <tr>\n",
       "      <th>4</th>\n",
       "      <td>87</td>\n",
       "      <td>30985</td>\n",
       "    </tr>\n",
       "  </tbody>\n",
       "</table>\n",
       "</div>"
      ],
      "text/plain": [
       "   Temperature  Beers\n",
       "0           80  20533\n",
       "1           68   1439\n",
       "2           78  13829\n",
       "3           79  21286\n",
       "4           87  30985"
      ]
     },
     "metadata": {},
     "output_type": "display_data"
    },
    {
     "name": "stdout",
     "output_type": "stream",
     "text": [
      "Tail of dataset:\n"
     ]
    },
    {
     "data": {
      "text/html": [
       "<div>\n",
       "<style scoped>\n",
       "    .dataframe tbody tr th:only-of-type {\n",
       "        vertical-align: middle;\n",
       "    }\n",
       "\n",
       "    .dataframe tbody tr th {\n",
       "        vertical-align: top;\n",
       "    }\n",
       "\n",
       "    .dataframe thead th {\n",
       "        text-align: right;\n",
       "    }\n",
       "</style>\n",
       "<table border=\"1\" class=\"dataframe\">\n",
       "  <thead>\n",
       "    <tr style=\"text-align: right;\">\n",
       "      <th></th>\n",
       "      <th>Temperature</th>\n",
       "      <th>Beers</th>\n",
       "    </tr>\n",
       "  </thead>\n",
       "  <tbody>\n",
       "    <tr>\n",
       "      <th>5</th>\n",
       "      <td>74</td>\n",
       "      <td>17187</td>\n",
       "    </tr>\n",
       "    <tr>\n",
       "      <th>6</th>\n",
       "      <td>86</td>\n",
       "      <td>30240</td>\n",
       "    </tr>\n",
       "    <tr>\n",
       "      <th>7</th>\n",
       "      <td>92</td>\n",
       "      <td>37596</td>\n",
       "    </tr>\n",
       "    <tr>\n",
       "      <th>8</th>\n",
       "      <td>77</td>\n",
       "      <td>9610</td>\n",
       "    </tr>\n",
       "    <tr>\n",
       "      <th>9</th>\n",
       "      <td>84</td>\n",
       "      <td>28742</td>\n",
       "    </tr>\n",
       "  </tbody>\n",
       "</table>\n",
       "</div>"
      ],
      "text/plain": [
       "   Temperature  Beers\n",
       "5           74  17187\n",
       "6           86  30240\n",
       "7           92  37596\n",
       "8           77   9610\n",
       "9           84  28742"
      ]
     },
     "metadata": {},
     "output_type": "display_data"
    }
   ],
   "source": [
    "#讀取資料集\n",
    "df5 = pd.read_excel('Xr16-05.xlsx')\n",
    "\n",
    "print('Head of dataset:')\n",
    "display(df5.head())\n",
    "print(\"Tail of dataset:\")\n",
    "display(df5.tail())"
   ]
  },
  {
   "cell_type": "code",
   "execution_count": 3,
   "id": "f62ae19b-3abc-49aa-865f-76202ab4f2fa",
   "metadata": {},
   "outputs": [
    {
     "data": {
      "image/png": "[encoded data removed]",
      "text/plain": [
       "<Figure size 600x400 with 1 Axes>"
      ]
     },
     "metadata": {
      "needs_background": "light"
     },
     "output_type": "display_data"
    }
   ],
   "source": [
    "_ = sns.regplot(x='Temperature', y= 'Beers', data = df5, color = 'b', ci = None)\n",
    "plt.title('Scatter Plot for beer sales')\n",
    "plt.xlabel('Temperature')\n",
    "plt.ylabel('Beers')\n",
    "plt.show()"
   ]
  },
  {
   "cell_type": "markdown",
   "id": "67984392-b92a-46b6-a8d5-11480fc92e3f",
   "metadata": {},
   "source": [
    "Set x as Temperature, y as Beers."
   ]
  },
  {
   "cell_type": "code",
   "execution_count": 4,
   "id": "fecd372d-5523-4826-ac23-d12c073d4019",
   "metadata": {},
   "outputs": [
    {
     "name": "stdout",
     "output_type": "stream",
     "text": [
      "                            OLS Regression Results                            \n",
      "==============================================================================\n",
      "Dep. Variable:                  Beers   R-squared:                       0.910\n",
      "Model:                            OLS   Adj. R-squared:                  0.898\n",
      "Method:                 Least Squares   F-statistic:                     80.61\n",
      "Date:                Tue, 19 Apr 2022   Prob (F-statistic):           1.89e-05\n",
      "Time:                        22:02:00   Log-Likelihood:                -94.740\n",
      "No. Observations:                  10   AIC:                             193.5\n",
      "Df Residuals:                       8   BIC:                             194.1\n",
      "Df Model:                           1                                         \n",
      "Covariance Type:            nonrobust                                         \n",
      "===============================================================================\n",
      "                  coef    std err          t      P>|t|      [0.025      0.975]\n",
      "-------------------------------------------------------------------------------\n",
      "Intercept   -1.007e+05   1.36e+04     -7.395      0.000   -1.32e+05   -6.93e+04\n",
      "Temperature  1513.3276    168.551      8.978      0.000    1124.648    1902.008\n",
      "==============================================================================\n",
      "Omnibus:                        0.821   Durbin-Watson:                   2.157\n",
      "Prob(Omnibus):                  0.663   Jarque-Bera (JB):                0.058\n",
      "Skew:                          -0.187   Prob(JB):                        0.971\n",
      "Kurtosis:                       2.975   Cond. No.                         988.\n",
      "==============================================================================\n",
      "\n",
      "Notes:\n",
      "[1] Standard Errors assume that the covariance matrix of the errors is correctly specified.\n",
      "\n",
      "Estimated model: y = -100678.1723 + 1513.3276 x\n"
     ]
    },
    {
     "name": "stderr",
     "output_type": "stream",
     "text": [
      "/Users/liuweien/opt/anaconda3/lib/python3.9/site-packages/scipy/stats/stats.py:1541: UserWarning: kurtosistest only valid for n>=20 ... continuing anyway, n=10\n",
      "  warnings.warn(\"kurtosistest only valid for n>=20 ... continuing \"\n"
     ]
    }
   ],
   "source": [
    "# Fit regression model \n",
    "df5_result1 = smf.ols('Beers~ Temperature', data=df5).fit()\n",
    "# Inspect the results\n",
    "print(df5_result1.summary())\n",
    "\n",
    "b1 = df5_result1.params[1]\n",
    "b0 = df5_result1.params[0]\n",
    "print(\"\\nEstimated model: y = %0.4f + %0.4f x\" % (b0, b1))"
   ]
  },
  {
   "cell_type": "markdown",
   "id": "a9165228-cde2-4e7f-9776-8e646cc16799",
   "metadata": {},
   "source": [
    "<h3>(a)"
   ]
  },
  {
   "cell_type": "markdown",
   "id": "6007192a-4cc2-48b8-a1a4-2421e10d9af8",
   "metadata": {},
   "source": [
    "$b_0$ = -100678.1723, $b_1$ = 1513.3276"
   ]
  },
  {
   "cell_type": "markdown",
   "id": "6e1110e3-69cd-45b4-8295-18a978e75012",
   "metadata": {},
   "source": [
    "<h3>(b)"
   ]
  },
  {
   "cell_type": "markdown",
   "id": "022b9b9f-38dc-4e3a-96d5-6c64301e2c51",
   "metadata": {},
   "source": [
    "$b_0$: The intercept is -100678.1723. Cannot be interpret since there is no data near temperature = 0. <br>\n",
    "$b_1$: The slope of the line. For each additional rise of temperature, the beer sales increases by an average of 1513.3276."
   ]
  },
  {
   "cell_type": "markdown",
   "id": "d7c95a3c-34bb-4e02-91ae-1a171d2ea718",
   "metadata": {},
   "source": [
    "<h2>16.15"
   ]
  },
  {
   "cell_type": "code",
   "execution_count": 5,
   "id": "6c796cb4-50f5-4824-be4b-552cdd631816",
   "metadata": {},
   "outputs": [
    {
     "name": "stdout",
     "output_type": "stream",
     "text": [
      "Head of dataset:\n"
     ]
    },
    {
     "data": {
      "text/html": [
       "<div>\n",
       "<style scoped>\n",
       "    .dataframe tbody tr th:only-of-type {\n",
       "        vertical-align: middle;\n",
       "    }\n",
       "\n",
       "    .dataframe tbody tr th {\n",
       "        vertical-align: top;\n",
       "    }\n",
       "\n",
       "    .dataframe thead th {\n",
       "        text-align: right;\n",
       "    }\n",
       "</style>\n",
       "<table border=\"1\" class=\"dataframe\">\n",
       "  <thead>\n",
       "    <tr style=\"text-align: right;\">\n",
       "      <th></th>\n",
       "      <th>Income</th>\n",
       "      <th>Food</th>\n",
       "    </tr>\n",
       "  </thead>\n",
       "  <tbody>\n",
       "    <tr>\n",
       "      <th>0</th>\n",
       "      <td>53</td>\n",
       "      <td>188.24</td>\n",
       "    </tr>\n",
       "    <tr>\n",
       "      <th>1</th>\n",
       "      <td>47</td>\n",
       "      <td>304.89</td>\n",
       "    </tr>\n",
       "    <tr>\n",
       "      <th>2</th>\n",
       "      <td>59</td>\n",
       "      <td>304.99</td>\n",
       "    </tr>\n",
       "    <tr>\n",
       "      <th>3</th>\n",
       "      <td>44</td>\n",
       "      <td>283.99</td>\n",
       "    </tr>\n",
       "    <tr>\n",
       "      <th>4</th>\n",
       "      <td>87</td>\n",
       "      <td>316.21</td>\n",
       "    </tr>\n",
       "  </tbody>\n",
       "</table>\n",
       "</div>"
      ],
      "text/plain": [
       "   Income    Food\n",
       "0      53  188.24\n",
       "1      47  304.89\n",
       "2      59  304.99\n",
       "3      44  283.99\n",
       "4      87  316.21"
      ]
     },
     "metadata": {},
     "output_type": "display_data"
    },
    {
     "name": "stdout",
     "output_type": "stream",
     "text": [
      "Tail of dataset:\n"
     ]
    },
    {
     "data": {
      "text/html": [
       "<div>\n",
       "<style scoped>\n",
       "    .dataframe tbody tr th:only-of-type {\n",
       "        vertical-align: middle;\n",
       "    }\n",
       "\n",
       "    .dataframe tbody tr th {\n",
       "        vertical-align: top;\n",
       "    }\n",
       "\n",
       "    .dataframe thead th {\n",
       "        text-align: right;\n",
       "    }\n",
       "</style>\n",
       "<table border=\"1\" class=\"dataframe\">\n",
       "  <thead>\n",
       "    <tr style=\"text-align: right;\">\n",
       "      <th></th>\n",
       "      <th>Income</th>\n",
       "      <th>Food</th>\n",
       "    </tr>\n",
       "  </thead>\n",
       "  <tbody>\n",
       "    <tr>\n",
       "      <th>145</th>\n",
       "      <td>65</td>\n",
       "      <td>220.19</td>\n",
       "    </tr>\n",
       "    <tr>\n",
       "      <th>146</th>\n",
       "      <td>72</td>\n",
       "      <td>304.07</td>\n",
       "    </tr>\n",
       "    <tr>\n",
       "      <th>147</th>\n",
       "      <td>80</td>\n",
       "      <td>330.50</td>\n",
       "    </tr>\n",
       "    <tr>\n",
       "      <th>148</th>\n",
       "      <td>59</td>\n",
       "      <td>257.37</td>\n",
       "    </tr>\n",
       "    <tr>\n",
       "      <th>149</th>\n",
       "      <td>81</td>\n",
       "      <td>313.64</td>\n",
       "    </tr>\n",
       "  </tbody>\n",
       "</table>\n",
       "</div>"
      ],
      "text/plain": [
       "     Income    Food\n",
       "145      65  220.19\n",
       "146      72  304.07\n",
       "147      80  330.50\n",
       "148      59  257.37\n",
       "149      81  313.64"
      ]
     },
     "metadata": {},
     "output_type": "display_data"
    }
   ],
   "source": [
    "#讀取資料集\n",
    "df15 = pd.read_excel('Xr16-15.xlsx')\n",
    "\n",
    "print('Head of dataset:')\n",
    "display(df15.head())\n",
    "print(\"Tail of dataset:\")\n",
    "display(df15.tail())"
   ]
  },
  {
   "cell_type": "code",
   "execution_count": 6,
   "id": "2bc73375-3a29-44bd-89d1-26480ae6878c",
   "metadata": {},
   "outputs": [
    {
     "data": {
      "image/png": "[encoded data removed]",
      "text/plain": [
       "<Figure size 600x400 with 1 Axes>"
      ]
     },
     "metadata": {
      "needs_background": "light"
     },
     "output_type": "display_data"
    }
   ],
   "source": [
    "_ = sns.regplot(x='Income', y= 'Food', data = df15, color = 'b', ci = None)\n",
    "plt.title('Scatter Plot for the amount of money spent on food during one week')\n",
    "plt.xlabel('Income (in $1,000s)')\n",
    "plt.ylabel('Food')\n",
    "plt.show()"
   ]
  },
  {
   "cell_type": "code",
   "execution_count": 7,
   "id": "42846955-d331-4b27-bbe2-ea741726e67b",
   "metadata": {},
   "outputs": [
    {
     "name": "stdout",
     "output_type": "stream",
     "text": [
      "                            OLS Regression Results                            \n",
      "==============================================================================\n",
      "Dep. Variable:                   Food   R-squared:                       0.246\n",
      "Model:                            OLS   Adj. R-squared:                  0.241\n",
      "Method:                 Least Squares   F-statistic:                     48.25\n",
      "Date:                Tue, 19 Apr 2022   Prob (F-statistic):           1.10e-10\n",
      "Time:                        22:02:00   Log-Likelihood:                -753.23\n",
      "No. Observations:                 150   AIC:                             1510.\n",
      "Df Residuals:                     148   BIC:                             1516.\n",
      "Df Model:                           1                                         \n",
      "Covariance Type:            nonrobust                                         \n",
      "==============================================================================\n",
      "                 coef    std err          t      P>|t|      [0.025      0.975]\n",
      "------------------------------------------------------------------------------\n",
      "Intercept    153.8986     17.020      9.042      0.000     120.265     187.532\n",
      "Income         1.9582      0.282      6.946      0.000       1.401       2.515\n",
      "==============================================================================\n",
      "Omnibus:                        1.142   Durbin-Watson:                   1.985\n",
      "Prob(Omnibus):                  0.565   Jarque-Bera (JB):                0.758\n",
      "Skew:                          -0.133   Prob(JB):                        0.685\n",
      "Kurtosis:                       3.225   Cond. No.                         341.\n",
      "==============================================================================\n",
      "\n",
      "Notes:\n",
      "[1] Standard Errors assume that the covariance matrix of the errors is correctly specified.\n",
      "\n",
      "Estimated model: y = 153.8986 + 1.9582 x\n"
     ]
    }
   ],
   "source": [
    "# Fit regression model \n",
    "df15_result1 = smf.ols('Food~ Income', data=df15).fit()\n",
    "# Inspect the results\n",
    "print(df15_result1.summary())\n",
    "\n",
    "b1 = df15_result1.params[1]\n",
    "b0 = df15_result1.params[0]\n",
    "print(\"\\nEstimated model: y = %0.4f + %0.4f x\" % (b0, b1))"
   ]
  },
  {
   "cell_type": "markdown",
   "id": "f21d3dae-e5b4-439f-9d50-e59317ac3c0a",
   "metadata": {},
   "source": [
    "Regression Line:<br>\n",
    "y = 153.8986 + 1.9582 x<br>\n",
    "\n",
    "Interpret the coefficients:<br>\n",
    "$b_0$: The intercept is 153.8986. Cannot be interpret since there is no data near income = 0. <br>\n",
    "$b_1$: The slope of the line. For each additional Income, the amount of money spent on food during one week increases by an average of 1.9582."
   ]
  },
  {
   "cell_type": "markdown",
   "id": "f706eb8e-d0d6-4c36-9955-a0cc7aff94ba",
   "metadata": {},
   "source": [
    "<h2>16.27"
   ]
  },
  {
   "cell_type": "code",
   "execution_count": 8,
   "id": "e47d936a-e0da-4fd0-8c48-1fe02d30be71",
   "metadata": {},
   "outputs": [
    {
     "name": "stdout",
     "output_type": "stream",
     "text": [
      "MSE:  12400763.34404352\n",
      "Standard errors:  3521.471758234548\n",
      "The sample mean of the dependent variable:  21144.7\n",
      "r =  0.9537919899105395\n"
     ]
    }
   ],
   "source": [
    "s2_e = df5_result1.mse_resid\n",
    "print('MSE: ', s2_e)\n",
    "s_e = df5_result1.mse_resid ** 0.5\n",
    "print('Standard errors: ', s_e)\n",
    "print(\"The sample mean of the dependent variable: \", df5['Beers'].mean())\n",
    "\n",
    "r, pvalue = stats.pearsonr(df5['Beers'], df5['Temperature'])\n",
    "print(\"r = \", r)"
   ]
  },
  {
   "cell_type": "markdown",
   "id": "397ebc98-4064-4064-b93d-af65cb168c38",
   "metadata": {},
   "source": [
    "(1) The standard errors (3521.471758234548) are smaller than the sample mean of the dependent variable (21144.7).\n",
    "Hence our linear regression model is good.<br>\n",
    "(2) The Correlation Coefficient = 0.9537919899105395\n",
    "There is a very strong positive linear relationship (about 95%) between the beer sales and the temperature.<br>\n",
    "There is no evidence of a negative linear relationship between temperature and the number of beers sold at Yankee Stadium in Exercise 16.5."
   ]
  },
  {
   "cell_type": "markdown",
   "id": "370ee68c-9e29-4969-86b6-80d5ccd542f4",
   "metadata": {},
   "source": [
    "<h2>16.37"
   ]
  },
  {
   "cell_type": "markdown",
   "id": "6d2efd10-9ca7-48e4-a149-6c1cad503785",
   "metadata": {},
   "source": [
    "<h3>(a)"
   ]
  },
  {
   "cell_type": "code",
   "execution_count": 9,
   "id": "76f80619-d236-4be0-a3f8-0f8c7c796b93",
   "metadata": {},
   "outputs": [
    {
     "name": "stdout",
     "output_type": "stream",
     "text": [
      "SSR =  201948.01601298043\n",
      "R2 =  0.24587056865702062\n"
     ]
    }
   ],
   "source": [
    "SSR = df15_result1.ssr\n",
    "R2 = df15_result1.rsquared\n",
    "print(\"SSR = \", SSR)\n",
    "print(\"R2 = \", R2)"
   ]
  },
  {
   "cell_type": "markdown",
   "id": "853c5f27-4628-46e6-ab4a-b52253cc497e",
   "metadata": {},
   "source": [
    "Coefficient of determination = 0.24587056865702062<br>\n",
    "Interpretation: About 25% of the variation in the food budget is explained by the variation in house-hold income.  The rest (75%) remains unexplained by this model."
   ]
  },
  {
   "cell_type": "markdown",
   "id": "147f6e66-b100-4930-ae9e-08748e822c4e",
   "metadata": {},
   "source": [
    "<h3>(b)"
   ]
  },
  {
   "cell_type": "markdown",
   "id": "e7bc46eb-54fb-48c1-8735-3a37b159fafd",
   "metadata": {},
   "source": [
    "Significance Test:<br>\n",
    "Hypothesis Testing about $\\beta_1$:<br>\n",
    "H0:$\\beta_1$ = 0 (No linear relationship.)<br>\n",
    "H1:$\\beta_1 \\neq$ 0 (Linear relationship.)"
   ]
  },
  {
   "cell_type": "markdown",
   "id": "ccd4a763-3fbb-4680-a72c-873cab89bc1b",
   "metadata": {},
   "source": [
    "This test in conducted in the chart of OLS Regression Results in 16.15. <br>\n",
    "According to the chart the t is 6.946, and the p-value is 0.000. <br>\n",
    "Since the p-value < alpha = 0.05, we reject H0 in favor of H1. There is sufficient evidence at alpha = 5% to infer that there are linear relationship between the two variables. There is evidence of a linear relationship between house-hold income and food budget."
   ]
  },
  {
   "cell_type": "markdown",
   "id": "8c76cd30-eaed-4f6e-acb1-8f307c3ddc21",
   "metadata": {},
   "source": [
    "<h2>16.43"
   ]
  },
  {
   "cell_type": "markdown",
   "id": "7c1ed192-b373-4e58-842a-374afd82ad64",
   "metadata": {},
   "source": [
    "When there are no linear relationship between two variables, $\\rho$ = 0.<br>\n",
    "The hypotheses are:<br>\n",
    "H0: $\\rho$ = 0<br>\n",
    "H1: $\\rho$ $\\neq$ 0"
   ]
  },
  {
   "cell_type": "code",
   "execution_count": 10,
   "id": "336c6432-683c-4340-8879-01afbb290868",
   "metadata": {},
   "outputs": [
    {
     "name": "stdout",
     "output_type": "stream",
     "text": [
      "r =  0.49585337415108977\n",
      "t_critical =  1.9761224936033632\n",
      "t =  6.946422350608931\n",
      "p_value =  1.1047043543420718e-10\n"
     ]
    }
   ],
   "source": [
    "def c_of_c_test(r, n):\n",
    "    t_value = r * ((n-2)/(1 - r**2)) ** 0.5\n",
    "    t_critical = stats.t.ppf(0.975, n - 2)\n",
    "    pval = stats.t.sf(np.abs(t_value), n - 2)*2\n",
    "    print('r = ', r)\n",
    "    print('t_critical = ', t_critical)\n",
    "    print('t = ', t_value)\n",
    "    print('p_value = ', pval)\n",
    "    return t_value\n",
    "\n",
    "\n",
    "cor_mat = np.corrcoef(df15[['Food', 'Income']].values, rowvar = False)\n",
    "n = df15.shape[0]\n",
    "r_t_value = c_of_c_test(cor_mat[1,0], n)"
   ]
  },
  {
   "cell_type": "markdown",
   "id": "562198e3-5964-40e2-8eea-b3724f5efd21",
   "metadata": {},
   "source": [
    "Since the p-value < alpha = 0.05, we reject H0 in favor of H1. There is sufficient evidence at alpha = 5% to infer that there are linear relationship between the two variables. The food budget and household income in Exercise 16.15 are linearly related."
   ]
  },
  {
   "cell_type": "markdown",
   "id": "2e5636d8-76e2-46d9-8ef3-e09b1c292c1d",
   "metadata": {},
   "source": [
    "<h2>16.49"
   ]
  },
  {
   "cell_type": "code",
   "execution_count": 11,
   "id": "c270f346-73d4-4611-8180-fa021b364a06",
   "metadata": {},
   "outputs": [
    {
     "name": "stdout",
     "output_type": "stream",
     "text": [
      "Head of dataset:\n"
     ]
    },
    {
     "data": {
      "text/html": [
       "<div>\n",
       "<style scoped>\n",
       "    .dataframe tbody tr th:only-of-type {\n",
       "        vertical-align: middle;\n",
       "    }\n",
       "\n",
       "    .dataframe tbody tr th {\n",
       "        vertical-align: top;\n",
       "    }\n",
       "\n",
       "    .dataframe thead th {\n",
       "        text-align: right;\n",
       "    }\n",
       "</style>\n",
       "<table border=\"1\" class=\"dataframe\">\n",
       "  <thead>\n",
       "    <tr style=\"text-align: right;\">\n",
       "      <th></th>\n",
       "      <th>Temperature</th>\n",
       "      <th>Distance</th>\n",
       "    </tr>\n",
       "  </thead>\n",
       "  <tbody>\n",
       "    <tr>\n",
       "      <th>0</th>\n",
       "      <td>68</td>\n",
       "      <td>211</td>\n",
       "    </tr>\n",
       "    <tr>\n",
       "      <th>1</th>\n",
       "      <td>58</td>\n",
       "      <td>214</td>\n",
       "    </tr>\n",
       "    <tr>\n",
       "      <th>2</th>\n",
       "      <td>68</td>\n",
       "      <td>214</td>\n",
       "    </tr>\n",
       "    <tr>\n",
       "      <th>3</th>\n",
       "      <td>71</td>\n",
       "      <td>215</td>\n",
       "    </tr>\n",
       "    <tr>\n",
       "      <th>4</th>\n",
       "      <td>77</td>\n",
       "      <td>217</td>\n",
       "    </tr>\n",
       "  </tbody>\n",
       "</table>\n",
       "</div>"
      ],
      "text/plain": [
       "   Temperature  Distance\n",
       "0           68       211\n",
       "1           58       214\n",
       "2           68       214\n",
       "3           71       215\n",
       "4           77       217"
      ]
     },
     "metadata": {},
     "output_type": "display_data"
    },
    {
     "name": "stdout",
     "output_type": "stream",
     "text": [
      "Tail of dataset:\n"
     ]
    },
    {
     "data": {
      "text/html": [
       "<div>\n",
       "<style scoped>\n",
       "    .dataframe tbody tr th:only-of-type {\n",
       "        vertical-align: middle;\n",
       "    }\n",
       "\n",
       "    .dataframe tbody tr th {\n",
       "        vertical-align: top;\n",
       "    }\n",
       "\n",
       "    .dataframe thead th {\n",
       "        text-align: right;\n",
       "    }\n",
       "</style>\n",
       "<table border=\"1\" class=\"dataframe\">\n",
       "  <thead>\n",
       "    <tr style=\"text-align: right;\">\n",
       "      <th></th>\n",
       "      <th>Temperature</th>\n",
       "      <th>Distance</th>\n",
       "    </tr>\n",
       "  </thead>\n",
       "  <tbody>\n",
       "    <tr>\n",
       "      <th>72</th>\n",
       "      <td>62</td>\n",
       "      <td>210</td>\n",
       "    </tr>\n",
       "    <tr>\n",
       "      <th>73</th>\n",
       "      <td>90</td>\n",
       "      <td>216</td>\n",
       "    </tr>\n",
       "    <tr>\n",
       "      <th>74</th>\n",
       "      <td>76</td>\n",
       "      <td>214</td>\n",
       "    </tr>\n",
       "    <tr>\n",
       "      <th>75</th>\n",
       "      <td>79</td>\n",
       "      <td>214</td>\n",
       "    </tr>\n",
       "    <tr>\n",
       "      <th>76</th>\n",
       "      <td>69</td>\n",
       "      <td>212</td>\n",
       "    </tr>\n",
       "  </tbody>\n",
       "</table>\n",
       "</div>"
      ],
      "text/plain": [
       "    Temperature  Distance\n",
       "72           62       210\n",
       "73           90       216\n",
       "74           76       214\n",
       "75           79       214\n",
       "76           69       212"
      ]
     },
     "metadata": {},
     "output_type": "display_data"
    }
   ],
   "source": [
    "#讀取資料集\n",
    "df49 = pd.read_excel('Xr03-71.xlsx')\n",
    "\n",
    "print('Head of dataset:')\n",
    "display(df49.head())\n",
    "print(\"Tail of dataset:\")\n",
    "display(df49.tail())"
   ]
  },
  {
   "cell_type": "markdown",
   "id": "f28e178a-5272-4d66-b7b7-e42a96f24fb4",
   "metadata": {},
   "source": [
    "<h3>(a)"
   ]
  },
  {
   "cell_type": "code",
   "execution_count": 12,
   "id": "ae224edd-e573-45c5-b048-255eaedf349f",
   "metadata": {},
   "outputs": [
    {
     "data": {
      "image/png": "[encoded data removed]",
      "text/plain": [
       "<Figure size 600x400 with 1 Axes>"
      ]
     },
     "metadata": {
      "needs_background": "light"
     },
     "output_type": "display_data"
    }
   ],
   "source": [
    "_ = sns.regplot(x='Temperature', y= 'Distance', data = df49, color = 'b', ci = None)\n",
    "plt.title('Scatter Plot for the distance that golf balls travel')\n",
    "plt.xlabel('Temperature')\n",
    "plt.ylabel('Distance')\n",
    "plt.show()"
   ]
  },
  {
   "cell_type": "code",
   "execution_count": 13,
   "id": "9971fc98-9b1b-4e6b-8226-b7ab43ef282d",
   "metadata": {},
   "outputs": [
    {
     "name": "stdout",
     "output_type": "stream",
     "text": [
      "                            OLS Regression Results                            \n",
      "==============================================================================\n",
      "Dep. Variable:               Distance   R-squared:                       0.317\n",
      "Model:                            OLS   Adj. R-squared:                  0.308\n",
      "Method:                 Least Squares   F-statistic:                     34.75\n",
      "Date:                Tue, 19 Apr 2022   Prob (F-statistic):           1.00e-07\n",
      "Time:                        22:02:00   Log-Likelihood:                -164.64\n",
      "No. Observations:                  77   AIC:                             333.3\n",
      "Df Residuals:                      75   BIC:                             338.0\n",
      "Df Model:                           1                                         \n",
      "Covariance Type:            nonrobust                                         \n",
      "===============================================================================\n",
      "                  coef    std err          t      P>|t|      [0.025      0.975]\n",
      "-------------------------------------------------------------------------------\n",
      "Intercept     202.2311      2.151     94.038      0.000     197.947     206.515\n",
      "Temperature     0.1662      0.028      5.895      0.000       0.110       0.222\n",
      "==============================================================================\n",
      "Omnibus:                        0.495   Durbin-Watson:                   1.746\n",
      "Prob(Omnibus):                  0.781   Jarque-Bera (JB):                0.629\n",
      "Skew:                           0.164   Prob(JB):                        0.730\n",
      "Kurtosis:                       2.703   Cond. No.                         692.\n",
      "==============================================================================\n",
      "\n",
      "Notes:\n",
      "[1] Standard Errors assume that the covariance matrix of the errors is correctly specified.\n",
      "\n",
      "Estimated model: y = 202.2311 + 0.1662 x\n"
     ]
    }
   ],
   "source": [
    "# Fit regression model \n",
    "df49_result1 = smf.ols('Distance~ Temperature', data=df49).fit()\n",
    "# Inspect the results\n",
    "print(df49_result1.summary())\n",
    "\n",
    "b1 = df49_result1.params[1]\n",
    "b0 = df49_result1.params[0]\n",
    "print(\"\\nEstimated model: y = %0.4f + %0.4f x\" % (b0, b1))"
   ]
  },
  {
   "cell_type": "code",
   "execution_count": 14,
   "id": "28e19ee0-ed3d-4026-8b8e-c8a6c4e16621",
   "metadata": {},
   "outputs": [
    {
     "name": "stdout",
     "output_type": "stream",
     "text": [
      "MSE:  4.326207510827569\n",
      "Standard errors:  2.0799537280496336\n",
      "The sample mean of the dependent variable:  214.83116883116884\n",
      "r =  0.562702713897726\n"
     ]
    }
   ],
   "source": [
    "s2_e = df49_result1.mse_resid\n",
    "print('MSE: ', s2_e)\n",
    "s_e = df49_result1.mse_resid ** 0.5\n",
    "print('Standard errors: ', s_e)\n",
    "print(\"The sample mean of the dependent variable: \", df49[\"Distance\"].mean())\n",
    "\n",
    "r, pvalue = stats.pearsonr(df49['Distance'], df49['Temperature'])\n",
    "print(\"r = \", r)"
   ]
  },
  {
   "cell_type": "markdown",
   "id": "65c7c720-daed-4871-8927-0a80db3b432d",
   "metadata": {},
   "source": [
    "(1) The standard errors (2.0799537280496336) are smaller than the sample mean of the dependent variable (214.83116883116884).\n",
    "Hence our linear regression model is good.<br>\n",
    "(2) The Correlation Coefficient = 0.562702713897726\n",
    "There is a mederately strong positive linear relationship (about 56%) between the temperature and distance that golf balls travel.<br>\n",
    "There is enough evidence of a positive linear relationship."
   ]
  },
  {
   "cell_type": "markdown",
   "id": "273653eb-4cb4-4a45-8a95-229b4aa33214",
   "metadata": {},
   "source": [
    "<h3>(b)"
   ]
  },
  {
   "cell_type": "markdown",
   "id": "a1e30d88-6492-419f-8881-a3b49e6084bc",
   "metadata": {},
   "source": [
    "The slope coefficient interpretation:<br>\n",
    "For each additional rise of temperature, the amount of distance that golf balls travel increases by an average of 0.1662."
   ]
  },
  {
   "cell_type": "markdown",
   "id": "1115d69d-8e1a-4d0a-b6f7-4d51faa34955",
   "metadata": {},
   "source": [
    "<h3>(c)"
   ]
  },
  {
   "cell_type": "code",
   "execution_count": 15,
   "id": "bcb9b913-cbbf-49d7-88fb-739280823000",
   "metadata": {},
   "outputs": [
    {
     "name": "stdout",
     "output_type": "stream",
     "text": [
      "SSR =  324.4655633120677\n",
      "R2 =  0.31663434422786607\n"
     ]
    }
   ],
   "source": [
    "SSR = df49_result1.ssr\n",
    "R2 = df49_result1.rsquared\n",
    "print(\"SSR = \", SSR)\n",
    "print(\"R2 = \", R2)"
   ]
  },
  {
   "cell_type": "markdown",
   "id": "a9bc07aa-b0df-47c7-b32b-75c129aaff23",
   "metadata": {},
   "source": [
    "Coefficient of determination = 0.31663434422786607<br>\n",
    "Interpretation: About 32% of the variation in the distance that golf balls travel is explained by the variation in temperature.  The rest (68%) remains unexplained by this model."
   ]
  },
  {
   "cell_type": "markdown",
   "id": "e8e620c4-1ed6-4b88-871f-315bf77e1f98",
   "metadata": {},
   "source": [
    "<h2>16.81"
   ]
  },
  {
   "cell_type": "code",
   "execution_count": 16,
   "id": "54761a27-c5d4-4349-9399-652e996c1a3b",
   "metadata": {},
   "outputs": [],
   "source": [
    "def CI_PI_simple_regression(x, y, x1, a):\n",
    "    x_new = np.array([1, x1])\n",
    "    print(\"make CI and PI predictions at mean of x = \", x1)\n",
    "    X2 = sm.add_constant(x)\n",
    "    olsmod = sm.OLS(y, X2)\n",
    "    result_reg = olsmod.fit()\n",
    "    y_head = np.dot(result_reg.params, x_new)\n",
    "    print(\"y_head = \", y_head)\n",
    "    (t_minus, t_plus) = stats.t.interval(alpha = (1.0 - a), df = result_reg.df_resid )\n",
    "    cov_mat1 = np.cov(y, x)\n",
    "    x_bar = x.mean()\n",
    "    core1 = (1 / result_reg.nobs + \n",
    "         (x1 - x_bar) ** 2 / (result_reg.nobs - 1) / cov_mat1[1,1] ) ** 0.5\n",
    "    core2 = (1 + 1 / result_reg.nobs + \n",
    "         (x1 - x_bar) ** 2 / (result_reg.nobs - 1) / cov_mat1[1,1] ) ** 0.5\n",
    "    lower_bound = y_head + t_minus * (result_reg.mse_resid ** 0.5) * core1\n",
    "    upper_bound = y_head + t_plus * (result_reg.mse_resid ** 0.5) * core1\n",
    "    half_interval = t_plus * (result_reg.mse_resid ** 0.5) * core1\n",
    "    lower_bound2 = y_head + t_minus * (result_reg.mse_resid ** 0.5) * core2\n",
    "    upper_bound2 = y_head + t_plus * (result_reg.mse_resid ** 0.5) * core2\n",
    "    half_interval2 = t_plus * (result_reg.mse_resid ** 0.5) * core2\n",
    "    print(\"Confidence interval for mean: [%0.4f, %0.4f]\" % (lower_bound, upper_bound))\n",
    "    print(\"    or %0.4f  +- %0.4f\" % (y_head, half_interval))\n",
    "    print(\"Prediction interval = [%0.4f, %0.4f] \" % (lower_bound2, upper_bound2))\n",
    "    print(\"    or %0.4f  +- %0.4f\" % (y_head, half_interval2))\n",
    "    CI_PI = np.array([lower_bound, upper_bound, lower_bound2, upper_bound2])\n",
    "    return CI_PI"
   ]
  },
  {
   "cell_type": "code",
   "execution_count": 17,
   "id": "baaf9b65-1689-44ae-b5c1-c1d35117e6b3",
   "metadata": {},
   "outputs": [
    {
     "name": "stdout",
     "output_type": "stream",
     "text": [
      "make CI and PI predictions at mean of x =  75\n",
      "y_head =  12821.3981672394\n",
      "Confidence interval for mean: [10127.0004, 15515.7959]\n",
      "    or 12821.3982  +- 2694.3977\n",
      "Prediction interval = [5740.3945, 19902.4019] \n",
      "    or 12821.3982  +- 7081.0037\n",
      "[10127.00041908 15515.7959154   5740.39448027 19902.40185421]\n"
     ]
    },
    {
     "name": "stderr",
     "output_type": "stream",
     "text": [
      "/Users/liuweien/opt/anaconda3/lib/python3.9/site-packages/statsmodels/tsa/tsatools.py:142: FutureWarning: In a future version of pandas all arguments of concat except for the argument 'objs' will be keyword-only\n",
      "  x = pd.concat(x[::order], 1)\n"
     ]
    }
   ],
   "source": [
    "CI_PI_result = CI_PI_simple_regression(df5['Temperature'], df5['Beers'], 75, 0.1)\n",
    "print(CI_PI_result)"
   ]
  },
  {
   "cell_type": "markdown",
   "id": "bafd34e5-2a17-4f02-a984-725e2efed093",
   "metadata": {},
   "source": [
    "In this case, we use the prediction interval.<br>\n",
    "There is 90% chance that the interval [5740.3945, 19902.4019] will cover the real number of beers to be sold when the temperature is 75 degrees."
   ]
  },
  {
   "cell_type": "markdown",
   "id": "3459dd77-6074-47dd-a7b9-da25b6c1cfde",
   "metadata": {},
   "source": [
    "<h2>16.91"
   ]
  },
  {
   "cell_type": "code",
   "execution_count": 18,
   "id": "ea0654d8-fdc2-4ac5-ad1a-362980266090",
   "metadata": {},
   "outputs": [
    {
     "name": "stdout",
     "output_type": "stream",
     "text": [
      "make CI and PI predictions at mean of x =  60\n",
      "y_head =  271.39089221034016\n",
      "Confidence interval for mean: [266.3913, 276.3905]\n",
      "    or 271.3909  +- 4.9996\n",
      "Prediction interval = [210.0443, 332.7375] \n",
      "    or 271.3909  +- 61.3466\n",
      "[266.39129751 276.39048691 210.04432133 332.73746309]\n"
     ]
    }
   ],
   "source": [
    "CI_PI_result = CI_PI_simple_regression(df15['Income'], df15['Food'], 60, 0.1)\n",
    "print(CI_PI_result)"
   ]
  },
  {
   "cell_type": "markdown",
   "id": "806ba5df-7388-4a8a-9457-81ec4789eb6a",
   "metadata": {},
   "source": [
    "In this case, we use the prediction interval.<br>\n",
    "There is 90% chance that the interval [210.0443, 332.7375] will cover the real food budget of a family whose household income is $60,000."
   ]
  },
  {
   "cell_type": "markdown",
   "id": "1261fe67-7783-4f9f-9629-b125f66f8eae",
   "metadata": {},
   "source": [
    "<h2>16.99"
   ]
  },
  {
   "cell_type": "code",
   "execution_count": 19,
   "id": "6b27ab76-eba2-4116-a6f3-d079f5643b08",
   "metadata": {},
   "outputs": [
    {
     "name": "stdout",
     "output_type": "stream",
     "text": [
      "make CI and PI predictions at mean of x =  80\n",
      "y_head =  215.52613647750422\n",
      "Confidence interval for mean: [214.9988, 216.0535]\n",
      "    or 215.5261  +- 0.5274\n",
      "Prediction interval = [211.3492, 219.7030] \n",
      "    or 215.5261  +- 4.1769\n",
      "[214.99876395 216.05350901 211.34922963 219.70304332]\n"
     ]
    }
   ],
   "source": [
    "CI_PI_result = CI_PI_simple_regression(df49['Temperature'], df49['Distance'], 80, 0.05)\n",
    "print(CI_PI_result)"
   ]
  },
  {
   "cell_type": "markdown",
   "id": "6470b9e8-64c4-4883-b333-d1bba740ff61",
   "metadata": {},
   "source": [
    "In this case, we use the prediction interval.<br>\n",
    "There is 95% chance that the interval [211.3492, 219.7030] will cover the golfer’s real next drive travel distance when the temperature is 80 degrees."
   ]
  }
 ],
 "metadata": {
  "kernelspec": {
   "display_name": "Python 3 (ipykernel)",
   "language": "python",
   "name": "python3"
  },
  "language_info": {
   "codemirror_mode": {
    "name": "ipython",
    "version": 3
   },
   "file_extension": ".py",
   "mimetype": "text/x-python",
   "name": "python",
   "nbconvert_exporter": "python",
   "pygments_lexer": "ipython3",
   "version": "3.9.7"
  }
 },
 "nbformat": 4,
 "nbformat_minor": 5
}
