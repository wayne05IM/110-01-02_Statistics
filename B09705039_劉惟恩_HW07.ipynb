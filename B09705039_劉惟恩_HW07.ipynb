{
 "cells": [
  {
   "cell_type": "markdown",
   "id": "3a0d6d03-4f5a-4e1d-b221-6cf20fab1902",
   "metadata": {},
   "source": [
    "<h1>B09705039_劉惟恩_HW01"
   ]
  },
  {
   "cell_type": "code",
   "execution_count": 1,
   "id": "6fb9e4c5-2fb5-4571-97f0-3a921493554a",
   "metadata": {},
   "outputs": [],
   "source": [
    "import pandas as pd\n",
    "import numpy as np\n",
    "import scipy.stats as stats\n",
    "import statsmodels.stats.api as sms\n",
    "from matplotlib import pyplot as plt\n",
    "%matplotlib inline\n",
    "# 設定圖形大小; DPI越大圖越大\n",
    "plt.rcParams[\"figure.dpi\"] = 130"
   ]
  },
  {
   "cell_type": "markdown",
   "id": "c1ebf6eb-cca8-4ed4-8527-31450f5d6d02",
   "metadata": {},
   "source": [
    "<h2>13-1"
   ]
  },
  {
   "cell_type": "markdown",
   "id": "57bbb9b6-8978-4e44-bef3-3bf274804072",
   "metadata": {},
   "source": [
    "<h2>Problem 13.34"
   ]
  },
  {
   "cell_type": "markdown",
   "id": "61f1cb09-8a97-4527-9f06-c0ffe5249cd3",
   "metadata": {},
   "source": [
    "檢查兩個母體的變異數是否相同<br>\n",
    "\n",
    "令 Fixed salary組 的均數與變異數為 $\\mu_1$與$\\sigma_1^2$。<br>\n",
    "   Commission組 的均數與變異數為 $\\mu_2$與$\\sigma_2^2$。\n",
    "\n",
    "Null Hypothesis: $\\sigma_1^2 / \\sigma_2^2 = 1$ <br>\n",
    "Alternative Hypothesis: $\\sigma_1^2 / \\sigma_2^2 \\ne 1$\n",
    "\n",
    "使用雙尾F檢定，Alpha = 0.05"
   ]
  },
  {
   "cell_type": "code",
   "execution_count": 2,
   "id": "d83156ca-daaa-47a7-afb8-8c690567c3c6",
   "metadata": {},
   "outputs": [
    {
     "name": "stdout",
     "output_type": "stream",
     "text": [
      "Head of dataset:\n"
     ]
    },
    {
     "data": {
      "text/html": [
       "<div>\n",
       "<style scoped>\n",
       "    .dataframe tbody tr th:only-of-type {\n",
       "        vertical-align: middle;\n",
       "    }\n",
       "\n",
       "    .dataframe tbody tr th {\n",
       "        vertical-align: top;\n",
       "    }\n",
       "\n",
       "    .dataframe thead th {\n",
       "        text-align: right;\n",
       "    }\n",
       "</style>\n",
       "<table border=\"1\" class=\"dataframe\">\n",
       "  <thead>\n",
       "    <tr style=\"text-align: right;\">\n",
       "      <th></th>\n",
       "      <th>Fixed</th>\n",
       "      <th>Commission</th>\n",
       "    </tr>\n",
       "  </thead>\n",
       "  <tbody>\n",
       "    <tr>\n",
       "      <th>0</th>\n",
       "      <td>75558</td>\n",
       "      <td>48705</td>\n",
       "    </tr>\n",
       "    <tr>\n",
       "      <th>1</th>\n",
       "      <td>73974</td>\n",
       "      <td>51927</td>\n",
       "    </tr>\n",
       "    <tr>\n",
       "      <th>2</th>\n",
       "      <td>68985</td>\n",
       "      <td>56733</td>\n",
       "    </tr>\n",
       "    <tr>\n",
       "      <th>3</th>\n",
       "      <td>60239</td>\n",
       "      <td>52997</td>\n",
       "    </tr>\n",
       "    <tr>\n",
       "      <th>4</th>\n",
       "      <td>67320</td>\n",
       "      <td>60655</td>\n",
       "    </tr>\n",
       "  </tbody>\n",
       "</table>\n",
       "</div>"
      ],
      "text/plain": [
       "   Fixed  Commission\n",
       "0  75558       48705\n",
       "1  73974       51927\n",
       "2  68985       56733\n",
       "3  60239       52997\n",
       "4  67320       60655"
      ]
     },
     "metadata": {},
     "output_type": "display_data"
    },
    {
     "name": "stdout",
     "output_type": "stream",
     "text": [
      "Tail of dataset:\n"
     ]
    },
    {
     "data": {
      "text/html": [
       "<div>\n",
       "<style scoped>\n",
       "    .dataframe tbody tr th:only-of-type {\n",
       "        vertical-align: middle;\n",
       "    }\n",
       "\n",
       "    .dataframe tbody tr th {\n",
       "        vertical-align: top;\n",
       "    }\n",
       "\n",
       "    .dataframe thead th {\n",
       "        text-align: right;\n",
       "    }\n",
       "</style>\n",
       "<table border=\"1\" class=\"dataframe\">\n",
       "  <thead>\n",
       "    <tr style=\"text-align: right;\">\n",
       "      <th></th>\n",
       "      <th>Fixed</th>\n",
       "      <th>Commission</th>\n",
       "    </tr>\n",
       "  </thead>\n",
       "  <tbody>\n",
       "    <tr>\n",
       "      <th>85</th>\n",
       "      <td>49302</td>\n",
       "      <td>58990</td>\n",
       "    </tr>\n",
       "    <tr>\n",
       "      <th>86</th>\n",
       "      <td>47334</td>\n",
       "      <td>64509</td>\n",
       "    </tr>\n",
       "    <tr>\n",
       "      <th>87</th>\n",
       "      <td>37480</td>\n",
       "      <td>66350</td>\n",
       "    </tr>\n",
       "    <tr>\n",
       "      <th>88</th>\n",
       "      <td>61667</td>\n",
       "      <td>56519</td>\n",
       "    </tr>\n",
       "    <tr>\n",
       "      <th>89</th>\n",
       "      <td>37098</td>\n",
       "      <td>60039</td>\n",
       "    </tr>\n",
       "  </tbody>\n",
       "</table>\n",
       "</div>"
      ],
      "text/plain": [
       "    Fixed  Commission\n",
       "85  49302       58990\n",
       "86  47334       64509\n",
       "87  37480       66350\n",
       "88  61667       56519\n",
       "89  37098       60039"
      ]
     },
     "metadata": {},
     "output_type": "display_data"
    }
   ],
   "source": [
    "# Reading dataset\n",
    "# 讀取資料集\n",
    "df1 = pd.read_excel('Xr13-34.xlsx')\n",
    "\n",
    "# 簡單看一下資料集的樣子\n",
    "# 如果這是你第一次使用這個資料集，使用Excel開啟資料集，並確認程式讀到的跟你在Excel中看到的一樣\n",
    "\n",
    "print('Head of dataset:')\n",
    "display(df1.head())\n",
    "\n",
    "print(\"Tail of dataset:\")\n",
    "display(df1.tail())"
   ]
  },
  {
   "cell_type": "code",
   "execution_count": 3,
   "id": "b44fe1fb-2fa1-4156-9db0-c07da8326cf9",
   "metadata": {},
   "outputs": [
    {
     "name": "stdout",
     "output_type": "stream",
     "text": [
      "The shape of the dataset is (90, 2)\n",
      "degree of freedom for numerator =  89\n",
      "degree of freedom for denominator =  89\n"
     ]
    }
   ],
   "source": [
    "print(\"The shape of the dataset is\", df1.shape)\n",
    "df_num = df1.shape[0] - 1\n",
    "df_denom = df_num\n",
    "\n",
    "print(\"degree of freedom for numerator = \", df_num)\n",
    "print(\"degree of freedom for denominator = \", df_denom)"
   ]
  },
  {
   "cell_type": "code",
   "execution_count": 4,
   "id": "ca3cfd95-ef53-47f3-b2ae-8c729e0564da",
   "metadata": {},
   "outputs": [
    {
     "name": "stdout",
     "output_type": "stream",
     "text": [
      "f_value =  0.954140500125618\n",
      "p_value = 1.1748\n"
     ]
    }
   ],
   "source": [
    "# 使用.values取用numpy array\n",
    "varall = df1.var().values\n",
    "# type(varall)\n",
    "\n",
    "f_value = varall[0] / varall[1]\n",
    "print(\"f_value = \", f_value)\n",
    "\n",
    "# Alternative Hypothesis: two sided\n",
    "ptmp = stats.f.cdf(f_value, df_num, df_denom)\n",
    "p_value = (1-ptmp) * 2\n",
    "print(f\"p_value = {p_value:.4f}\")"
   ]
  },
  {
   "cell_type": "markdown",
   "id": "65305a41-ea93-4868-8c51-ec2b17eb0eaa",
   "metadata": {},
   "source": [
    "The p-value for equal-variance test is 1.1748, which is larger than the required 0.05 significance level, there is no sufficient evidence to reject the null hypothesis. As a result, we assume that the two populations have equal variance and apply equal-variance t-test on $\\mu_1 - \\mu_2 = 0$.\n",
    "\n",
    "Null Hypothesis $\\mu_1 - \\mu_2 = 0$ <br>\n",
    "Alternative Hypothesis: $\\mu_1 - \\mu_2 < 0$."
   ]
  },
  {
   "cell_type": "code",
   "execution_count": 5,
   "id": "91d0e5b5-42fc-4b3e-955e-07487ee6d40e",
   "metadata": {},
   "outputs": [
    {
     "data": {
      "text/html": [
       "<table class=\"simpletable\">\n",
       "<caption>Test for equality of means</caption>\n",
       "<tr>\n",
       "      <td></td>         <th>coef</th>     <th>std err</th>      <th>t</th>      <th>P>|t|</th>  <th>[0.025</th>    <th>0.975]</th>  \n",
       "</tr>\n",
       "<tr>\n",
       "  <th>subset #1</th> <td>-3317.8111</td> <td> 1584.821</td> <td>   -2.093</td> <td> 0.038</td> <td>-6445.266</td> <td> -190.356</td>\n",
       "</tr>\n",
       "</table>"
      ],
      "text/plain": [
       "<class 'statsmodels.iolib.table.SimpleTable'>"
      ]
     },
     "execution_count": 5,
     "metadata": {},
     "output_type": "execute_result"
    }
   ],
   "source": [
    "# t-test using sms.CompareMeans\n",
    "cm = sms.CompareMeans(sms.DescrStatsW(df1[\"Fixed\"].values), sms.DescrStatsW(df1[\"Commission\"].values))\n",
    "# usevarstr, ‘pooled’ or ‘unequal’\n",
    "cm.summary(usevar='pooled', alpha=0.05)"
   ]
  },
  {
   "cell_type": "markdown",
   "id": "cf25c118-b772-42bf-a659-5780e196297d",
   "metadata": {},
   "source": [
    "Here $P > |t|$ represent the two-tailed p-value. In our case, we are performing a left-tailed hypothesis test. The p-value should be $0.038 / 2 = 0.019$. \n",
    "The p-value is smaller than the required significance level 0.05. As a result, we reject the null hypothesis in favor of the alternative hypothesis. \n",
    "\n",
    "Since the null hypothesis that both groups have equal performance is rejected, we favor the alternative hypothesis and conclude that the commission salesperson outperforms the fixed-salary salesperson."
   ]
  },
  {
   "cell_type": "markdown",
   "id": "2cd0f252-e676-49b2-b301-72b886c4820f",
   "metadata": {},
   "source": [
    "<h2>Problem 13.38"
   ]
  },
  {
   "cell_type": "markdown",
   "id": "caf3a7da-3915-46e6-bdf0-3bad12f7fd61",
   "metadata": {},
   "source": [
    "檢查兩個母體的變異數是否相同<br>\n",
    "\n",
    "令 Big Bucket組 的均數與變異數為 $\\mu_1$與$\\sigma_1^2$。<br>\n",
    "   Medium Bucket組 的均數與變異數為 $\\mu_2$與$\\sigma_2^2$。\n",
    "\n",
    "Null Hypothesis: $\\sigma_1^2 / \\sigma_2^2 = 1$ <br>\n",
    "Alternative Hypothesis: $\\sigma_1^2 / \\sigma_2^2 \\ne 1$\n",
    "\n",
    "使用雙尾F檢定，Alpha = 0.05"
   ]
  },
  {
   "cell_type": "code",
   "execution_count": 6,
   "id": "ff1452e2-529d-47ad-8f3f-6aa667aae405",
   "metadata": {},
   "outputs": [
    {
     "name": "stdout",
     "output_type": "stream",
     "text": [
      "Head of dataset:\n"
     ]
    },
    {
     "data": {
      "text/html": [
       "<div>\n",
       "<style scoped>\n",
       "    .dataframe tbody tr th:only-of-type {\n",
       "        vertical-align: middle;\n",
       "    }\n",
       "\n",
       "    .dataframe tbody tr th {\n",
       "        vertical-align: top;\n",
       "    }\n",
       "\n",
       "    .dataframe thead th {\n",
       "        text-align: right;\n",
       "    }\n",
       "</style>\n",
       "<table border=\"1\" class=\"dataframe\">\n",
       "  <thead>\n",
       "    <tr style=\"text-align: right;\">\n",
       "      <th></th>\n",
       "      <th>Big Bucket</th>\n",
       "      <th>Medium Bucket</th>\n",
       "    </tr>\n",
       "  </thead>\n",
       "  <tbody>\n",
       "    <tr>\n",
       "      <th>0</th>\n",
       "      <td>133</td>\n",
       "      <td>50</td>\n",
       "    </tr>\n",
       "    <tr>\n",
       "      <th>1</th>\n",
       "      <td>106</td>\n",
       "      <td>63</td>\n",
       "    </tr>\n",
       "    <tr>\n",
       "      <th>2</th>\n",
       "      <td>104</td>\n",
       "      <td>56</td>\n",
       "    </tr>\n",
       "    <tr>\n",
       "      <th>3</th>\n",
       "      <td>85</td>\n",
       "      <td>37</td>\n",
       "    </tr>\n",
       "    <tr>\n",
       "      <th>4</th>\n",
       "      <td>63</td>\n",
       "      <td>63</td>\n",
       "    </tr>\n",
       "  </tbody>\n",
       "</table>\n",
       "</div>"
      ],
      "text/plain": [
       "   Big Bucket  Medium Bucket\n",
       "0         133             50\n",
       "1         106             63\n",
       "2         104             56\n",
       "3          85             37\n",
       "4          63             63"
      ]
     },
     "metadata": {},
     "output_type": "display_data"
    },
    {
     "name": "stdout",
     "output_type": "stream",
     "text": [
      "Tail of dataset:\n"
     ]
    },
    {
     "data": {
      "text/html": [
       "<div>\n",
       "<style scoped>\n",
       "    .dataframe tbody tr th:only-of-type {\n",
       "        vertical-align: middle;\n",
       "    }\n",
       "\n",
       "    .dataframe tbody tr th {\n",
       "        vertical-align: top;\n",
       "    }\n",
       "\n",
       "    .dataframe thead th {\n",
       "        text-align: right;\n",
       "    }\n",
       "</style>\n",
       "<table border=\"1\" class=\"dataframe\">\n",
       "  <thead>\n",
       "    <tr style=\"text-align: right;\">\n",
       "      <th></th>\n",
       "      <th>Big Bucket</th>\n",
       "      <th>Medium Bucket</th>\n",
       "    </tr>\n",
       "  </thead>\n",
       "  <tbody>\n",
       "    <tr>\n",
       "      <th>43</th>\n",
       "      <td>86</td>\n",
       "      <td>51</td>\n",
       "    </tr>\n",
       "    <tr>\n",
       "      <th>44</th>\n",
       "      <td>96</td>\n",
       "      <td>59</td>\n",
       "    </tr>\n",
       "    <tr>\n",
       "      <th>45</th>\n",
       "      <td>116</td>\n",
       "      <td>66</td>\n",
       "    </tr>\n",
       "    <tr>\n",
       "      <th>46</th>\n",
       "      <td>93</td>\n",
       "      <td>73</td>\n",
       "    </tr>\n",
       "    <tr>\n",
       "      <th>47</th>\n",
       "      <td>85</td>\n",
       "      <td>70</td>\n",
       "    </tr>\n",
       "  </tbody>\n",
       "</table>\n",
       "</div>"
      ],
      "text/plain": [
       "    Big Bucket  Medium Bucket\n",
       "43          86             51\n",
       "44          96             59\n",
       "45         116             66\n",
       "46          93             73\n",
       "47          85             70"
      ]
     },
     "metadata": {},
     "output_type": "display_data"
    }
   ],
   "source": [
    "# Reading dataset\n",
    "# 讀取資料集\n",
    "df1 = pd.read_excel('Xr13-38.xlsx')\n",
    "\n",
    "# 簡單看一下資料集的樣子\n",
    "# 如果這是你第一次使用這個資料集，使用Excel開啟資料集，並確認程式讀到的跟你在Excel中看到的一樣\n",
    "\n",
    "print('Head of dataset:')\n",
    "display(df1.head())\n",
    "\n",
    "print(\"Tail of dataset:\")\n",
    "display(df1.tail())"
   ]
  },
  {
   "cell_type": "code",
   "execution_count": 7,
   "id": "0445e6a1-87f4-4bd3-9a66-8f1b5cf6a99b",
   "metadata": {},
   "outputs": [
    {
     "name": "stdout",
     "output_type": "stream",
     "text": [
      "The shape of the dataset is (48, 2)\n",
      "degree of freedom for numerator =  47\n",
      "degree of freedom for denominator =  47\n"
     ]
    }
   ],
   "source": [
    "print(\"The shape of the dataset is\", df1.shape)\n",
    "df_num = df1.shape[0] - 1\n",
    "df_denom = df_num\n",
    "\n",
    "print(\"degree of freedom for numerator = \", df_num)\n",
    "print(\"degree of freedom for denominator = \", df_denom)"
   ]
  },
  {
   "cell_type": "code",
   "execution_count": 8,
   "id": "b1161446-199f-4230-884e-76337ebb78f2",
   "metadata": {},
   "outputs": [
    {
     "name": "stdout",
     "output_type": "stream",
     "text": [
      "f_value =  3.1431291390728475\n",
      "p_value = 0.0001\n"
     ]
    }
   ],
   "source": [
    "# 使用.values取用numpy array\n",
    "varall = df1.var().values\n",
    "# type(varall)\n",
    "\n",
    "f_value = varall[0] / varall[1]\n",
    "print(\"f_value = \", f_value)\n",
    "\n",
    "# Alternative Hypothesis: two sided\n",
    "ptmp = stats.f.cdf(f_value, df_num, df_denom)\n",
    "p_value = (1-ptmp) * 2\n",
    "print(f\"p_value = {p_value:.4f}\")"
   ]
  },
  {
   "cell_type": "markdown",
   "id": "5f03230f-a041-4486-adba-62fcca487a8d",
   "metadata": {},
   "source": [
    "The p-value for equal-variance test is 0.0001, which is smaller than the required 0.05 significance level, there is sufficient evidence to reject the null hypothesis. As a result, we assume that the two populations have unequal variance and apply unequal-variance t-test on $\\mu_1 - \\mu_2 = 0$.\n",
    "\n",
    "Null Hypothesis $\\mu_1 - \\mu_2 = 0$ <br>\n",
    "Alternative Hypothesis: $\\mu_1 - \\mu_2 > 0$."
   ]
  },
  {
   "cell_type": "code",
   "execution_count": 9,
   "id": "a191ed27-1496-4ca4-92ee-6ff9d607fb14",
   "metadata": {},
   "outputs": [
    {
     "data": {
      "text/html": [
       "<table class=\"simpletable\">\n",
       "<caption>Test for equality of means</caption>\n",
       "<tr>\n",
       "      <td></td>         <th>coef</th>     <th>std err</th>      <th>t</th>      <th>P>|t|</th>  <th>[0.025</th>    <th>0.975]</th>  \n",
       "</tr>\n",
       "<tr>\n",
       "  <th>subset #1</th> <td>   32.5625</td> <td>    2.633</td> <td>   12.367</td> <td> 0.000</td> <td>   27.316</td> <td>   37.809</td>\n",
       "</tr>\n",
       "</table>"
      ],
      "text/plain": [
       "<class 'statsmodels.iolib.table.SimpleTable'>"
      ]
     },
     "execution_count": 9,
     "metadata": {},
     "output_type": "execute_result"
    }
   ],
   "source": [
    "# t-test using sms.CompareMeans\n",
    "cm = sms.CompareMeans(sms.DescrStatsW(df1[\"Big Bucket\"].values), sms.DescrStatsW(df1[\"Medium Bucket\"].values))\n",
    "# usevarstr, ‘pooled’ or ‘unequal’\n",
    "cm.summary(usevar='unequal', alpha=0.05)"
   ]
  },
  {
   "cell_type": "markdown",
   "id": "18a44586-0d15-4c1f-8ca4-66e8f236a9b5",
   "metadata": {},
   "source": [
    "Here $P > |t|$ represent the two-tailed p-value. In our case, we are performing a right-tailed hypothesis test. The p-value should be < 0.05. \n",
    "The p-value is smaller than the required significance level 0.05. As a result, we reject the null hypothesis in favor of the alternative hypothesis. \n",
    "\n",
    "Since the null hypothesis that both groups eat equal amounts is rejected, we favor the alternative hypothesis and conclude that the larger the bucket the more people will eat."
   ]
  },
  {
   "cell_type": "markdown",
   "id": "aeff4319-d445-49e7-9cdd-d23689804ee1",
   "metadata": {},
   "source": [
    "<h2>13-4"
   ]
  },
  {
   "cell_type": "markdown",
   "id": "69b36975-1f20-4eb1-95a5-eb61f7cd50e6",
   "metadata": {},
   "source": [
    "<h2>Problem 13.114"
   ]
  },
  {
   "cell_type": "markdown",
   "id": "b4ed90d0-6bf3-43a0-b6ce-626f73b33b64",
   "metadata": {},
   "source": [
    "檢查兩個母體的變異數是否相同<br>\n",
    "\n",
    "令 Machine 1 的變異數為 $\\sigma_1^2$。<br>\n",
    "   Machine 2 的變異數為 $\\sigma_2^2$。\n",
    "\n",
    "Null Hypothesis: $\\sigma_1^2 / \\sigma_2^2 = 1$ <br>\n",
    "Alternative Hypothesis: $\\sigma_1^2 / \\sigma_2^2 \\ne 1$\n",
    "\n",
    "使用雙尾F檢定，Alpha = 0.05"
   ]
  },
  {
   "cell_type": "code",
   "execution_count": 10,
   "id": "cf1657c7-8408-4194-a5c1-f0087f5760fd",
   "metadata": {},
   "outputs": [
    {
     "name": "stdout",
     "output_type": "stream",
     "text": [
      "Head of dataset:\n"
     ]
    },
    {
     "data": {
      "text/html": [
       "<div>\n",
       "<style scoped>\n",
       "    .dataframe tbody tr th:only-of-type {\n",
       "        vertical-align: middle;\n",
       "    }\n",
       "\n",
       "    .dataframe tbody tr th {\n",
       "        vertical-align: top;\n",
       "    }\n",
       "\n",
       "    .dataframe thead th {\n",
       "        text-align: right;\n",
       "    }\n",
       "</style>\n",
       "<table border=\"1\" class=\"dataframe\">\n",
       "  <thead>\n",
       "    <tr style=\"text-align: right;\">\n",
       "      <th></th>\n",
       "      <th>Machine 1</th>\n",
       "      <th>Machine 2</th>\n",
       "    </tr>\n",
       "  </thead>\n",
       "  <tbody>\n",
       "    <tr>\n",
       "      <th>0</th>\n",
       "      <td>0.998</td>\n",
       "      <td>1.003</td>\n",
       "    </tr>\n",
       "    <tr>\n",
       "      <th>1</th>\n",
       "      <td>0.997</td>\n",
       "      <td>1.004</td>\n",
       "    </tr>\n",
       "    <tr>\n",
       "      <th>2</th>\n",
       "      <td>1.003</td>\n",
       "      <td>0.997</td>\n",
       "    </tr>\n",
       "    <tr>\n",
       "      <th>3</th>\n",
       "      <td>1.000</td>\n",
       "      <td>0.996</td>\n",
       "    </tr>\n",
       "    <tr>\n",
       "      <th>4</th>\n",
       "      <td>0.999</td>\n",
       "      <td>0.999</td>\n",
       "    </tr>\n",
       "  </tbody>\n",
       "</table>\n",
       "</div>"
      ],
      "text/plain": [
       "   Machine 1  Machine 2\n",
       "0      0.998      1.003\n",
       "1      0.997      1.004\n",
       "2      1.003      0.997\n",
       "3      1.000      0.996\n",
       "4      0.999      0.999"
      ]
     },
     "metadata": {},
     "output_type": "display_data"
    },
    {
     "name": "stdout",
     "output_type": "stream",
     "text": [
      "Tail of dataset:\n"
     ]
    },
    {
     "data": {
      "text/html": [
       "<div>\n",
       "<style scoped>\n",
       "    .dataframe tbody tr th:only-of-type {\n",
       "        vertical-align: middle;\n",
       "    }\n",
       "\n",
       "    .dataframe tbody tr th {\n",
       "        vertical-align: top;\n",
       "    }\n",
       "\n",
       "    .dataframe thead th {\n",
       "        text-align: right;\n",
       "    }\n",
       "</style>\n",
       "<table border=\"1\" class=\"dataframe\">\n",
       "  <thead>\n",
       "    <tr style=\"text-align: right;\">\n",
       "      <th></th>\n",
       "      <th>Machine 1</th>\n",
       "      <th>Machine 2</th>\n",
       "    </tr>\n",
       "  </thead>\n",
       "  <tbody>\n",
       "    <tr>\n",
       "      <th>6</th>\n",
       "      <td>0.998</td>\n",
       "      <td>1.000</td>\n",
       "    </tr>\n",
       "    <tr>\n",
       "      <th>7</th>\n",
       "      <td>1.003</td>\n",
       "      <td>1.005</td>\n",
       "    </tr>\n",
       "    <tr>\n",
       "      <th>8</th>\n",
       "      <td>1.004</td>\n",
       "      <td>1.002</td>\n",
       "    </tr>\n",
       "    <tr>\n",
       "      <th>9</th>\n",
       "      <td>1.000</td>\n",
       "      <td>1.004</td>\n",
       "    </tr>\n",
       "    <tr>\n",
       "      <th>10</th>\n",
       "      <td>NaN</td>\n",
       "      <td>0.996</td>\n",
       "    </tr>\n",
       "  </tbody>\n",
       "</table>\n",
       "</div>"
      ],
      "text/plain": [
       "    Machine 1  Machine 2\n",
       "6       0.998      1.000\n",
       "7       1.003      1.005\n",
       "8       1.004      1.002\n",
       "9       1.000      1.004\n",
       "10        NaN      0.996"
      ]
     },
     "metadata": {},
     "output_type": "display_data"
    }
   ],
   "source": [
    "# Reading dataset\n",
    "# 讀取資料集\n",
    "df1 = pd.read_excel('Xr13-114.xlsx')\n",
    "\n",
    "# 簡單看一下資料集的樣子\n",
    "# 如果這是你第一次使用這個資料集，使用Excel開啟資料集，並確認程式讀到的跟你在Excel中看到的一樣\n",
    "\n",
    "print('Head of dataset:')\n",
    "display(df1.head())\n",
    "\n",
    "print(\"Tail of dataset:\")\n",
    "display(df1.tail())"
   ]
  },
  {
   "cell_type": "code",
   "execution_count": 11,
   "id": "4c7a1466-04dd-4b52-bb50-0c0d58c49520",
   "metadata": {},
   "outputs": [
    {
     "name": "stdout",
     "output_type": "stream",
     "text": [
      "Machine_1 = \n",
      " [0.998 0.997 1.003 1.    0.999 1.    0.998 1.003 1.004 1.   ]\n",
      "Machine_2 = \n",
      " [1.003 1.004 0.997 0.996 0.999 1.003 1.    1.005 1.002 1.004 0.996]\n"
     ]
    }
   ],
   "source": [
    "# 轉換成numpy array\n",
    "Machine_1 = df1['Machine 1'].values\n",
    "# 去除NAN\n",
    "Machine_1 = Machine_1[~np.isnan(Machine_1)]\n",
    "print(\"Machine_1 = \\n\", Machine_1)\n",
    "\n",
    "Machine_2 = df1['Machine 2'].values\n",
    "print(\"Machine_2 = \\n\", Machine_2)"
   ]
  },
  {
   "cell_type": "code",
   "execution_count": 12,
   "id": "d7ed20e1-1aee-48e0-8909-7f9b0e727adc",
   "metadata": {},
   "outputs": [
    {
     "name": "stdout",
     "output_type": "stream",
     "text": [
      "The shape of the dataset is (11, 2)\n",
      "degree of freedom for numerator =  9\n",
      "degree of freedom for denominator =  10\n"
     ]
    }
   ],
   "source": [
    "print(\"The shape of the dataset is\", df1.shape)\n",
    "df_num = Machine_1.shape[0] - 1\n",
    "df_denom = Machine_2.shape[0] - 1\n",
    "\n",
    "print(\"degree of freedom for numerator = \", df_num)\n",
    "print(\"degree of freedom for denominator = \", df_denom)"
   ]
  },
  {
   "cell_type": "code",
   "execution_count": 13,
   "id": "67679931-9e6e-4cfc-85ab-6616a9f5ed02",
   "metadata": {},
   "outputs": [
    {
     "name": "stdout",
     "output_type": "stream",
     "text": [
      "f_value =  0.5045333333333296\n",
      "p_value = 1.6821\n"
     ]
    }
   ],
   "source": [
    "f_value = stats.describe(Machine_1).variance / stats.describe(Machine_2).variance\n",
    "print(\"f_value = \", f_value)\n",
    "\n",
    "# Alternative Hypothesis: two sided\n",
    "ptmp = stats.f.cdf(f_value, df_num, df_denom)\n",
    "p_value = (1-ptmp) * 2\n",
    "print(f\"p_value = {p_value:.4f}\")"
   ]
  },
  {
   "cell_type": "markdown",
   "id": "4cec1718-54eb-42bf-a673-6c35d911c7e2",
   "metadata": {},
   "source": [
    "The p-value for equal-variance test is 1.6821, which is greater than the required 0.05 significance level, there is no sufficient evidence to reject the null hypothesis. As a result, we assume that the two populations have equal variance.\n",
    "\n",
    "Thus, the manager can't infer that the two machines differ in their consistency of fills."
   ]
  },
  {
   "cell_type": "markdown",
   "id": "dd24f58c-cb34-4667-b1a9-c16e4674738e",
   "metadata": {},
   "source": [
    "<h2>Problem 13.117"
   ]
  },
  {
   "cell_type": "markdown",
   "id": "1022c57a-2565-4dc3-b159-83b0a4c9997a",
   "metadata": {},
   "source": [
    "檢查兩個母體的變異數是否相同<br>\n",
    "\n",
    "令 Week 1 的變異數為 $\\sigma_1^2$。<br>\n",
    "   Week 2 的變異數為 $\\sigma_2^2$。\n",
    "\n",
    "Null Hypothesis: $\\sigma_1^2 / \\sigma_2^2 = 1$ <br>\n",
    "Alternative Hypothesis: $\\sigma_1^2 / \\sigma_2^2 > 1$\n",
    "\n",
    "使用F檢定，Alpha = 0.05"
   ]
  },
  {
   "cell_type": "code",
   "execution_count": 14,
   "id": "3173e243-d55a-4341-906c-38a3b89c047b",
   "metadata": {},
   "outputs": [
    {
     "name": "stdout",
     "output_type": "stream",
     "text": [
      "Head of dataset:\n"
     ]
    },
    {
     "data": {
      "text/html": [
       "<div>\n",
       "<style scoped>\n",
       "    .dataframe tbody tr th:only-of-type {\n",
       "        vertical-align: middle;\n",
       "    }\n",
       "\n",
       "    .dataframe tbody tr th {\n",
       "        vertical-align: top;\n",
       "    }\n",
       "\n",
       "    .dataframe thead th {\n",
       "        text-align: right;\n",
       "    }\n",
       "</style>\n",
       "<table border=\"1\" class=\"dataframe\">\n",
       "  <thead>\n",
       "    <tr style=\"text-align: right;\">\n",
       "      <th></th>\n",
       "      <th>Week 1</th>\n",
       "      <th>Week 2</th>\n",
       "    </tr>\n",
       "  </thead>\n",
       "  <tbody>\n",
       "    <tr>\n",
       "      <th>0</th>\n",
       "      <td>69</td>\n",
       "      <td>75</td>\n",
       "    </tr>\n",
       "    <tr>\n",
       "      <th>1</th>\n",
       "      <td>77</td>\n",
       "      <td>69</td>\n",
       "    </tr>\n",
       "    <tr>\n",
       "      <th>2</th>\n",
       "      <td>74</td>\n",
       "      <td>73</td>\n",
       "    </tr>\n",
       "    <tr>\n",
       "      <th>3</th>\n",
       "      <td>67</td>\n",
       "      <td>72</td>\n",
       "    </tr>\n",
       "    <tr>\n",
       "      <th>4</th>\n",
       "      <td>81</td>\n",
       "      <td>71</td>\n",
       "    </tr>\n",
       "  </tbody>\n",
       "</table>\n",
       "</div>"
      ],
      "text/plain": [
       "   Week 1  Week 2\n",
       "0      69      75\n",
       "1      77      69\n",
       "2      74      73\n",
       "3      67      72\n",
       "4      81      71"
      ]
     },
     "metadata": {},
     "output_type": "display_data"
    },
    {
     "name": "stdout",
     "output_type": "stream",
     "text": [
      "Tail of dataset:\n"
     ]
    },
    {
     "data": {
      "text/html": [
       "<div>\n",
       "<style scoped>\n",
       "    .dataframe tbody tr th:only-of-type {\n",
       "        vertical-align: middle;\n",
       "    }\n",
       "\n",
       "    .dataframe tbody tr th {\n",
       "        vertical-align: top;\n",
       "    }\n",
       "\n",
       "    .dataframe thead th {\n",
       "        text-align: right;\n",
       "    }\n",
       "</style>\n",
       "<table border=\"1\" class=\"dataframe\">\n",
       "  <thead>\n",
       "    <tr style=\"text-align: right;\">\n",
       "      <th></th>\n",
       "      <th>Week 1</th>\n",
       "      <th>Week 2</th>\n",
       "    </tr>\n",
       "  </thead>\n",
       "  <tbody>\n",
       "    <tr>\n",
       "      <th>95</th>\n",
       "      <td>67</td>\n",
       "      <td>76</td>\n",
       "    </tr>\n",
       "    <tr>\n",
       "      <th>96</th>\n",
       "      <td>84</td>\n",
       "      <td>69</td>\n",
       "    </tr>\n",
       "    <tr>\n",
       "      <th>97</th>\n",
       "      <td>71</td>\n",
       "      <td>68</td>\n",
       "    </tr>\n",
       "    <tr>\n",
       "      <th>98</th>\n",
       "      <td>73</td>\n",
       "      <td>74</td>\n",
       "    </tr>\n",
       "    <tr>\n",
       "      <th>99</th>\n",
       "      <td>73</td>\n",
       "      <td>64</td>\n",
       "    </tr>\n",
       "  </tbody>\n",
       "</table>\n",
       "</div>"
      ],
      "text/plain": [
       "    Week 1  Week 2\n",
       "95      67      76\n",
       "96      84      69\n",
       "97      71      68\n",
       "98      73      74\n",
       "99      73      64"
      ]
     },
     "metadata": {},
     "output_type": "display_data"
    }
   ],
   "source": [
    "# Reading dataset\n",
    "# 讀取資料集\n",
    "df1 = pd.read_excel('Xr13-117.xlsx')\n",
    "\n",
    "# 簡單看一下資料集的樣子\n",
    "# 如果這是你第一次使用這個資料集，使用Excel開啟資料集，並確認程式讀到的跟你在Excel中看到的一樣\n",
    "\n",
    "print('Head of dataset:')\n",
    "display(df1.head())\n",
    "\n",
    "print(\"Tail of dataset:\")\n",
    "display(df1.tail())"
   ]
  },
  {
   "cell_type": "code",
   "execution_count": 15,
   "id": "d6f0961f-b0c6-485f-85fc-aa6e7a98f240",
   "metadata": {},
   "outputs": [
    {
     "name": "stdout",
     "output_type": "stream",
     "text": [
      "The shape of the dataset is (100, 2)\n",
      "degree of freedom for numerator =  99\n",
      "degree of freedom for denominator =  99\n"
     ]
    }
   ],
   "source": [
    "print(\"The shape of the dataset is\", df1.shape)\n",
    "df_num = df1.shape[0] - 1\n",
    "df_denom = df_num\n",
    "\n",
    "print(\"degree of freedom for numerator = \", df_num)\n",
    "print(\"degree of freedom for denominator = \", df_denom)"
   ]
  },
  {
   "cell_type": "code",
   "execution_count": 16,
   "id": "00e31d87-1b3a-465e-9dff-e67acc653069",
   "metadata": {},
   "outputs": [
    {
     "name": "stdout",
     "output_type": "stream",
     "text": [
      "f_value =  1.5260582820865725\n",
      "p_value = 0.0183\n"
     ]
    }
   ],
   "source": [
    "# 使用.values取用numpy array\n",
    "varall = df1.var().values\n",
    "# type(varall)\n",
    "\n",
    "f_value = varall[0] / varall[1]\n",
    "print(\"f_value = \", f_value)\n",
    "\n",
    "# Alternative hypothesis: signa1^2 / sigma2^2 > 1\n",
    "p_value = 1 - stats.f.cdf(f_value, df_num, df_denom)\n",
    "print(f\"p_value = {p_value:.4f}\")"
   ]
  },
  {
   "cell_type": "markdown",
   "id": "e8b38924-14a7-49a4-933e-defd8b8fcecd",
   "metadata": {},
   "source": [
    "The p-value for variance test is 0.0183, which is smaller than the required 0.05 significance level, there is sufficient evidence to reject the null hypothesis in favor of the alternative hypothesis.\n",
    "As a result, we assume that the second variance is smaller that the first variance.\n",
    "\n",
    "Thus, we can infer that limiting the minimum and maximum speeds reduces the variation in speeds."
   ]
  }
 ],
 "metadata": {
  "kernelspec": {
   "display_name": "Python 3 (ipykernel)",
   "language": "python",
   "name": "python3"
  },
  "language_info": {
   "codemirror_mode": {
    "name": "ipython",
    "version": 3
   },
   "file_extension": ".py",
   "mimetype": "text/x-python",
   "name": "python",
   "nbconvert_exporter": "python",
   "pygments_lexer": "ipython3",
   "version": "3.9.7"
  }
 },
 "nbformat": 4,
 "nbformat_minor": 5
}
