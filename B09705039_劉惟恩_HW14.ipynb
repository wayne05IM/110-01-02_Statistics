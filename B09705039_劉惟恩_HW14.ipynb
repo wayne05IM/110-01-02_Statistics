{
 "cells": [
  {
   "cell_type": "markdown",
   "id": "a9fdcbf0-6c41-4eee-9f91-e5b9ad321f8c",
   "metadata": {},
   "source": [
    "<h1>B09705039_劉惟恩_HW09"
   ]
  },
  {
   "cell_type": "code",
   "execution_count": 1,
   "id": "f3a3ca9e-030d-46aa-b046-57bf63f7f901",
   "metadata": {},
   "outputs": [],
   "source": [
    "#載入所需函示庫\n",
    "from matplotlib import pyplot as plt\n",
    "%matplotlib inline\n",
    "# 設定圖形大小; DPI越大圖越大\n",
    "plt.rcParams[\"figure.dpi\"] = 100\n",
    "import seaborn as sns\n",
    "import pandas as pd\n",
    "import numpy as np\n",
    "import scipy.stats as stats\n",
    "import statsmodels.api as sm\n",
    "import statsmodels.stats.api as sms\n",
    "import statsmodels.formula.api as smf\n",
    "import statsmodels.stats.multicomp as smm\n",
    "import statsmodels.stats.outliers_influence as sso\n",
    "import statsmodels\n",
    "\n",
    "import math\n",
    "import statistics"
   ]
  },
  {
   "cell_type": "markdown",
   "id": "4a7f2f6c-4e82-48a7-88d7-8a154fb81206",
   "metadata": {},
   "source": [
    "<h2>16.117"
   ]
  },
  {
   "cell_type": "code",
   "execution_count": 2,
   "id": "53bd7986-c6b7-47fe-8c3b-1feec794f389",
   "metadata": {},
   "outputs": [
    {
     "name": "stdout",
     "output_type": "stream",
     "text": [
      "Head of dataset:\n"
     ]
    },
    {
     "data": {
      "text/html": [
       "<div>\n",
       "<style scoped>\n",
       "    .dataframe tbody tr th:only-of-type {\n",
       "        vertical-align: middle;\n",
       "    }\n",
       "\n",
       "    .dataframe tbody tr th {\n",
       "        vertical-align: top;\n",
       "    }\n",
       "\n",
       "    .dataframe thead th {\n",
       "        text-align: right;\n",
       "    }\n",
       "</style>\n",
       "<table border=\"1\" class=\"dataframe\">\n",
       "  <thead>\n",
       "    <tr style=\"text-align: right;\">\n",
       "      <th></th>\n",
       "      <th>Temperature</th>\n",
       "      <th>Beers</th>\n",
       "    </tr>\n",
       "  </thead>\n",
       "  <tbody>\n",
       "    <tr>\n",
       "      <th>0</th>\n",
       "      <td>80</td>\n",
       "      <td>20533</td>\n",
       "    </tr>\n",
       "    <tr>\n",
       "      <th>1</th>\n",
       "      <td>68</td>\n",
       "      <td>1439</td>\n",
       "    </tr>\n",
       "    <tr>\n",
       "      <th>2</th>\n",
       "      <td>78</td>\n",
       "      <td>13829</td>\n",
       "    </tr>\n",
       "    <tr>\n",
       "      <th>3</th>\n",
       "      <td>79</td>\n",
       "      <td>21286</td>\n",
       "    </tr>\n",
       "    <tr>\n",
       "      <th>4</th>\n",
       "      <td>87</td>\n",
       "      <td>30985</td>\n",
       "    </tr>\n",
       "  </tbody>\n",
       "</table>\n",
       "</div>"
      ],
      "text/plain": [
       "   Temperature  Beers\n",
       "0           80  20533\n",
       "1           68   1439\n",
       "2           78  13829\n",
       "3           79  21286\n",
       "4           87  30985"
      ]
     },
     "metadata": {},
     "output_type": "display_data"
    },
    {
     "name": "stdout",
     "output_type": "stream",
     "text": [
      "Tail of dataset:\n"
     ]
    },
    {
     "data": {
      "text/html": [
       "<div>\n",
       "<style scoped>\n",
       "    .dataframe tbody tr th:only-of-type {\n",
       "        vertical-align: middle;\n",
       "    }\n",
       "\n",
       "    .dataframe tbody tr th {\n",
       "        vertical-align: top;\n",
       "    }\n",
       "\n",
       "    .dataframe thead th {\n",
       "        text-align: right;\n",
       "    }\n",
       "</style>\n",
       "<table border=\"1\" class=\"dataframe\">\n",
       "  <thead>\n",
       "    <tr style=\"text-align: right;\">\n",
       "      <th></th>\n",
       "      <th>Temperature</th>\n",
       "      <th>Beers</th>\n",
       "    </tr>\n",
       "  </thead>\n",
       "  <tbody>\n",
       "    <tr>\n",
       "      <th>5</th>\n",
       "      <td>74</td>\n",
       "      <td>17187</td>\n",
       "    </tr>\n",
       "    <tr>\n",
       "      <th>6</th>\n",
       "      <td>86</td>\n",
       "      <td>30240</td>\n",
       "    </tr>\n",
       "    <tr>\n",
       "      <th>7</th>\n",
       "      <td>92</td>\n",
       "      <td>37596</td>\n",
       "    </tr>\n",
       "    <tr>\n",
       "      <th>8</th>\n",
       "      <td>77</td>\n",
       "      <td>9610</td>\n",
       "    </tr>\n",
       "    <tr>\n",
       "      <th>9</th>\n",
       "      <td>84</td>\n",
       "      <td>28742</td>\n",
       "    </tr>\n",
       "  </tbody>\n",
       "</table>\n",
       "</div>"
      ],
      "text/plain": [
       "   Temperature  Beers\n",
       "5           74  17187\n",
       "6           86  30240\n",
       "7           92  37596\n",
       "8           77   9610\n",
       "9           84  28742"
      ]
     },
     "metadata": {},
     "output_type": "display_data"
    }
   ],
   "source": [
    "#讀取資料集\n",
    "df5 = pd.read_excel('Xr16-05.xlsx')\n",
    "\n",
    "print('Head of dataset:')\n",
    "display(df5.head())\n",
    "print(\"Tail of dataset:\")\n",
    "display(df5.tail())"
   ]
  },
  {
   "cell_type": "code",
   "execution_count": 3,
   "id": "3defe101-6cc2-4aec-ba03-b51e8a806569",
   "metadata": {},
   "outputs": [
    {
     "data": {
      "image/png": "[encoded data removed]",
      "text/plain": [
       "<Figure size 600x400 with 1 Axes>"
      ]
     },
     "metadata": {
      "needs_background": "light"
     },
     "output_type": "display_data"
    }
   ],
   "source": [
    "_ = sns.regplot(x='Temperature', y= 'Beers', data = df5, color = 'b', ci = None)\n",
    "plt.title('Scatter Plot for beer sales')\n",
    "plt.xlabel('Temperature')\n",
    "plt.ylabel('Beers')\n",
    "plt.show()"
   ]
  },
  {
   "cell_type": "code",
   "execution_count": 4,
   "id": "ac62a735-5933-41d8-8322-d510a08816a5",
   "metadata": {},
   "outputs": [
    {
     "name": "stdout",
     "output_type": "stream",
     "text": [
      "[ 4.34062573e-02 -3.04365412e-01 -1.06587071e+00  7.23854858e-01\n",
      "  1.16303943e-03  1.86277417e+00  2.40530572e-01 -3.49866867e-01\n",
      " -1.89706674e+00  6.99656244e-01]\n",
      "mu =  -0.004578458896285631\n",
      "sigma =  0.9743167243214759\n"
     ]
    },
    {
     "data": {
      "image/png": "[encoded data removed]",
      "text/plain": [
       "<Figure size 600x400 with 1 Axes>"
      ]
     },
     "metadata": {
      "needs_background": "light"
     },
     "output_type": "display_data"
    }
   ],
   "source": [
    "# Fit regression model \n",
    "df5_result1 = smf.ols('Beers~ Temperature', data=df5).fit()\n",
    "\n",
    "# studentized residual\n",
    "st1, data1, ss3 = sso.summary_table(df5_result1, alpha=0.05)\n",
    "SD = data1[:, 10]\n",
    "mu = np.mean(SD)\n",
    "sigma = np.std(SD)\n",
    "print(SD)\n",
    "print('mu = ', mu)\n",
    "print('sigma = ', sigma)\n",
    "\n",
    "y_pre = data1[:, 2]\n",
    "plt.plot(y_pre, SD, 'o', color = 'gray')\n",
    "plt.axhline(y=0, color = 'blue')\n",
    "plt.axhline(y=2, color = 'red')\n",
    "plt.axhline(y=-2, color = 'red')\n",
    "plt.title('Standardized Residual Plot')\n",
    "plt.xlabel('Predicted Number of Beers')\n",
    "plt.ylabel('Standardized Residual')\n",
    "plt.show()"
   ]
  },
  {
   "cell_type": "code",
   "execution_count": 5,
   "id": "b6a14f83-fe88-4b6d-9506-b89bdd858c9a",
   "metadata": {},
   "outputs": [
    {
     "name": "stdout",
     "output_type": "stream",
     "text": [
      "Outliers by SD = \n",
      "\n",
      "Series([], Name: SD, dtype: float64)\n",
      "\n",
      "hi =\n",
      "[0.10057274 0.45796105 0.11431844 0.10515464 0.19679267 0.19679267\n",
      " 0.16930126 0.40297824 0.12806415 0.12806415] \n",
      "\n",
      "Influential Observations by hi = \n",
      "\n",
      "Series([], Name: hi, dtype: float64)\n"
     ]
    }
   ],
   "source": [
    "# Outliers\n",
    "df5_2 = pd.DataFrame(SD,columns = ['SD'])\n",
    "filter = (df5_2['SD'] < -2) | (df5_2['SD'] > 2)\n",
    "print(\"Outliers by SD = \\n\")\n",
    "print(df5_2['SD'].loc[filter])\n",
    "\n",
    "print(\"\")\n",
    "\n",
    "# Influential Observations\n",
    "x_data = df5['Temperature'].values\n",
    "y_data = df5['Beers'].values\n",
    "cov_mat1 = np.cov(y_data, x_data)\n",
    "x_data_bar = x_data.mean()\n",
    "data_nobs = len(x_data)\n",
    "h_val = 1 / data_nobs + (x_data - x_data_bar) ** 2 / (data_nobs - 1) / cov_mat1[1,1]\n",
    "print(\"hi =\")\n",
    "print(h_val, \"\\n\")\n",
    "df5_h = pd.DataFrame(h_val,columns = ['hi'])\n",
    "filter = (df5_h['hi'] > 6 / data_nobs )\n",
    "print(\"Influential Observations by hi = \\n\")\n",
    "print(df5_h['hi'].loc[filter])"
   ]
  },
  {
   "cell_type": "markdown",
   "id": "c419a74d-975a-4080-9a58-ccdf95700d04",
   "metadata": {},
   "source": [
    "No Outliers or Influential Observations."
   ]
  },
  {
   "cell_type": "markdown",
   "id": "05ada1e1-3a17-4719-a5c8-d76951cb6f90",
   "metadata": {},
   "source": [
    "<h2> 16.127"
   ]
  },
  {
   "cell_type": "code",
   "execution_count": 6,
   "id": "a207dc8b-c974-46d7-9958-cdde5d4d301d",
   "metadata": {},
   "outputs": [
    {
     "name": "stdout",
     "output_type": "stream",
     "text": [
      "Head of dataset:\n"
     ]
    },
    {
     "data": {
      "text/html": [
       "<div>\n",
       "<style scoped>\n",
       "    .dataframe tbody tr th:only-of-type {\n",
       "        vertical-align: middle;\n",
       "    }\n",
       "\n",
       "    .dataframe tbody tr th {\n",
       "        vertical-align: top;\n",
       "    }\n",
       "\n",
       "    .dataframe thead th {\n",
       "        text-align: right;\n",
       "    }\n",
       "</style>\n",
       "<table border=\"1\" class=\"dataframe\">\n",
       "  <thead>\n",
       "    <tr style=\"text-align: right;\">\n",
       "      <th></th>\n",
       "      <th>Income</th>\n",
       "      <th>Food</th>\n",
       "    </tr>\n",
       "  </thead>\n",
       "  <tbody>\n",
       "    <tr>\n",
       "      <th>0</th>\n",
       "      <td>53</td>\n",
       "      <td>188.24</td>\n",
       "    </tr>\n",
       "    <tr>\n",
       "      <th>1</th>\n",
       "      <td>47</td>\n",
       "      <td>304.89</td>\n",
       "    </tr>\n",
       "    <tr>\n",
       "      <th>2</th>\n",
       "      <td>59</td>\n",
       "      <td>304.99</td>\n",
       "    </tr>\n",
       "    <tr>\n",
       "      <th>3</th>\n",
       "      <td>44</td>\n",
       "      <td>283.99</td>\n",
       "    </tr>\n",
       "    <tr>\n",
       "      <th>4</th>\n",
       "      <td>87</td>\n",
       "      <td>316.21</td>\n",
       "    </tr>\n",
       "  </tbody>\n",
       "</table>\n",
       "</div>"
      ],
      "text/plain": [
       "   Income    Food\n",
       "0      53  188.24\n",
       "1      47  304.89\n",
       "2      59  304.99\n",
       "3      44  283.99\n",
       "4      87  316.21"
      ]
     },
     "metadata": {},
     "output_type": "display_data"
    },
    {
     "name": "stdout",
     "output_type": "stream",
     "text": [
      "Tail of dataset:\n"
     ]
    },
    {
     "data": {
      "text/html": [
       "<div>\n",
       "<style scoped>\n",
       "    .dataframe tbody tr th:only-of-type {\n",
       "        vertical-align: middle;\n",
       "    }\n",
       "\n",
       "    .dataframe tbody tr th {\n",
       "        vertical-align: top;\n",
       "    }\n",
       "\n",
       "    .dataframe thead th {\n",
       "        text-align: right;\n",
       "    }\n",
       "</style>\n",
       "<table border=\"1\" class=\"dataframe\">\n",
       "  <thead>\n",
       "    <tr style=\"text-align: right;\">\n",
       "      <th></th>\n",
       "      <th>Income</th>\n",
       "      <th>Food</th>\n",
       "    </tr>\n",
       "  </thead>\n",
       "  <tbody>\n",
       "    <tr>\n",
       "      <th>145</th>\n",
       "      <td>65</td>\n",
       "      <td>220.19</td>\n",
       "    </tr>\n",
       "    <tr>\n",
       "      <th>146</th>\n",
       "      <td>72</td>\n",
       "      <td>304.07</td>\n",
       "    </tr>\n",
       "    <tr>\n",
       "      <th>147</th>\n",
       "      <td>80</td>\n",
       "      <td>330.50</td>\n",
       "    </tr>\n",
       "    <tr>\n",
       "      <th>148</th>\n",
       "      <td>59</td>\n",
       "      <td>257.37</td>\n",
       "    </tr>\n",
       "    <tr>\n",
       "      <th>149</th>\n",
       "      <td>81</td>\n",
       "      <td>313.64</td>\n",
       "    </tr>\n",
       "  </tbody>\n",
       "</table>\n",
       "</div>"
      ],
      "text/plain": [
       "     Income    Food\n",
       "145      65  220.19\n",
       "146      72  304.07\n",
       "147      80  330.50\n",
       "148      59  257.37\n",
       "149      81  313.64"
      ]
     },
     "metadata": {},
     "output_type": "display_data"
    }
   ],
   "source": [
    "#讀取資料集\n",
    "df15 = pd.read_excel('Xr16-15.xlsx')\n",
    "\n",
    "print('Head of dataset:')\n",
    "display(df15.head())\n",
    "print(\"Tail of dataset:\")\n",
    "display(df15.tail())"
   ]
  },
  {
   "cell_type": "code",
   "execution_count": 7,
   "id": "9cbea621-15b2-4ffb-8f07-a4a749fc22a4",
   "metadata": {},
   "outputs": [
    {
     "data": {
      "image/png": "[encoded data removed]",
      "text/plain": [
       "<Figure size 600x400 with 1 Axes>"
      ]
     },
     "metadata": {
      "needs_background": "light"
     },
     "output_type": "display_data"
    }
   ],
   "source": [
    "_ = sns.regplot(x='Income', y= 'Food', data = df15, color = 'b', ci = None)\n",
    "plt.title('Scatter Plot for the amount of money spent on food during one week')\n",
    "plt.xlabel('Income (in $1,000s)')\n",
    "plt.ylabel('Food')\n",
    "plt.show()"
   ]
  },
  {
   "cell_type": "code",
   "execution_count": 8,
   "id": "1939c9ff-3ff3-416d-b742-78f20139f0b6",
   "metadata": {},
   "outputs": [
    {
     "name": "stdout",
     "output_type": "stream",
     "text": [
      "[-1.88851427  1.60865429  0.96581675  1.20164756 -0.22376755 -0.00646877\n",
      "  1.10198365 -1.89785981  0.12336996 -0.05030115  0.04115229 -0.30362344\n",
      " -0.42489064  0.86282701 -0.71678565 -0.73263189  0.60851042 -1.11102007\n",
      "  0.40842249  0.68653803 -0.95946391 -0.6719616  -2.86000782 -0.07725211\n",
      " -0.50881555 -1.67364405 -0.12429495 -0.03313115 -0.97557091 -0.4466933\n",
      "  0.03872236  0.68905062 -0.75307868 -0.08130634  0.97560853  1.0951918\n",
      "  1.11446604 -1.55653223  0.11928221 -0.65292291  0.48003263 -0.28259229\n",
      "  1.07628375  0.13410854 -0.41603535  0.13856144  0.2538677   0.4797222\n",
      " -0.208721    0.98447334 -1.17438223 -0.37358044  0.97817238 -0.01440057\n",
      " -1.157373    0.1013357  -0.99550065 -1.15480506  1.4713063   0.18006235\n",
      " -0.36380199 -0.67573129  1.31181594 -1.32971748 -0.40448356 -0.56486482\n",
      " -0.02133648  1.88527884  0.82429712 -0.95119222  0.13588093  0.02657893\n",
      "  0.38363719  0.34500861  1.86452658  2.49839713  0.37038431 -1.42615322\n",
      "  1.00947395 -0.3766109  -0.01966965 -0.85446274 -1.78102244  0.0928722\n",
      " -1.11743193 -1.61163299 -0.32662966 -1.78070526  1.41695191  0.44965159\n",
      "  0.84242875 -1.37971292  0.58348684 -0.23358793 -0.32971519 -0.08702001\n",
      " -0.82009008  0.22113231 -0.51035098  1.16024433  1.41591477  0.99102815\n",
      "  0.26394412  0.41395658  0.79822565  0.97831541 -0.24579311 -1.34254036\n",
      " -1.22903921 -1.13629531 -1.00463609 -0.78665627  0.41923957  1.0451842\n",
      " -1.26364947 -3.0154791   1.07950116 -0.982459    1.80681737  0.16276548\n",
      "  2.46653128 -1.50254669 -0.01120952  1.23999761 -0.0914692   0.41419149\n",
      " -1.433814    0.43950873 -0.34917555  0.86882129  0.5041896   0.71295992\n",
      "  0.96614167  1.00823217 -0.44405776  0.03238087  0.53448016  0.99714633\n",
      "  0.51741913  1.29629049 -0.0943908  -0.00718432  0.24885822  0.01464345\n",
      "  2.61502249 -1.65818359  0.2505308   0.54860286 -0.32764977  0.03103296]\n",
      "mu =  0.00015339714350606808\n",
      "sigma =  0.9994504196767346\n"
     ]
    }
   ],
   "source": [
    "# Fit regression model \n",
    "df15_result1 = smf.ols('Food~ Income', data=df15).fit()\n",
    "\n",
    "# Studentized residual\n",
    "st1, data1, ss3 = sso.summary_table(df15_result1, alpha=0.05)\n",
    "SD = data1[:, 10]\n",
    "mu = np.mean(SD)\n",
    "sigma = np.std(SD)\n",
    "print(SD)\n",
    "print('mu = ', mu)\n",
    "print('sigma = ', sigma)"
   ]
  },
  {
   "cell_type": "markdown",
   "id": "c076bf92-4280-465f-9ac9-f7882f56b0ea",
   "metadata": {},
   "source": [
    "1. Normality Test:<br>\n",
    "Hypothesis:<br>\n",
    "H0: Errors are normally distributed.<br>\n",
    "H1: Errors are not normally distributed.<br>"
   ]
  },
  {
   "cell_type": "code",
   "execution_count": 9,
   "id": "9cfcd8e3-f2ab-4467-9da6-7454bd7dc6d6",
   "metadata": {},
   "outputs": [
    {
     "data": {
      "image/png": "[encoded data removed]",
      "text/plain": [
       "<Figure size 600x400 with 1 Axes>"
      ]
     },
     "metadata": {
      "needs_background": "light"
     },
     "output_type": "display_data"
    },
    {
     "name": "stdout",
     "output_type": "stream",
     "text": [
      "Chi-squared test: statistics = 6.4000, p-value = 0.0937\n",
      "Critical value = 7.8147 (defree of freedom = 3)\n",
      "0.09369079040762963\n",
      "Shapiro Test\n",
      "Statistics=0.992, p=0.520\n"
     ]
    },
    {
     "name": "stderr",
     "output_type": "stream",
     "text": [
      "/Users/liuweien/opt/anaconda3/lib/python3.9/site-packages/statsmodels/graphics/gofplots.py:993: UserWarning: marker is redundantly defined by the 'marker' keyword argument and the fmt string \"bo\" (-> marker='o'). The keyword argument will take precedence.\n",
      "  ax.plot(x, y, fmt, **plot_style)\n"
     ]
    },
    {
     "data": {
      "image/png": "[encoded data removed]",
      "text/plain": [
       "<Figure size 600x400 with 1 Axes>"
      ]
     },
     "metadata": {
      "needs_background": "light"
     },
     "output_type": "display_data"
    }
   ],
   "source": [
    "# 1. Normality Test\n",
    "def Chi_Square_for_Normality(SD, N, a): \n",
    "    m = np.mean(SD)\n",
    "    s = np.std(SD)   \n",
    "    prob_bins = np.zeros((N + 1))\n",
    "    z_bins = np.zeros((N + 1))\n",
    "    z_bins[0] = -4\n",
    "    z_bins[N] = 4\n",
    "    for i in range(0, N+1):\n",
    "        prob_bins[i] = i/N\n",
    "    for j in range(1, N):\n",
    "        z_bins[j] = m + stats.norm.isf(1 - prob_bins[j]) * s \n",
    "    counts, bins = np.histogram(SD, bins=z_bins)\n",
    "    nobs = counts.sum()\n",
    "    prob_e = np.zeros((N))\n",
    "    for i in range(1, N+1):\n",
    "        prob_e[i - 1] = prob_bins[i] - prob_bins[i - 1]\n",
    "    freq_e = nobs * prob_e\n",
    "    freq_o = counts\n",
    "    if np.sum(freq_e < 5) > 0:\n",
    "        print(\"Rule of five is not met. \")\n",
    "    else:\n",
    "        chi_stat, pval = stats.chisquare(freq_o, freq_e) \n",
    "        chi_pval = stats.chi2.sf(chi_stat, N - 3)\n",
    "        print(\"Chi-squared test: statistics = %0.4f, p-value = %0.4f\" % (chi_stat, chi_pval))\n",
    "    df = N - 3\n",
    "    crit_value = stats.chi2.ppf(1 - a, df)\n",
    "    print(\"Critical value = %0.4f (defree of freedom = %d)\" % (crit_value, df))\n",
    "    return chi_pval\n",
    "\n",
    "counts, bins, patches = plt.hist(SD, 6, density=False, facecolor='g', alpha=0.75)\n",
    "plt.xlabel('Income')\n",
    "plt.ylabel('Frequency')\n",
    "plt.title('Histogram of Standardized Residuals_Money Spent on Food')\n",
    "plt.grid(True)\n",
    "bin_centers = [np.mean(k) for k in zip(bins[:-1], bins[1:])]\n",
    "plt.show()\n",
    "\n",
    "fig = sm.qqplot(SD, stats.norm, fit=True, line='45')\n",
    "\n",
    "chi2_pval = Chi_Square_for_Normality(SD, 6, 0.05) \n",
    "print(chi2_pval)\n",
    "                \n",
    "print('Shapiro Test')\n",
    "stat, p = stats.shapiro(SD)\n",
    "print('Statistics=%.3f, p=%.3f' % (stat, p))"
   ]
  },
  {
   "cell_type": "markdown",
   "id": "c2041fcc-5ddf-4818-93a2-0118ed45f8cb",
   "metadata": {},
   "source": [
    "Because p_value = 0.0937 > a =0.05, do not rejected H0. We can assume that errors are normally distributed."
   ]
  },
  {
   "cell_type": "markdown",
   "id": "e5dc567b-2486-446f-83dc-98f097afb6e3",
   "metadata": {},
   "source": [
    "2. Homoscedasticity and Heteroscedasticity:<br>\n",
    "Hypothesis:<br>\n",
    "H0: Homoscedasticity<br>\n",
    "H1: Heteroscedasticity"
   ]
  },
  {
   "cell_type": "code",
   "execution_count": 10,
   "id": "d094112f-4d1f-4a7e-829a-3202f8de0f2a",
   "metadata": {},
   "outputs": [
    {
     "data": {
      "image/png": "[encoded data removed]",
      "text/plain": [
       "<Figure size 600x400 with 1 Axes>"
      ]
     },
     "metadata": {
      "needs_background": "light"
     },
     "output_type": "display_data"
    }
   ],
   "source": [
    "# 2. Homoscedasticity and Heteroscedasticity\n",
    "y_pre = data1[:, 2]\n",
    "plt.plot(y_pre, SD, 'o', color = 'gray')\n",
    "plt.axhline(y=0, color = 'blue')\n",
    "plt.axhline(y=2, color = 'red')\n",
    "plt.axhline(y=-2, color = 'red')\n",
    "plt.title('Standardized Residual Plot')\n",
    "plt.xlabel('Predicted of Money Spent on Food')\n",
    "plt.ylabel('Standardized Residual')\n",
    "plt.show()"
   ]
  },
  {
   "cell_type": "markdown",
   "id": "e5b67fd1-47f1-45f7-984f-8b9665fb28fe",
   "metadata": {},
   "source": [
    "Do not rejected H0. We can assume that the variation is constant and the mean is around 0."
   ]
  },
  {
   "cell_type": "markdown",
   "id": "285c205b-fb84-4294-8c7f-27c369715709",
   "metadata": {},
   "source": [
    "3. Dependence of the Error Variable:<br>\n",
    "Hypothesis:<br>\n",
    "H0 : Randomness exists.<br>\n",
    "H1 : Randomness does not exist."
   ]
  },
  {
   "cell_type": "code",
   "execution_count": 11,
   "id": "709eff52-4bc8-4afc-8397-c8cc2d866347",
   "metadata": {},
   "outputs": [
    {
     "name": "stdout",
     "output_type": "stream",
     "text": [
      "runs =  77\n",
      "n1 =  75\n",
      "n2 =  76\n",
      "runs_exp =  76.49668874172185\n",
      "stan_dev =  6.1233179035675915\n",
      "z =  0.08219583993587927\n",
      "pval_z =  0.9344909815035417\n",
      "p_value for Z-statistic=  0.9344909815035417\n"
     ]
    }
   ],
   "source": [
    "def runsTest(l, l_median): \n",
    "    runs, n1, n2 = 1, 0, 0\n",
    "    if(l[0]) >= l_median:\n",
    "        n1 += 1   \n",
    "    else:\n",
    "        n2 += 1     \n",
    "    # Checking for start of new run \n",
    "    for i in range(len(l)): \n",
    "        # no. of runs \n",
    "        if (l[i] >= l_median and l[i-1] < l_median) or (l[i] < l_median and l[i-1] >= l_median):\n",
    "            runs += 1  \n",
    "            # print(i, runs)\n",
    "        # no. of positive values \n",
    "        if(l[i]) >= l_median: \n",
    "            n1 += 1   \n",
    "        # no. of negative values \n",
    "        else: \n",
    "            n2 += 1   \n",
    "    runs_exp = ((2*n1*n2)/(n1+n2)) + 1\n",
    "    stan_dev = math.sqrt((2*n1*n2*(2*n1*n2-n1-n2))/(((n1+n2)**2)*(n1+n2-1))) \n",
    "    z = (runs-runs_exp)/stan_dev\n",
    "    pval_z = stats.norm.sf(abs(z)) * 2\n",
    "    print('runs = ', runs)\n",
    "    print('n1 = ', n1)\n",
    "    print('n2 = ', n2)\n",
    "    print('runs_exp = ', runs_exp)\n",
    "    print('stan_dev = ', stan_dev)\n",
    "    print('z = ', z)\n",
    "    print('pval_z = ', pval_z)\n",
    "    return pval_z\n",
    "\n",
    "SD_median = statistics.median(SD)\n",
    "Z_pval = runsTest(SD, SD_median) \n",
    "\n",
    "print('p_value for Z-statistic= ', Z_pval)"
   ]
  },
  {
   "cell_type": "markdown",
   "id": "1f1fec4b-1343-46d1-ad9e-600da25b135b",
   "metadata": {},
   "source": [
    "Because p-value = 0.9344909815035417 > a = 0.05, do not reject H0. There is no evidence to infer that the sample is not random."
   ]
  },
  {
   "cell_type": "markdown",
   "id": "83ad4c2b-f920-4a02-a1d2-7261891dc258",
   "metadata": {},
   "source": [
    "All required conditions satisfied."
   ]
  },
  {
   "cell_type": "code",
   "execution_count": 12,
   "id": "9f3a0500-f781-4d25-8039-64a1177532b3",
   "metadata": {},
   "outputs": [
    {
     "name": "stdout",
     "output_type": "stream",
     "text": [
      "Outliers by SD = \n",
      "\n",
      "22    -2.860008\n",
      "75     2.498397\n",
      "115   -3.015479\n",
      "120    2.466531\n",
      "144    2.615022\n",
      "Name: SD, dtype: float64\n",
      "\n",
      "hi =\n",
      "[0.00906708 0.01565045 0.00667694 0.02051459 0.05096675 0.00734786\n",
      " 0.00705433 0.00668626 0.01318576 0.04477475 0.00741308 0.00700774\n",
      " 0.00667694 0.00788832 0.01877673 0.00705433 0.00741308 0.00780445\n",
      " 0.02466589 0.00987311 0.01588341 0.00788832 0.01095403 0.00837753\n",
      " 0.00741308 0.00700774 0.01001289 0.01565045 0.0067841  0.0067841\n",
      " 0.0067841  0.00700774 0.00918822 0.01001289 0.00741308 0.00705433\n",
      " 0.01299008 0.02433975 0.01318576 0.02433975 0.01201166 0.06416145\n",
      " 0.00906708 0.00667694 0.02051459 0.00681206 0.00837753 0.01001289\n",
      " 0.00780445 0.00734786 0.01904696 0.04731864 0.01001289 0.00780445\n",
      " 0.01183461 0.00987311 0.01565045 0.01426202 0.00667694 0.00668626\n",
      " 0.01183461 0.01715535 0.01318576 0.00734786 0.00906708 0.01588341\n",
      " 0.01318576 0.04139687 0.0067841  0.01447635 0.00906708 0.02466589\n",
      " 0.01095403 0.00681206 0.02466589 0.0067841  0.00700774 0.00741308\n",
      " 0.00987311 0.0067841  0.00788832 0.00780445 0.00705433 0.02642705\n",
      " 0.01877673 0.00780445 0.0067841  0.01318576 0.02642705 0.03378849\n",
      " 0.00987311 0.00734786 0.02267644 0.00848003 0.01001289 0.01001289\n",
      " 0.01877673 0.03636034 0.00848003 0.01299008 0.02080346 0.01299008\n",
      " 0.00667694 0.00741308 0.00667694 0.0067841  0.01201166 0.00705433\n",
      " 0.02267644 0.00780445 0.0067841  0.00788832 0.02433975 0.00668626\n",
      " 0.00681206 0.01318576 0.00780445 0.03338781 0.00668626 0.02677182\n",
      " 0.00667694 0.00788832 0.00667694 0.00906708 0.00906708 0.00780445\n",
      " 0.00906708 0.01299008 0.0067841  0.00741308 0.01715535 0.01904696\n",
      " 0.00668626 0.01318576 0.02642705 0.01426202 0.00667694 0.00906708\n",
      " 0.00668626 0.02051459 0.00848003 0.0067841  0.02267644 0.00668626\n",
      " 0.01201166 0.00848003 0.01588341 0.03133312 0.00667694 0.03378849] \n",
      "\n",
      "Influential Observations by hi = \n",
      "\n",
      "4    0.196793\n",
      "9    0.128064\n",
      "Name: hi, dtype: float64\n"
     ]
    }
   ],
   "source": [
    "# Outliers\n",
    "df15_2 = pd.DataFrame(SD,columns = ['SD'])\n",
    "filter = (df15_2['SD'] < -2) | (df15_2['SD'] > 2)\n",
    "print(\"Outliers by SD = \\n\")\n",
    "print(df15_2['SD'].loc[filter])\n",
    "\n",
    "print(\"\")\n",
    "\n",
    "# Influential Observations\n",
    "x_data = df15['Income'].values\n",
    "y_data = df15['Food'].values\n",
    "cov_mat1 = np.cov(y_data, x_data)\n",
    "x_data_bar = x_data.mean()\n",
    "data_nobs = len(x_data)\n",
    "h_val = 1 / data_nobs + (x_data - x_data_bar) ** 2 / (data_nobs - 1) / cov_mat1[1,1]\n",
    "print(\"hi =\")\n",
    "print(h_val, \"\\n\")\n",
    "df15_h = pd.DataFrame(h_val,columns = ['hi'])\n",
    "filter = (df15_h['hi'] > 6 / data_nobs )\n",
    "print(\"Influential Observations by hi = \\n\")\n",
    "print(df5_h['hi'].loc[filter])"
   ]
  },
  {
   "cell_type": "markdown",
   "id": "a60cefa9-59a0-4685-98cf-1b8171536400",
   "metadata": {},
   "source": [
    "Outliers ID: 23, 76, 446, 121, 145<br>\n",
    "Influential Observations ID: 5, 10"
   ]
  },
  {
   "cell_type": "markdown",
   "id": "2792780e-16c3-4984-a5e4-0583a23e4b25",
   "metadata": {},
   "source": [
    "<h2>16.133"
   ]
  },
  {
   "cell_type": "code",
   "execution_count": 13,
   "id": "794730e8-38b1-4e24-b308-8b829abd5915",
   "metadata": {},
   "outputs": [
    {
     "name": "stdout",
     "output_type": "stream",
     "text": [
      "Head of dataset:\n"
     ]
    },
    {
     "name": "stderr",
     "output_type": "stream",
     "text": [
      "/Users/liuweien/opt/anaconda3/lib/python3.9/site-packages/openpyxl/worksheet/header_footer.py:48: UserWarning: Cannot parse header or footer so it will be ignored\n",
      "  warn(\"\"\"Cannot parse header or footer so it will be ignored\"\"\")\n"
     ]
    },
    {
     "data": {
      "text/html": [
       "<div>\n",
       "<style scoped>\n",
       "    .dataframe tbody tr th:only-of-type {\n",
       "        vertical-align: middle;\n",
       "    }\n",
       "\n",
       "    .dataframe tbody tr th {\n",
       "        vertical-align: top;\n",
       "    }\n",
       "\n",
       "    .dataframe thead th {\n",
       "        text-align: right;\n",
       "    }\n",
       "</style>\n",
       "<table border=\"1\" class=\"dataframe\">\n",
       "  <thead>\n",
       "    <tr style=\"text-align: right;\">\n",
       "      <th></th>\n",
       "      <th>Yield</th>\n",
       "      <th>Fetilizer</th>\n",
       "    </tr>\n",
       "  </thead>\n",
       "  <tbody>\n",
       "    <tr>\n",
       "      <th>0</th>\n",
       "      <td>223</td>\n",
       "      <td>100</td>\n",
       "    </tr>\n",
       "    <tr>\n",
       "      <th>1</th>\n",
       "      <td>321</td>\n",
       "      <td>200</td>\n",
       "    </tr>\n",
       "    <tr>\n",
       "      <th>2</th>\n",
       "      <td>158</td>\n",
       "      <td>300</td>\n",
       "    </tr>\n",
       "    <tr>\n",
       "      <th>3</th>\n",
       "      <td>187</td>\n",
       "      <td>400</td>\n",
       "    </tr>\n",
       "    <tr>\n",
       "      <th>4</th>\n",
       "      <td>331</td>\n",
       "      <td>500</td>\n",
       "    </tr>\n",
       "  </tbody>\n",
       "</table>\n",
       "</div>"
      ],
      "text/plain": [
       "   Yield  Fetilizer\n",
       "0    223        100\n",
       "1    321        200\n",
       "2    158        300\n",
       "3    187        400\n",
       "4    331        500"
      ]
     },
     "metadata": {},
     "output_type": "display_data"
    },
    {
     "name": "stdout",
     "output_type": "stream",
     "text": [
      "Tail of dataset:\n"
     ]
    },
    {
     "data": {
      "text/html": [
       "<div>\n",
       "<style scoped>\n",
       "    .dataframe tbody tr th:only-of-type {\n",
       "        vertical-align: middle;\n",
       "    }\n",
       "\n",
       "    .dataframe tbody tr th {\n",
       "        vertical-align: top;\n",
       "    }\n",
       "\n",
       "    .dataframe thead th {\n",
       "        text-align: right;\n",
       "    }\n",
       "</style>\n",
       "<table border=\"1\" class=\"dataframe\">\n",
       "  <thead>\n",
       "    <tr style=\"text-align: right;\">\n",
       "      <th></th>\n",
       "      <th>Yield</th>\n",
       "      <th>Fetilizer</th>\n",
       "    </tr>\n",
       "  </thead>\n",
       "  <tbody>\n",
       "    <tr>\n",
       "      <th>25</th>\n",
       "      <td>366</td>\n",
       "      <td>100</td>\n",
       "    </tr>\n",
       "    <tr>\n",
       "      <th>26</th>\n",
       "      <td>376</td>\n",
       "      <td>200</td>\n",
       "    </tr>\n",
       "    <tr>\n",
       "      <th>27</th>\n",
       "      <td>323</td>\n",
       "      <td>300</td>\n",
       "    </tr>\n",
       "    <tr>\n",
       "      <th>28</th>\n",
       "      <td>421</td>\n",
       "      <td>400</td>\n",
       "    </tr>\n",
       "    <tr>\n",
       "      <th>29</th>\n",
       "      <td>448</td>\n",
       "      <td>500</td>\n",
       "    </tr>\n",
       "  </tbody>\n",
       "</table>\n",
       "</div>"
      ],
      "text/plain": [
       "    Yield  Fetilizer\n",
       "25    366        100\n",
       "26    376        200\n",
       "27    323        300\n",
       "28    421        400\n",
       "29    448        500"
      ]
     },
     "metadata": {},
     "output_type": "display_data"
    }
   ],
   "source": [
    "#讀取資料集\n",
    "df1 = pd.read_excel('Xr16-133.xlsx')\n",
    "\n",
    "print('Head of dataset:')\n",
    "display(df1.head())\n",
    "print(\"Tail of dataset:\")\n",
    "display(df1.tail())"
   ]
  },
  {
   "cell_type": "code",
   "execution_count": 14,
   "id": "ac144493-a4b8-4a46-8b12-b25ce3f7f8ad",
   "metadata": {},
   "outputs": [
    {
     "data": {
      "image/png": "[encoded data removed]",
      "text/plain": [
       "<Figure size 600x400 with 1 Axes>"
      ]
     },
     "metadata": {
      "needs_background": "light"
     },
     "output_type": "display_data"
    }
   ],
   "source": [
    "# Step 1\n",
    "_ = sns.regplot(x='Fetilizer', y= 'Yield', data = df1, color = 'b', ci = None)\n",
    "plt.title('Scatter Plot for Yield')\n",
    "plt.xlabel('Fetilizer')\n",
    "plt.ylabel('Yield')\n",
    "plt.show()"
   ]
  },
  {
   "cell_type": "markdown",
   "id": "6e705360-f626-4d85-a3d0-14e485a9c813",
   "metadata": {},
   "source": [
    "<h2>(a)"
   ]
  },
  {
   "cell_type": "markdown",
   "id": "6c47d6ae-0cf4-433b-b958-9ca282375aee",
   "metadata": {},
   "source": [
    "Statistical Model: Sample regression line"
   ]
  },
  {
   "cell_type": "code",
   "execution_count": 15,
   "id": "dccd7a03-b9ea-4952-a6fa-33f8e4884a68",
   "metadata": {},
   "outputs": [
    {
     "name": "stdout",
     "output_type": "stream",
     "text": [
      "                            OLS Regression Results                            \n",
      "==============================================================================\n",
      "Dep. Variable:                  Yield   R-squared:                       0.060\n",
      "Model:                            OLS   Adj. R-squared:                  0.026\n",
      "Method:                 Least Squares   F-statistic:                     1.772\n",
      "Date:                Wed, 27 Apr 2022   Prob (F-statistic):              0.194\n",
      "Time:                        10:07:52   Log-Likelihood:                -169.57\n",
      "No. Observations:                  30   AIC:                             343.1\n",
      "Df Residuals:                      28   BIC:                             345.9\n",
      "Df Model:                           1                                         \n",
      "Covariance Type:            nonrobust                                         \n",
      "==============================================================================\n",
      "                 coef    std err          t      P>|t|      [0.025      0.975]\n",
      "------------------------------------------------------------------------------\n",
      "Intercept    281.8000     30.561      9.221      0.000     219.199     344.401\n",
      "Fetilizer      0.1227      0.092      1.331      0.194      -0.066       0.311\n",
      "==============================================================================\n",
      "Omnibus:                        1.878   Durbin-Watson:                   1.700\n",
      "Prob(Omnibus):                  0.391   Jarque-Bera (JB):                1.708\n",
      "Skew:                          -0.528   Prob(JB):                        0.426\n",
      "Kurtosis:                       2.499   Cond. No.                         778.\n",
      "==============================================================================\n",
      "\n",
      "Notes:\n",
      "[1] Standard Errors assume that the covariance matrix of the errors is correctly specified.\n",
      "\n",
      "Estimated model: y = 281.8000 + 0.1227 x\n"
     ]
    }
   ],
   "source": [
    "#Step 2, 3, 6\n",
    "\n",
    "# Fit regression model \n",
    "df1_result1 = smf.ols('Yield~ Fetilizer', data=df1).fit()\n",
    "# Inspect the results\n",
    "print(df1_result1.summary())\n",
    "\n",
    "b1 = df1_result1.params[1]\n",
    "b0 = df1_result1.params[0]\n",
    "print(\"\\nEstimated model: y = %0.4f + %0.4f x\" % (b0, b1))"
   ]
  },
  {
   "cell_type": "markdown",
   "id": "bc2cf1b8-8dd4-499a-a2bb-daa2e286ecfb",
   "metadata": {},
   "source": [
    "$b_0$: The intercept is 281.8. Cannot be interpret since there is no data near Fetilizer = 0. <br>\n",
    "$b_1$: The slope of the line. For each additional Fetilizer, the Yield increases by an average of 0.1227."
   ]
  },
  {
   "cell_type": "code",
   "execution_count": 16,
   "id": "c60ec4b9-3250-46cf-9b0c-09421c338ed9",
   "metadata": {},
   "outputs": [
    {
     "name": "stdout",
     "output_type": "stream",
     "text": [
      "[-1.04954635e+00  2.10827155e-01 -2.28856946e+00 -2.06802273e+00\n",
      " -1.79190839e-01 -5.76955120e-01  8.00184885e-01 -1.46206244e+00\n",
      " -4.29320753e-01 -1.67376059e-02  8.70355506e-01  3.11449207e-01\n",
      " -9.49058072e-01  2.17535292e-01 -1.96913010e-03 -1.09385177e+00\n",
      "  1.13080020e+00 -1.02030868e+00  8.50016758e-01 -5.92708161e-01\n",
      "  7.52207700e-01 -5.51025520e-01  8.74957442e-01  1.20938123e+00\n",
      "  1.45715628e-01  1.06234569e+00  1.00142899e+00  6.27005333e-02\n",
      "  1.29562870e+00  1.54872083e+00]\n",
      "mu =  0.0021643034818295288\n",
      "sigma =  0.9951827058796336\n"
     ]
    }
   ],
   "source": [
    "# Step 4\n",
    "# Studentized residual\n",
    "st1, data1, ss3 = sso.summary_table(df1_result1, alpha=0.05)\n",
    "SD = data1[:, 10]\n",
    "mu = np.mean(SD)\n",
    "sigma = np.std(SD)\n",
    "print(SD)\n",
    "print('mu = ', mu)\n",
    "print('sigma = ', sigma)"
   ]
  },
  {
   "cell_type": "markdown",
   "id": "92cf7a4c-6911-49cd-8eaa-b38e689a036c",
   "metadata": {},
   "source": [
    "1. Normality Test:<br>\n",
    "Hypothesis:<br>\n",
    "H0: Errors are normally distributed.<br>\n",
    "H1: Errors are not normally distributed.<br>"
   ]
  },
  {
   "cell_type": "code",
   "execution_count": 17,
   "id": "98ad7851-2416-484e-a581-8ab491b0956b",
   "metadata": {},
   "outputs": [
    {
     "data": {
      "image/png": "[encoded data removed]",
      "text/plain": [
       "<Figure size 600x400 with 1 Axes>"
      ]
     },
     "metadata": {
      "needs_background": "light"
     },
     "output_type": "display_data"
    },
    {
     "name": "stderr",
     "output_type": "stream",
     "text": [
      "/Users/liuweien/opt/anaconda3/lib/python3.9/site-packages/statsmodels/graphics/gofplots.py:993: UserWarning: marker is redundantly defined by the 'marker' keyword argument and the fmt string \"bo\" (-> marker='o'). The keyword argument will take precedence.\n",
      "  ax.plot(x, y, fmt, **plot_style)\n"
     ]
    },
    {
     "name": "stdout",
     "output_type": "stream",
     "text": [
      "Chi-squared test: statistics = 4.0000, p-value = 0.1353\n",
      "Critical value = 5.9915 (defree of freedom = 2)\n",
      "0.13533528323661242\n",
      "Shapiro Test\n",
      "Statistics=0.953, p=0.207\n"
     ]
    },
    {
     "data": {
      "image/png": "[encoded data removed]",
      "text/plain": [
       "<Figure size 600x400 with 1 Axes>"
      ]
     },
     "metadata": {
      "needs_background": "light"
     },
     "output_type": "display_data"
    }
   ],
   "source": [
    "# 1. Normality Test\n",
    "def Chi_Square_for_Normality(SD, N, a): \n",
    "    m = np.mean(SD)\n",
    "    s = np.std(SD)   \n",
    "    prob_bins = np.zeros((N + 1))\n",
    "    z_bins = np.zeros((N + 1))\n",
    "    z_bins[0] = -4\n",
    "    z_bins[N] = 4\n",
    "    for i in range(0, N+1):\n",
    "        prob_bins[i] = i/N\n",
    "    for j in range(1, N):\n",
    "        z_bins[j] = m + stats.norm.isf(1 - prob_bins[j]) * s \n",
    "    counts, bins = np.histogram(SD, bins=z_bins)\n",
    "    nobs = counts.sum()\n",
    "    prob_e = np.zeros((N))\n",
    "    for i in range(1, N+1):\n",
    "        prob_e[i - 1] = prob_bins[i] - prob_bins[i - 1]\n",
    "    freq_e = nobs * prob_e\n",
    "    freq_o = counts\n",
    "    if np.sum(freq_e < 5) > 0:\n",
    "        print(\"Rule of five is not met. \")\n",
    "    else:\n",
    "        chi_stat, pval = stats.chisquare(freq_o, freq_e) \n",
    "        chi_pval = stats.chi2.sf(chi_stat, N - 3)\n",
    "        print(\"Chi-squared test: statistics = %0.4f, p-value = %0.4f\" % (chi_stat, chi_pval))\n",
    "    df = N - 3\n",
    "    crit_value = stats.chi2.ppf(1 - a, df)\n",
    "    print(\"Critical value = %0.4f (defree of freedom = %d)\" % (crit_value, df))\n",
    "    return chi_pval\n",
    "\n",
    "counts, bins, patches = plt.hist(SD, 5, density=False, facecolor='g', alpha=0.75)\n",
    "plt.xlabel('Fetilizer')\n",
    "plt.ylabel('Frequency')\n",
    "plt.title('Histogram of Standardized Residuals_Yield')\n",
    "plt.grid(True)\n",
    "bin_centers = [np.mean(k) for k in zip(bins[:-1], bins[1:])]\n",
    "plt.show()\n",
    "\n",
    "fig = sm.qqplot(SD, stats.norm, fit=True, line='45')\n",
    "\n",
    "chi2_pval = Chi_Square_for_Normality(SD, 5, 0.05) \n",
    "print(chi2_pval)\n",
    "                \n",
    "print('Shapiro Test')\n",
    "stat, p = stats.shapiro(SD)\n",
    "print('Statistics=%.3f, p=%.3f' % (stat, p))"
   ]
  },
  {
   "cell_type": "markdown",
   "id": "4dc61fa1-aaea-43fe-b520-66dfcc22bf05",
   "metadata": {},
   "source": [
    "Because p_value = 0.1353 > a =0.05, do not rejected H0. We can assume that errors are normally distributed."
   ]
  },
  {
   "cell_type": "markdown",
   "id": "ef8dc239-fbdb-41bc-aaa3-410744a193f1",
   "metadata": {},
   "source": [
    "2. Homoscedasticity and Heteroscedasticity:<br>\n",
    "Hypothesis:<br>\n",
    "H0: Homoscedasticity<br>\n",
    "H1: Heteroscedasticity"
   ]
  },
  {
   "cell_type": "code",
   "execution_count": 18,
   "id": "9bca2aae-bcaf-4a3b-be31-0177f442b72c",
   "metadata": {},
   "outputs": [
    {
     "data": {
      "image/png": "[encoded data removed]",
      "text/plain": [
       "<Figure size 600x400 with 1 Axes>"
      ]
     },
     "metadata": {
      "needs_background": "light"
     },
     "output_type": "display_data"
    }
   ],
   "source": [
    "# 2. Homoscedasticity and Heteroscedasticity\n",
    "y_pre = data1[:, 2]\n",
    "plt.plot(y_pre, SD, 'o', color = 'gray')\n",
    "plt.axhline(y=0, color = 'blue')\n",
    "plt.axhline(y=2, color = 'red')\n",
    "plt.axhline(y=-2, color = 'red')\n",
    "plt.title('Standardized Residual Plot')\n",
    "plt.xlabel('Predicted of Yield')\n",
    "plt.ylabel('Standardized Residual')\n",
    "plt.show()"
   ]
  },
  {
   "cell_type": "markdown",
   "id": "ba459083-4872-4088-9587-849337dc1c80",
   "metadata": {},
   "source": [
    "Do not rejected H0. We can assume that the variation is constant and the mean is around 0."
   ]
  },
  {
   "cell_type": "markdown",
   "id": "03cbffa4-e95b-4ef2-b60b-6762cde676b0",
   "metadata": {},
   "source": [
    "3. Dependence of the Error Variable:<br>\n",
    "Hypothesis:<br>\n",
    "H0 : Randomness exists.<br>\n",
    "H1 : Randomness does not exist."
   ]
  },
  {
   "cell_type": "code",
   "execution_count": 19,
   "id": "fae0d94e-d329-47d8-9a7c-5ddbc36bd030",
   "metadata": {},
   "outputs": [
    {
     "name": "stdout",
     "output_type": "stream",
     "text": [
      "runs =  19\n",
      "n1 =  15\n",
      "n2 =  16\n",
      "runs_exp =  16.483870967741936\n",
      "stan_dev =  2.7341445290860764\n",
      "z =  0.9202618974568667\n",
      "pval_z =  0.3574359152813249\n",
      "p_value for Z-statistic=  0.3574359152813249\n"
     ]
    }
   ],
   "source": [
    "def runsTest(l, l_median): \n",
    "    runs, n1, n2 = 1, 0, 0\n",
    "    if(l[0]) >= l_median:\n",
    "        n1 += 1   \n",
    "    else:\n",
    "        n2 += 1     \n",
    "    # Checking for start of new run \n",
    "    for i in range(len(l)): \n",
    "        # no. of runs \n",
    "        if (l[i] >= l_median and l[i-1] < l_median) or (l[i] < l_median and l[i-1] >= l_median):\n",
    "            runs += 1  \n",
    "            # print(i, runs)\n",
    "        # no. of positive values \n",
    "        if(l[i]) >= l_median: \n",
    "            n1 += 1   \n",
    "        # no. of negative values \n",
    "        else: \n",
    "            n2 += 1   \n",
    "    runs_exp = ((2*n1*n2)/(n1+n2)) + 1\n",
    "    stan_dev = math.sqrt((2*n1*n2*(2*n1*n2-n1-n2))/(((n1+n2)**2)*(n1+n2-1))) \n",
    "    z = (runs-runs_exp)/stan_dev\n",
    "    pval_z = stats.norm.sf(abs(z)) * 2\n",
    "    print('runs = ', runs)\n",
    "    print('n1 = ', n1)\n",
    "    print('n2 = ', n2)\n",
    "    print('runs_exp = ', runs_exp)\n",
    "    print('stan_dev = ', stan_dev)\n",
    "    print('z = ', z)\n",
    "    print('pval_z = ', pval_z)\n",
    "    return pval_z\n",
    "\n",
    "SD_median = statistics.median(SD)\n",
    "Z_pval = runsTest(SD, SD_median) \n",
    "\n",
    "print('p_value for Z-statistic= ', Z_pval)"
   ]
  },
  {
   "cell_type": "markdown",
   "id": "74044652-ac4c-45c1-9415-a492dd8fb8a5",
   "metadata": {},
   "source": [
    "Because p-value = 0.3574359152813249 > a = 0.05, do not reject H0. There is no evidence to infer that the sample is not random.\n",
    "\n",
    "All required conditions satisfied."
   ]
  },
  {
   "cell_type": "code",
   "execution_count": 20,
   "id": "084b964c-cf46-4342-8b5e-487a7972d548",
   "metadata": {},
   "outputs": [
    {
     "name": "stdout",
     "output_type": "stream",
     "text": [
      "Outliers by SD = \n",
      "\n",
      "2   -2.288569\n",
      "3   -2.068023\n",
      "Name: SD, dtype: float64\n",
      "\n",
      "hi =\n",
      "[0.1        0.05       0.03333333 0.05       0.1        0.1\n",
      " 0.05       0.03333333 0.05       0.1        0.1        0.05\n",
      " 0.03333333 0.05       0.1        0.1        0.05       0.03333333\n",
      " 0.05       0.1        0.1        0.05       0.03333333 0.05\n",
      " 0.1        0.1        0.05       0.03333333 0.05       0.1       ] \n",
      "\n",
      "Influential Observations by hi = \n",
      "\n",
      "Series([], Name: hi, dtype: float64)\n"
     ]
    }
   ],
   "source": [
    "# Outliers\n",
    "df1_2 = pd.DataFrame(SD,columns = ['SD'])\n",
    "filter = (df1_2['SD'] < -2) | (df1_2['SD'] > 2)\n",
    "print(\"Outliers by SD = \\n\")\n",
    "print(df1_2['SD'].loc[filter])\n",
    "\n",
    "print(\"\")\n",
    "\n",
    "# Influential Observations\n",
    "x_data = df1['Fetilizer'].values\n",
    "y_data = df1['Yield'].values\n",
    "cov_mat1 = np.cov(y_data, x_data)\n",
    "x_data_bar = x_data.mean()\n",
    "data_nobs = len(x_data)\n",
    "h_val = 1 / data_nobs + (x_data - x_data_bar) ** 2 / (data_nobs - 1) / cov_mat1[1,1]\n",
    "print(\"hi =\")\n",
    "print(h_val, \"\\n\")\n",
    "df1_h = pd.DataFrame(h_val,columns = ['hi'])\n",
    "filter = (df1_h['hi'] > 6 / data_nobs )\n",
    "print(\"Influential Observations by hi = \\n\")\n",
    "print(df1_h['hi'].loc[filter])"
   ]
  },
  {
   "cell_type": "markdown",
   "id": "f939259a-0d3a-43b9-b0cd-69a5be20e80f",
   "metadata": {},
   "source": [
    "Outliers ID: 3, 4<br>\n",
    "No Influential Observations."
   ]
  },
  {
   "cell_type": "markdown",
   "id": "9b694966-c5a8-4d70-90ce-7b43404eb4d5",
   "metadata": {},
   "source": [
    "<h2>(b)"
   ]
  },
  {
   "cell_type": "raw",
   "id": "f12c1563-c646-456f-a156-226f59998135",
   "metadata": {},
   "source": [
    "# Step 5"
   ]
  },
  {
   "cell_type": "markdown",
   "id": "97e7af1c-ad2b-477b-84d3-4ea8bcb1aa1c",
   "metadata": {},
   "source": [
    "Significance Test:<br>\n",
    "Hypothesis Testing about $\\beta_1$:<br>\n",
    "H0:$\\beta_1$ = 0 (No linear relationship.)<br>\n",
    "H1:$\\beta_1 \\neq$ 0 (Linear relationship.)\n",
    "\n",
    "This test in conducted in the chart of OLS Regression Results. <br>\n",
    "According to the chart the t is 1.331, and the p-value is 0.194. <br>\n",
    "Since the p-value > alpha = 0.05, we  do not reject H0. There is no sufficient evidence at alpha = 5% to infer that there are linear relationship between the two variables.\n",
    "There isn't a linear relationship between the amount of fertilizer and the crop yield."
   ]
  },
  {
   "cell_type": "markdown",
   "id": "291707b6-16ca-4a1c-ad80-4983c638998f",
   "metadata": {},
   "source": [
    "<h2>(c)"
   ]
  },
  {
   "cell_type": "code",
   "execution_count": 21,
   "id": "6186fb13-f32d-48eb-802f-5082e630dec2",
   "metadata": {},
   "outputs": [
    {
     "name": "stdout",
     "output_type": "stream",
     "text": [
      "SSR =  142640.93333333335\n",
      "R2 =  0.05952603868594697\n"
     ]
    }
   ],
   "source": [
    "SSR = df1_result1.ssr\n",
    "R2 = df1_result1.rsquared\n",
    "print(\"SSR = \", SSR)\n",
    "print(\"R2 = \", R2)"
   ]
  },
  {
   "cell_type": "markdown",
   "id": "d5603c06-60d8-4fe5-bab2-27501db677ae",
   "metadata": {},
   "source": [
    "Coefficient of determination = 0.05952603868594697<br>\n",
    "Interpretation: About 6% of the variation in Yield is explained by the variation in Fertilizer.  The rest (94%) remains unexplained by this model."
   ]
  },
  {
   "cell_type": "markdown",
   "id": "42864ff2-f39e-4046-9fa5-f8dc677e1f1c",
   "metadata": {},
   "source": [
    "<h2>(d)"
   ]
  },
  {
   "cell_type": "code",
   "execution_count": 22,
   "id": "2a4ea0cb-7902-47b3-a803-6633551bc4d6",
   "metadata": {},
   "outputs": [
    {
     "name": "stdout",
     "output_type": "stream",
     "text": [
      "MSE:  5094.319047619048\n",
      "Standard errors:  71.37449858050877\n",
      "The sample mean of the dependent variable:  318.6\n"
     ]
    }
   ],
   "source": [
    "s2_e = df1_result1.mse_resid\n",
    "print('MSE: ', s2_e)\n",
    "s_e = df1_result1.mse_resid ** 0.5\n",
    "print('Standard errors: ', s_e)\n",
    "print(\"The sample mean of the dependent variable: \", df1['Yield'].mean())"
   ]
  },
  {
   "cell_type": "markdown",
   "id": "63072d28-a287-4e7b-a903-6e745f9b0603",
   "metadata": {},
   "source": [
    "The standard errors (71.37449858050877) are smaller (but not significant) than the sample mean of the dependent variable (318.6), the model may be okay."
   ]
  },
  {
   "cell_type": "markdown",
   "id": "eccb9b64-1df2-4e00-99fb-4d6ae2a094f9",
   "metadata": {},
   "source": [
    "Since the tests in (b), (c) and (d) suggested that there isn't a strong linear relationship between Yield and Fertilizer, the prediction may not be too accurate."
   ]
  },
  {
   "cell_type": "code",
   "execution_count": 23,
   "id": "00844ff7-4887-4ef8-99e5-49bf4cd58ed0",
   "metadata": {},
   "outputs": [
    {
     "name": "stdout",
     "output_type": "stream",
     "text": [
      "make CI and PI predictions at mean of x =  300\n",
      "y_head =  318.6000000000002\n",
      "Confidence interval for mean: [291.9069, 345.2931]\n",
      "    or 318.6000  +- 26.6931\n",
      "Prediction interval = [169.9792, 467.2208] \n",
      "    or 318.6000  +- 148.6208\n",
      "[291.90691778 345.29308222 169.97920806 467.22079194]\n"
     ]
    },
    {
     "name": "stderr",
     "output_type": "stream",
     "text": [
      "/Users/liuweien/opt/anaconda3/lib/python3.9/site-packages/statsmodels/tsa/tsatools.py:142: FutureWarning: In a future version of pandas all arguments of concat except for the argument 'objs' will be keyword-only\n",
      "  x = pd.concat(x[::order], 1)\n"
     ]
    }
   ],
   "source": [
    "#Step 7\n",
    "def CI_PI_simple_regression(x, y, x1, a):\n",
    "    x_new = np.array([1, x1])\n",
    "    print(\"make CI and PI predictions at mean of x = \", x1)\n",
    "    X2 = sm.add_constant(x)\n",
    "    olsmod = sm.OLS(y, X2)\n",
    "    result_reg = olsmod.fit()\n",
    "    y_head = np.dot(result_reg.params, x_new)\n",
    "    print(\"y_head = \", y_head)\n",
    "    (t_minus, t_plus) = stats.t.interval(alpha = (1.0 - a), df = result_reg.df_resid )\n",
    "    cov_mat1 = np.cov(y, x)\n",
    "    x_bar = x.mean()\n",
    "    core1 = (1 / result_reg.nobs + \n",
    "         (x1 - x_bar) ** 2 / (result_reg.nobs - 1) / cov_mat1[1,1] ) ** 0.5\n",
    "    core2 = (1 + 1 / result_reg.nobs + \n",
    "         (x1 - x_bar) ** 2 / (result_reg.nobs - 1) / cov_mat1[1,1] ) ** 0.5\n",
    "    lower_bound = y_head + t_minus * (result_reg.mse_resid ** 0.5) * core1\n",
    "    upper_bound = y_head + t_plus * (result_reg.mse_resid ** 0.5) * core1\n",
    "    half_interval = t_plus * (result_reg.mse_resid ** 0.5) * core1\n",
    "    lower_bound2 = y_head + t_minus * (result_reg.mse_resid ** 0.5) * core2\n",
    "    upper_bound2 = y_head + t_plus * (result_reg.mse_resid ** 0.5) * core2\n",
    "    half_interval2 = t_plus * (result_reg.mse_resid ** 0.5) * core2\n",
    "    print(\"Confidence interval for mean: [%0.4f, %0.4f]\" % (lower_bound, upper_bound))\n",
    "    print(\"    or %0.4f  +- %0.4f\" % (y_head, half_interval))\n",
    "    print(\"Prediction interval = [%0.4f, %0.4f] \" % (lower_bound2, upper_bound2))\n",
    "    print(\"    or %0.4f  +- %0.4f\" % (y_head, half_interval2))\n",
    "    CI_PI = np.array([lower_bound, upper_bound, lower_bound2, upper_bound2])\n",
    "    return CI_PI\n",
    "\n",
    "CI_PI_result = CI_PI_simple_regression(df1['Fetilizer'], df1['Yield'], 300, 0.05)\n",
    "print(CI_PI_result)"
   ]
  },
  {
   "cell_type": "markdown",
   "id": "fcccf68a-3dfc-4da9-b9c5-551b19a9f49c",
   "metadata": {},
   "source": [
    "There is 95% chance that the interval [291.9069, 345.2931] will cover the real number of Yeild when the Fertilizer is 300."
   ]
  },
  {
   "cell_type": "markdown",
   "id": "8a3234bd-ff69-4d6d-ab00-69f89563679a",
   "metadata": {},
   "source": [
    "<h2>17.1"
   ]
  },
  {
   "cell_type": "code",
   "execution_count": 24,
   "id": "5a94aa90-6791-4262-862a-8831a537d9dd",
   "metadata": {},
   "outputs": [
    {
     "name": "stdout",
     "output_type": "stream",
     "text": [
      "Head of dataset:\n"
     ]
    },
    {
     "data": {
      "text/html": [
       "<div>\n",
       "<style scoped>\n",
       "    .dataframe tbody tr th:only-of-type {\n",
       "        vertical-align: middle;\n",
       "    }\n",
       "\n",
       "    .dataframe tbody tr th {\n",
       "        vertical-align: top;\n",
       "    }\n",
       "\n",
       "    .dataframe thead th {\n",
       "        text-align: right;\n",
       "    }\n",
       "</style>\n",
       "<table border=\"1\" class=\"dataframe\">\n",
       "  <thead>\n",
       "    <tr style=\"text-align: right;\">\n",
       "      <th></th>\n",
       "      <th>Price</th>\n",
       "      <th>Lot size</th>\n",
       "      <th>Trees</th>\n",
       "      <th>Distance</th>\n",
       "    </tr>\n",
       "  </thead>\n",
       "  <tbody>\n",
       "    <tr>\n",
       "      <th>0</th>\n",
       "      <td>105.4</td>\n",
       "      <td>41.2</td>\n",
       "      <td>24</td>\n",
       "      <td>42</td>\n",
       "    </tr>\n",
       "    <tr>\n",
       "      <th>1</th>\n",
       "      <td>91.2</td>\n",
       "      <td>44.8</td>\n",
       "      <td>5</td>\n",
       "      <td>71</td>\n",
       "    </tr>\n",
       "    <tr>\n",
       "      <th>2</th>\n",
       "      <td>183.3</td>\n",
       "      <td>21.3</td>\n",
       "      <td>72</td>\n",
       "      <td>43</td>\n",
       "    </tr>\n",
       "    <tr>\n",
       "      <th>3</th>\n",
       "      <td>93.8</td>\n",
       "      <td>43.9</td>\n",
       "      <td>58</td>\n",
       "      <td>14</td>\n",
       "    </tr>\n",
       "    <tr>\n",
       "      <th>4</th>\n",
       "      <td>207.5</td>\n",
       "      <td>57.7</td>\n",
       "      <td>52</td>\n",
       "      <td>12</td>\n",
       "    </tr>\n",
       "  </tbody>\n",
       "</table>\n",
       "</div>"
      ],
      "text/plain": [
       "   Price  Lot size  Trees  Distance\n",
       "0  105.4      41.2     24        42\n",
       "1   91.2      44.8      5        71\n",
       "2  183.3      21.3     72        43\n",
       "3   93.8      43.9     58        14\n",
       "4  207.5      57.7     52        12"
      ]
     },
     "metadata": {},
     "output_type": "display_data"
    },
    {
     "name": "stdout",
     "output_type": "stream",
     "text": [
      "Tail of dataset:\n"
     ]
    },
    {
     "data": {
      "text/html": [
       "<div>\n",
       "<style scoped>\n",
       "    .dataframe tbody tr th:only-of-type {\n",
       "        vertical-align: middle;\n",
       "    }\n",
       "\n",
       "    .dataframe tbody tr th {\n",
       "        vertical-align: top;\n",
       "    }\n",
       "\n",
       "    .dataframe thead th {\n",
       "        text-align: right;\n",
       "    }\n",
       "</style>\n",
       "<table border=\"1\" class=\"dataframe\">\n",
       "  <thead>\n",
       "    <tr style=\"text-align: right;\">\n",
       "      <th></th>\n",
       "      <th>Price</th>\n",
       "      <th>Lot size</th>\n",
       "      <th>Trees</th>\n",
       "      <th>Distance</th>\n",
       "    </tr>\n",
       "  </thead>\n",
       "  <tbody>\n",
       "    <tr>\n",
       "      <th>55</th>\n",
       "      <td>27.9</td>\n",
       "      <td>40.0</td>\n",
       "      <td>52</td>\n",
       "      <td>84</td>\n",
       "    </tr>\n",
       "    <tr>\n",
       "      <th>56</th>\n",
       "      <td>103.5</td>\n",
       "      <td>46.6</td>\n",
       "      <td>26</td>\n",
       "      <td>70</td>\n",
       "    </tr>\n",
       "    <tr>\n",
       "      <th>57</th>\n",
       "      <td>107.0</td>\n",
       "      <td>23.2</td>\n",
       "      <td>11</td>\n",
       "      <td>83</td>\n",
       "    </tr>\n",
       "    <tr>\n",
       "      <th>58</th>\n",
       "      <td>51.6</td>\n",
       "      <td>46.4</td>\n",
       "      <td>53</td>\n",
       "      <td>44</td>\n",
       "    </tr>\n",
       "    <tr>\n",
       "      <th>59</th>\n",
       "      <td>133.4</td>\n",
       "      <td>32.1</td>\n",
       "      <td>55</td>\n",
       "      <td>98</td>\n",
       "    </tr>\n",
       "  </tbody>\n",
       "</table>\n",
       "</div>"
      ],
      "text/plain": [
       "    Price  Lot size  Trees  Distance\n",
       "55   27.9      40.0     52        84\n",
       "56  103.5      46.6     26        70\n",
       "57  107.0      23.2     11        83\n",
       "58   51.6      46.4     53        44\n",
       "59  133.4      32.1     55        98"
      ]
     },
     "metadata": {},
     "output_type": "display_data"
    }
   ],
   "source": [
    "#讀取資料集\n",
    "df1 = pd.read_excel('Xr17-01.xlsx')\n",
    "\n",
    "print('Head of dataset:')\n",
    "display(df1.head())\n",
    "print(\"Tail of dataset:\")\n",
    "display(df1.tail())"
   ]
  },
  {
   "cell_type": "code",
   "execution_count": 25,
   "id": "be7e842e-57e8-4d7d-9704-174a450fcf00",
   "metadata": {},
   "outputs": [
    {
     "data": {
      "image/png": "[encoded data removed]",
      "text/plain": [
       "<Figure size 600x400 with 1 Axes>"
      ]
     },
     "metadata": {
      "needs_background": "light"
     },
     "output_type": "display_data"
    },
    {
     "data": {
      "image/png": "[encoded data removed]",
      "text/plain": [
       "<Figure size 600x400 with 1 Axes>"
      ]
     },
     "metadata": {
      "needs_background": "light"
     },
     "output_type": "display_data"
    },
    {
     "data": {
      "image/png": "[encoded data removed]",
      "text/plain": [
       "<Figure size 600x400 with 1 Axes>"
      ]
     },
     "metadata": {
      "needs_background": "light"
     },
     "output_type": "display_data"
    },
    {
     "data": {
      "image/png": "[encoded data removed]",
      "text/plain": [
       "<Figure size 600x400 with 2 Axes>"
      ]
     },
     "metadata": {
      "needs_background": "light"
     },
     "output_type": "display_data"
    }
   ],
   "source": [
    "#Scatter Plots\n",
    "y_var = df1['Price'].values\n",
    "xnames = ['Lot size', 'Trees', 'Distance']\n",
    "for aname in xnames:\n",
    "    x_var = df1[aname].values\n",
    "    _ = sns.regplot(x = x_var, y = y_var, data = df1, color = 'b', ci = None)\n",
    "    #_ = plt.plot(x, y, 'o', color = 'b')\n",
    "    plt.xlabel(aname)\n",
    "    plt.ylabel('Price')\n",
    "    plt.show()\n",
    "    \n",
    "# Coefficient of Correlation\n",
    "df1_2 = df1[['Price', 'Lot size', 'Trees', 'Distance']]\n",
    "corr1 = df1_2.corr()\n",
    "corr1\n",
    "_ = sns.heatmap(corr1, annot=True)"
   ]
  },
  {
   "cell_type": "markdown",
   "id": "6ea673a4-e1c9-4ef7-bd3d-2f798bc1b6cf",
   "metadata": {},
   "source": [
    "<h2>(a)"
   ]
  },
  {
   "cell_type": "code",
   "execution_count": 26,
   "id": "60bd8199-a48c-407d-85eb-093aa8a39c88",
   "metadata": {},
   "outputs": [
    {
     "name": "stdout",
     "output_type": "stream",
     "text": [
      "                            OLS Regression Results                            \n",
      "==============================================================================\n",
      "Dep. Variable:                  Price   R-squared:                       0.242\n",
      "Model:                            OLS   Adj. R-squared:                  0.202\n",
      "Method:                 Least Squares   F-statistic:                     5.975\n",
      "Date:                Wed, 27 Apr 2022   Prob (F-statistic):            0.00132\n",
      "Time:                        10:07:53   Log-Likelihood:                -304.76\n",
      "No. Observations:                  60   AIC:                             617.5\n",
      "Df Residuals:                      56   BIC:                             625.9\n",
      "Df Model:                           3                                         \n",
      "Covariance Type:            nonrobust                                         \n",
      "==============================================================================\n",
      "                 coef    std err          t      P>|t|      [0.025      0.975]\n",
      "------------------------------------------------------------------------------\n",
      "const         51.3912     23.517      2.185      0.033       4.282      98.500\n",
      "Lot size       0.6999      0.559      1.252      0.216      -0.420       1.819\n",
      "Trees          0.6788      0.229      2.960      0.004       0.219       1.138\n",
      "Distance      -0.3784      0.195     -1.938      0.058      -0.769       0.013\n",
      "==============================================================================\n",
      "Omnibus:                        3.807   Durbin-Watson:                   2.175\n",
      "Prob(Omnibus):                  0.149   Jarque-Bera (JB):                2.258\n",
      "Skew:                           0.245   Prob(JB):                        0.323\n",
      "Kurtosis:                       2.186   Cond. No.                         350.\n",
      "==============================================================================\n",
      "\n",
      "Notes:\n",
      "[1] Standard Errors assume that the covariance matrix of the errors is correctly specified.\n"
     ]
    },
    {
     "name": "stderr",
     "output_type": "stream",
     "text": [
      "/Users/liuweien/opt/anaconda3/lib/python3.9/site-packages/statsmodels/tsa/tsatools.py:142: FutureWarning: In a future version of pandas all arguments of concat except for the argument 'objs' will be keyword-only\n",
      "  x = pd.concat(x[::order], 1)\n"
     ]
    }
   ],
   "source": [
    "y_data = df1['Price']\n",
    "X_data_ar = np.array([df1['Lot size'], df1['Trees'], df1['Distance']])\n",
    "X_data_T = X_data_ar.T\n",
    "X_data = pd.DataFrame(X_data_T,columns = ['Lot size', 'Trees', 'Distance'])\n",
    "X_data2 = sm.add_constant(X_data)\n",
    "olsmod = sm.OLS(y_data, X_data2)\n",
    "result_reg = olsmod.fit()\n",
    "print(result_reg.summary())"
   ]
  },
  {
   "cell_type": "markdown",
   "id": "e2d58921-2d21-4c04-8ca1-18aa3449faee",
   "metadata": {},
   "source": [
    "Regression equation:<br>\n",
    "$Price = 0.6999 Lot size + 0.6788 Trees - 0.3784 Distance + 51.3912$<br>"
   ]
  },
  {
   "cell_type": "markdown",
   "id": "5fe096a4-0664-45cf-9704-5c5dac0d713a",
   "metadata": {},
   "source": [
    "<h2>(b)"
   ]
  },
  {
   "cell_type": "code",
   "execution_count": 27,
   "id": "7ab802b3-02c4-414c-9bb8-edbf53f066ab",
   "metadata": {},
   "outputs": [
    {
     "name": "stdout",
     "output_type": "stream",
     "text": [
      "standard error =  40.24352944532851\n",
      "mean of y 86.7133333333333\n",
      "std of y 45.04687752931654\n"
     ]
    }
   ],
   "source": [
    "# standard error of estimate\n",
    "print(\"standard error = \", result_reg.mse_resid ** 0.5)\n",
    "\n",
    "print(\"mean of y\", df1['Price'].mean())\n",
    "print(\"std of y\", df1['Price'].std())"
   ]
  },
  {
   "cell_type": "markdown",
   "id": "93155ed5-ed59-446f-8ab2-e6f5c31447f6",
   "metadata": {},
   "source": [
    "The standard error of estimate is 40.24352944532851.<br>\n",
    "It seems that se is small compared to mean of y. We can conclude the model fits the data well."
   ]
  },
  {
   "cell_type": "markdown",
   "id": "baa5126e-86a7-4835-a6ff-9bb2418ab2bc",
   "metadata": {},
   "source": [
    "<h2>(c)"
   ]
  },
  {
   "cell_type": "markdown",
   "id": "96a6ac60-2365-459b-9202-d18f81aee43d",
   "metadata": {},
   "source": [
    "According to the OLS Regression Results:<br>\n",
    "The coefficient of determination is 0.242.<br>\n",
    "24.2% of the variation in price is explained by this regression line of the three independent variables and 75.8% remains unexplained."
   ]
  },
  {
   "cell_type": "markdown",
   "id": "3400a893-7853-469f-8e93-fdc56cfbc793",
   "metadata": {},
   "source": [
    "<h2>(d)"
   ]
  },
  {
   "cell_type": "markdown",
   "id": "9bec50e0-7f21-4b72-9026-1ef05eaac278",
   "metadata": {},
   "source": [
    "According to the OLS Regression Results:<br>\n",
    "The coefficient of determination, adjusted for degrees of freedom is 0.202.<br>\n",
    "This value differ from the coefficient of determination, because it takes into account of the sample size and number of independent variables.<br>\n",
    "The adjusted coefficient of determination is 0.202 is close to 0.242 (<= 0.06) even though 3 independent variables are included in the model,\n",
    "indicating that the model has no problem of over-fitting."
   ]
  },
  {
   "cell_type": "markdown",
   "id": "bde9f16e-8183-432c-96a9-c161f424f1b3",
   "metadata": {},
   "source": [
    "<h2>(e)"
   ]
  },
  {
   "cell_type": "markdown",
   "id": "3f9e7a9f-0bad-40af-9acd-fefb9a98b927",
   "metadata": {},
   "source": [
    "Hypothesis:<br>\n",
    "H0: b1 = b2 = … = bk = 0<br>\n",
    "H1: At least one bi is not equal to zero."
   ]
  },
  {
   "cell_type": "code",
   "execution_count": 28,
   "id": "333abc35-738b-4e86-8ac4-6635d800e3df",
   "metadata": {},
   "outputs": [
    {
     "name": "stdout",
     "output_type": "stream",
     "text": [
      "F value =  5.974883085016509\n",
      "SSR =  29029.71624918004 df =  3.0 MSR =  9676.572083060013\n",
      "SSE =  90694.3330841533 df =  56.0 MSE =  1619.5416622170233\n",
      "F =  5.974883085016509\n",
      "F test =  <F test: F=array([[5.97488309]]), p=0.001315371250554977, df_denom=56, df_num=3>\n"
     ]
    }
   ],
   "source": [
    "# ANOVA test\n",
    "f_res = result_reg.fvalue\n",
    "print(\"F value = \", f_res)\n",
    "MSE = result_reg.mse_resid\n",
    "df_model = result_reg.df_model\n",
    "df_error = result_reg.df_resid\n",
    "MSR = f_res * MSE\n",
    "SSR = MSR * df_model\n",
    "print(\"SSR = \", SSR, \"df = \", df_model, \"MSR = \", MSR)\n",
    "print(\"SSE = \", MSE * df_error, \"df = \", df_error, \"MSE = \", MSE)\n",
    "print(\"F = \", MSR / MSE)\n",
    "A = np.identity(len(result_reg.params))\n",
    "A = A[1:,:]\n",
    "print(\"F test = \", result_reg.f_test(A))"
   ]
  },
  {
   "cell_type": "markdown",
   "id": "893f9b0d-75a4-487d-ba6e-2f97a098a9b2",
   "metadata": {},
   "source": [
    "The p-value = 0.001315371250554977 < 0.05, the null hypothesis is rejected. Thus, at least one independent variable is related to y. This regression model is valid."
   ]
  },
  {
   "cell_type": "markdown",
   "id": "beff1d7f-eeb8-473c-ab20-5d70cf8e833d",
   "metadata": {},
   "source": [
    "<h2>(f)"
   ]
  },
  {
   "cell_type": "markdown",
   "id": "237d1074-6453-4834-9d58-5aa1657e54f0",
   "metadata": {},
   "source": [
    "According to the OLS Regression Results:\n",
    "\n",
    "51.3912, is the intercept, the value of y when all the variables take the value zero.\n",
    "Since the data range of all the independent variables do not cover the value zero, do not interpret the intercept.\n",
    "\n",
    "0.6999, for each additional Lot size, the price y increases on the average by 0.6999.\n",
    "\n",
    "0.6788, for each additional Trees, the price y increases on the average by 0.6788.\n",
    "\n",
    "-0.3784 , for each additional Distance, the price y decreases on the average by 0.3784."
   ]
  },
  {
   "cell_type": "markdown",
   "id": "23555f7e-55a9-44f5-8701-591af443ee3a",
   "metadata": {},
   "source": [
    "<h2>(g)"
   ]
  },
  {
   "cell_type": "markdown",
   "id": "a1151f13-dea5-4017-aef8-11c76d39c363",
   "metadata": {},
   "source": [
    "Hypothesis:<br>\n",
    "H0:  bi = 0<br>\n",
    "H1:  bi $\\neq$ 0"
   ]
  },
  {
   "cell_type": "markdown",
   "id": "3388aa4b-5ec6-4015-b4d0-3197d7d7c5c5",
   "metadata": {},
   "source": [
    "According to the OLS Regression Results:<br>\n",
    "Lot size, distance do not reject H0, Trees reject H0. Thus only Trees is linearly related to the price of the lot in this model."
   ]
  },
  {
   "cell_type": "markdown",
   "id": "3e481737-6972-4398-9a5a-6585746a00e5",
   "metadata": {},
   "source": [
    "<h2>(h)"
   ]
  },
  {
   "cell_type": "code",
   "execution_count": 29,
   "id": "ecf0a0ac-4008-46f4-a9c2-b2a257d3d7ca",
   "metadata": {},
   "outputs": [
    {
     "name": "stdout",
     "output_type": "stream",
     "text": [
      "make CI and PI prediction at mean of x =  [ 1 40 50 25]\n",
      "y_head =  103.86903065890239\n",
      "Confidence interval of mean = [91.8599, 115.8782] \n",
      "Prediction interval = [35.4979, 172.2402] \n",
      "[ 91.85990931 115.87815201  35.49789014 172.24017117]\n"
     ]
    }
   ],
   "source": [
    "# Predict and Estimate\n",
    "def CI_PI_regression(xdata, yval, x1, a):\n",
    "    print(\"make CI and PI prediction at mean of x = \", x1)\n",
    "    X_data_T = xdata.T\n",
    "    X_data2 = sm.add_constant(X_data_T)\n",
    "    olsmod = sm.OLS(yval, X_data2)\n",
    "    result_reg = olsmod.fit()\n",
    "    y_head = np.dot(result_reg.params, x1)\n",
    "    print(\"y_head = \", y_head)\n",
    "    (t_minus, t_plus) = stats.t.interval(alpha = (1.0 - a), df = result_reg.df_resid )\n",
    "    core1 = (result_reg.mse_resid * np.matmul(x1, np.linalg.solve(np.matmul(X_data2.T, X_data2), x1))) ** 0.5\n",
    "    lower_bound = y_head +  t_minus * core1\n",
    "    upper_bound = y_head +  t_plus * core1\n",
    "    print(\"Confidence interval of mean = [%0.4f, %0.4f] \" % (lower_bound, upper_bound))\n",
    "    core2 = (result_reg.mse_resid * (1 + np.matmul(x1, np.linalg.solve(np.matmul(X_data2.T, X_data2), x1)))) ** 0.5\n",
    "    lower_bound2 = y_head +  t_minus * core2\n",
    "    upper_bound2 = y_head +  t_plus * core2\n",
    "    print(\"Prediction interval = [%0.4f, %0.4f] \" % (lower_bound2, upper_bound2))\n",
    "    CI_PI = np.array([lower_bound, upper_bound, lower_bound2, upper_bound2])\n",
    "    return CI_PI\n",
    "\n",
    "xg = np.array([1, 40, 50, 25])\n",
    "CI_PI_result = CI_PI_regression(X_data_ar, y_data, xg, 0.1)\n",
    "print(CI_PI_result)"
   ]
  },
  {
   "cell_type": "markdown",
   "id": "7fb8274a-26f2-4ad3-a0f0-9d87cd8388eb",
   "metadata": {},
   "source": [
    "It is predicted, with 90% confidence that the interval [35.4979, 172.2402], covers the selling price."
   ]
  },
  {
   "cell_type": "markdown",
   "id": "ee352cac-8793-4920-b75a-dfbeee5ead7e",
   "metadata": {},
   "source": [
    "<h2>(i)"
   ]
  },
  {
   "cell_type": "code",
   "execution_count": 30,
   "id": "7e690d13-0aa8-4807-8308-ea9f558b558d",
   "metadata": {},
   "outputs": [
    {
     "name": "stdout",
     "output_type": "stream",
     "text": [
      "make CI and PI prediction at mean of x =  [ 1 50 10 75]\n",
      "y_head =  64.7975106804855\n",
      "Confidence interval of mean = [39.2909, 90.3041] \n",
      "Prediction interval = [-7.1815, 136.7765] \n",
      "[ 39.29088536  90.304136    -7.18152651 136.77654787]\n"
     ]
    }
   ],
   "source": [
    "xg = np.array([1, 50, 10, 75])\n",
    "CI_PI_result = CI_PI_regression(X_data_ar, y_data, xg, 0.1)\n",
    "print(CI_PI_result)"
   ]
  },
  {
   "cell_type": "markdown",
   "id": "2a11af63-3771-4341-99b8-9cfd9118b03b",
   "metadata": {},
   "source": [
    "It is estimated, with 90% confidence that the interval [39.2909, 90.3041], covers the selling price."
   ]
  },
  {
   "cell_type": "markdown",
   "id": "ac566df5-1cd1-4f33-b0be-e39ba3d99b4d",
   "metadata": {},
   "source": [
    "<h2> 17.9"
   ]
  },
  {
   "cell_type": "code",
   "execution_count": 31,
   "id": "1353591b-2e29-411e-81a0-faa042ead31d",
   "metadata": {},
   "outputs": [
    {
     "name": "stdout",
     "output_type": "stream",
     "text": [
      "Head of dataset:\n"
     ]
    },
    {
     "name": "stderr",
     "output_type": "stream",
     "text": [
      "/Users/liuweien/opt/anaconda3/lib/python3.9/site-packages/openpyxl/worksheet/header_footer.py:48: UserWarning: Cannot parse header or footer so it will be ignored\n",
      "  warn(\"\"\"Cannot parse header or footer so it will be ignored\"\"\")\n"
     ]
    },
    {
     "data": {
      "text/html": [
       "<div>\n",
       "<style scoped>\n",
       "    .dataframe tbody tr th:only-of-type {\n",
       "        vertical-align: middle;\n",
       "    }\n",
       "\n",
       "    .dataframe tbody tr th {\n",
       "        vertical-align: top;\n",
       "    }\n",
       "\n",
       "    .dataframe thead th {\n",
       "        text-align: right;\n",
       "    }\n",
       "</style>\n",
       "<table border=\"1\" class=\"dataframe\">\n",
       "  <thead>\n",
       "    <tr style=\"text-align: right;\">\n",
       "      <th></th>\n",
       "      <th>Test Score</th>\n",
       "      <th>Math Degree</th>\n",
       "      <th>Age</th>\n",
       "      <th>Income</th>\n",
       "    </tr>\n",
       "  </thead>\n",
       "  <tbody>\n",
       "    <tr>\n",
       "      <th>0</th>\n",
       "      <td>73.9</td>\n",
       "      <td>77</td>\n",
       "      <td>52</td>\n",
       "      <td>44.4</td>\n",
       "    </tr>\n",
       "    <tr>\n",
       "      <th>1</th>\n",
       "      <td>59.4</td>\n",
       "      <td>48</td>\n",
       "      <td>32</td>\n",
       "      <td>49.0</td>\n",
       "    </tr>\n",
       "    <tr>\n",
       "      <th>2</th>\n",
       "      <td>64.6</td>\n",
       "      <td>33</td>\n",
       "      <td>50</td>\n",
       "      <td>52.6</td>\n",
       "    </tr>\n",
       "    <tr>\n",
       "      <th>3</th>\n",
       "      <td>59.8</td>\n",
       "      <td>25</td>\n",
       "      <td>43</td>\n",
       "      <td>39.6</td>\n",
       "    </tr>\n",
       "    <tr>\n",
       "      <th>4</th>\n",
       "      <td>58.8</td>\n",
       "      <td>25</td>\n",
       "      <td>40</td>\n",
       "      <td>40.7</td>\n",
       "    </tr>\n",
       "  </tbody>\n",
       "</table>\n",
       "</div>"
      ],
      "text/plain": [
       "   Test Score  Math Degree  Age  Income\n",
       "0        73.9           77   52    44.4\n",
       "1        59.4           48   32    49.0\n",
       "2        64.6           33   50    52.6\n",
       "3        59.8           25   43    39.6\n",
       "4        58.8           25   40    40.7"
      ]
     },
     "metadata": {},
     "output_type": "display_data"
    },
    {
     "name": "stdout",
     "output_type": "stream",
     "text": [
      "Tail of dataset:\n"
     ]
    },
    {
     "data": {
      "text/html": [
       "<div>\n",
       "<style scoped>\n",
       "    .dataframe tbody tr th:only-of-type {\n",
       "        vertical-align: middle;\n",
       "    }\n",
       "\n",
       "    .dataframe tbody tr th {\n",
       "        vertical-align: top;\n",
       "    }\n",
       "\n",
       "    .dataframe thead th {\n",
       "        text-align: right;\n",
       "    }\n",
       "</style>\n",
       "<table border=\"1\" class=\"dataframe\">\n",
       "  <thead>\n",
       "    <tr style=\"text-align: right;\">\n",
       "      <th></th>\n",
       "      <th>Test Score</th>\n",
       "      <th>Math Degree</th>\n",
       "      <th>Age</th>\n",
       "      <th>Income</th>\n",
       "    </tr>\n",
       "  </thead>\n",
       "  <tbody>\n",
       "    <tr>\n",
       "      <th>35</th>\n",
       "      <td>71.7</td>\n",
       "      <td>57</td>\n",
       "      <td>59</td>\n",
       "      <td>55.1</td>\n",
       "    </tr>\n",
       "    <tr>\n",
       "      <th>36</th>\n",
       "      <td>68.8</td>\n",
       "      <td>41</td>\n",
       "      <td>40</td>\n",
       "      <td>33.7</td>\n",
       "    </tr>\n",
       "    <tr>\n",
       "      <th>37</th>\n",
       "      <td>45.0</td>\n",
       "      <td>27</td>\n",
       "      <td>40</td>\n",
       "      <td>19.8</td>\n",
       "    </tr>\n",
       "    <tr>\n",
       "      <th>38</th>\n",
       "      <td>61.9</td>\n",
       "      <td>37</td>\n",
       "      <td>44</td>\n",
       "      <td>48.2</td>\n",
       "    </tr>\n",
       "    <tr>\n",
       "      <th>39</th>\n",
       "      <td>56.0</td>\n",
       "      <td>36</td>\n",
       "      <td>56</td>\n",
       "      <td>55.9</td>\n",
       "    </tr>\n",
       "  </tbody>\n",
       "</table>\n",
       "</div>"
      ],
      "text/plain": [
       "    Test Score  Math Degree  Age  Income\n",
       "35        71.7           57   59    55.1\n",
       "36        68.8           41   40    33.7\n",
       "37        45.0           27   40    19.8\n",
       "38        61.9           37   44    48.2\n",
       "39        56.0           36   56    55.9"
      ]
     },
     "metadata": {},
     "output_type": "display_data"
    }
   ],
   "source": [
    "#讀取資料集\n",
    "df1 = pd.read_excel('Xr17-09.xlsx')\n",
    "\n",
    "print('Head of dataset:')\n",
    "display(df1.head())\n",
    "print(\"Tail of dataset:\")\n",
    "display(df1.tail())"
   ]
  },
  {
   "cell_type": "code",
   "execution_count": 32,
   "id": "67447fcc-499d-4e5a-9fd8-9f30a49e0ddf",
   "metadata": {},
   "outputs": [
    {
     "data": {
      "image/png": "[encoded data removed]",
      "text/plain": [
       "<Figure size 600x400 with 1 Axes>"
      ]
     },
     "metadata": {
      "needs_background": "light"
     },
     "output_type": "display_data"
    },
    {
     "data": {
      "image/png": "[encoded data removed]",
      "text/plain": [
       "<Figure size 600x400 with 1 Axes>"
      ]
     },
     "metadata": {
      "needs_background": "light"
     },
     "output_type": "display_data"
    },
    {
     "data": {
      "image/png": "[encoded data removed]",
      "text/plain": [
       "<Figure size 600x400 with 1 Axes>"
      ]
     },
     "metadata": {
      "needs_background": "light"
     },
     "output_type": "display_data"
    },
    {
     "data": {
      "image/png": "[encoded data removed]",
      "text/plain": [
       "<Figure size 600x400 with 2 Axes>"
      ]
     },
     "metadata": {
      "needs_background": "light"
     },
     "output_type": "display_data"
    }
   ],
   "source": [
    "#Scatter Plots\n",
    "y_var = df1['Test Score'].values\n",
    "xnames = ['Math Degree', 'Age', 'Income']\n",
    "for aname in xnames:\n",
    "    x_var = df1[aname].values\n",
    "    _ = sns.regplot(x = x_var, y = y_var, data = df1, color = 'b', ci = None)\n",
    "    #_ = plt.plot(x, y, 'o', color = 'b')\n",
    "    plt.xlabel(aname)\n",
    "    plt.ylabel('Test Score')\n",
    "    plt.show()\n",
    "    \n",
    "# Coefficient of Correlation\n",
    "df1_2 = df1[['Test Score', 'Math Degree', 'Age', 'Income']]\n",
    "corr1 = df1_2.corr()\n",
    "corr1\n",
    "_ = sns.heatmap(corr1, annot=True)"
   ]
  },
  {
   "cell_type": "markdown",
   "id": "6783f71b-7200-48d1-8175-1858f14149e2",
   "metadata": {},
   "source": [
    "<h2>(a)"
   ]
  },
  {
   "cell_type": "code",
   "execution_count": 33,
   "id": "bfe1cd11-3e23-4573-b430-7b4cb5a3ce0a",
   "metadata": {},
   "outputs": [
    {
     "name": "stdout",
     "output_type": "stream",
     "text": [
      "                            OLS Regression Results                            \n",
      "==============================================================================\n",
      "Dep. Variable:             Test Score   R-squared:                       0.357\n",
      "Model:                            OLS   Adj. R-squared:                  0.303\n",
      "Method:                 Least Squares   F-statistic:                     6.663\n",
      "Date:                Wed, 27 Apr 2022   Prob (F-statistic):            0.00108\n",
      "Time:                        10:07:53   Log-Likelihood:                -136.43\n",
      "No. Observations:                  40   AIC:                             280.9\n",
      "Df Residuals:                      36   BIC:                             287.6\n",
      "Df Model:                           3                                         \n",
      "Covariance Type:            nonrobust                                         \n",
      "===============================================================================\n",
      "                  coef    std err          t      P>|t|      [0.025      0.975]\n",
      "-------------------------------------------------------------------------------\n",
      "const          35.6776      7.279      4.902      0.000      20.915      50.440\n",
      "Math Degree     0.2475      0.070      3.543      0.001       0.106       0.389\n",
      "Age             0.2448      0.185      1.322      0.195      -0.131       0.620\n",
      "Income          0.1333      0.153      0.872      0.389      -0.177       0.443\n",
      "==============================================================================\n",
      "Omnibus:                        1.116   Durbin-Watson:                   1.537\n",
      "Prob(Omnibus):                  0.572   Jarque-Bera (JB):                0.480\n",
      "Skew:                          -0.241   Prob(JB):                        0.787\n",
      "Kurtosis:                       3.236   Cond. No.                         459.\n",
      "==============================================================================\n",
      "\n",
      "Notes:\n",
      "[1] Standard Errors assume that the covariance matrix of the errors is correctly specified.\n"
     ]
    },
    {
     "name": "stderr",
     "output_type": "stream",
     "text": [
      "/Users/liuweien/opt/anaconda3/lib/python3.9/site-packages/statsmodels/tsa/tsatools.py:142: FutureWarning: In a future version of pandas all arguments of concat except for the argument 'objs' will be keyword-only\n",
      "  x = pd.concat(x[::order], 1)\n"
     ]
    }
   ],
   "source": [
    "y_data = df1['Test Score']\n",
    "X_data_ar = np.array([df1['Math Degree'], df1['Age'], df1['Income']])\n",
    "X_data_T = X_data_ar.T\n",
    "X_data = pd.DataFrame(X_data_T,columns = ['Math Degree', 'Age', 'Income'])\n",
    "X_data2 = sm.add_constant(X_data)\n",
    "olsmod = sm.OLS(y_data, X_data2)\n",
    "result_reg = olsmod.fit()\n",
    "print(result_reg.summary())"
   ]
  },
  {
   "cell_type": "markdown",
   "id": "ba347005-248e-44e6-bc65-695ad063e138",
   "metadata": {},
   "source": [
    "Regression equation:<br>\n",
    "$Test Score = 0.2475 Math Degree + 0.2448 Age + 0.1333 Income + 35.6776$<br>"
   ]
  },
  {
   "cell_type": "markdown",
   "id": "3a963065-11e5-4401-a418-5ba606f2a9a1",
   "metadata": {},
   "source": [
    "<h2>(b)"
   ]
  },
  {
   "cell_type": "markdown",
   "id": "456a68d1-61d3-49fd-9085-02ed51886fbb",
   "metadata": {},
   "source": [
    "Hypothesis:<br>\n",
    "H0: b1 = b2 = … = bk = 0<br>\n",
    "H1: At least one bi is not equal to zero."
   ]
  },
  {
   "cell_type": "code",
   "execution_count": 34,
   "id": "67b3916d-5005-4d20-b2fd-2d003fe74dfd",
   "metadata": {},
   "outputs": [
    {
     "name": "stdout",
     "output_type": "stream",
     "text": [
      "F value =  6.663125157435004\n",
      "SSR =  1192.7321051568083 df =  3.0 MSR =  397.57736838560277\n",
      "SSE =  2148.0588948431914 df =  36.0 MSE =  59.66830263453309\n",
      "F =  6.663125157435004\n",
      "F test =  <F test: F=array([[6.66312516]]), p=0.0010769247208052384, df_denom=36, df_num=3>\n"
     ]
    }
   ],
   "source": [
    "# ANOVA test\n",
    "f_res = result_reg.fvalue\n",
    "print(\"F value = \", f_res)\n",
    "MSE = result_reg.mse_resid\n",
    "df_model = result_reg.df_model\n",
    "df_error = result_reg.df_resid\n",
    "MSR = f_res * MSE\n",
    "SSR = MSR * df_model\n",
    "print(\"SSR = \", SSR, \"df = \", df_model, \"MSR = \", MSR)\n",
    "print(\"SSE = \", MSE * df_error, \"df = \", df_error, \"MSE = \", MSE)\n",
    "print(\"F = \", MSR / MSE)\n",
    "A = np.identity(len(result_reg.params))\n",
    "A = A[1:,:]\n",
    "print(\"F test = \", result_reg.f_test(A))"
   ]
  },
  {
   "cell_type": "markdown",
   "id": "7703912e-4b62-4195-8aa5-c7903c5e71b1",
   "metadata": {},
   "source": [
    "The p-value = 0.0010769247208052384 < 0.05, the null hypothesis is rejected. Thus, at least one independent variable is related to y. This regression model is valid."
   ]
  },
  {
   "cell_type": "markdown",
   "id": "74e02e71-3932-4deb-85b5-6a4f52fe7402",
   "metadata": {},
   "source": [
    "<h2>(c)"
   ]
  },
  {
   "cell_type": "markdown",
   "id": "fa670d7d-318d-4d5a-9d2a-f6e94bf9dccb",
   "metadata": {},
   "source": [
    "Interpret:\n",
    "    \n",
    "According to the OLS Regression Results:\n",
    "\n",
    "35.6776, is the intercept, the value of y when all the variables take the value zero.\n",
    "Since the data range of all the independent variables do not cover the value zero, do not interpret the intercept.\n",
    "\n",
    "0.2475, for each additional Math Degree, the Test Score y increases on the average by 0.2475.\n",
    "\n",
    "0.2448, for each additional Age, the Test Score y increases on the average by 0.2448.\n",
    "\n",
    "0.1333 , for each additional Income, the Test Score y increases on the average by 0.1333."
   ]
  },
  {
   "cell_type": "markdown",
   "id": "5b25b771-bc6b-412e-a51a-f5e3e7582ef6",
   "metadata": {},
   "source": [
    "Test:\n",
    "\n",
    "Hypothesis:<br>\n",
    "H0:  bi = 0<br>\n",
    "H1:  bi $\\neq$ 0\n",
    "\n",
    "According to the OLS Regression Results:<br>\n",
    "Age, Income do not reject H0, Math Degree reject H0. Thus, only Math Degree is linearly related to the Test Score in this model."
   ]
  },
  {
   "cell_type": "markdown",
   "id": "0064e9bd-eb22-4ab4-8e2b-00cf990dae77",
   "metadata": {},
   "source": [
    "<h2>(d)"
   ]
  },
  {
   "cell_type": "code",
   "execution_count": 35,
   "id": "0841dbe0-0882-4048-a704-d2f5edb8db26",
   "metadata": {},
   "outputs": [
    {
     "name": "stdout",
     "output_type": "stream",
     "text": [
      "make CI and PI prediction at mean of x =  [ 1.  50.  43.  48.3]\n",
      "y_head =  65.01764418592718\n",
      "Confidence interval of mean = [61.7531, 68.2822] \n",
      "Prediction interval = [49.0151, 81.0202] \n",
      "[61.75312919 68.28215918 49.01506162 81.02022675]\n"
     ]
    }
   ],
   "source": [
    "xg = np.array([1, 50, 43, 48.3])\n",
    "CI_PI_result = CI_PI_regression(X_data_ar, y_data, xg, 0.05)\n",
    "print(CI_PI_result)"
   ]
  },
  {
   "cell_type": "markdown",
   "id": "4cf9bb7a-e0e0-48b2-89f9-5500f90aec2a",
   "metadata": {},
   "source": [
    "It is predicted, with 95% confidence that the interval [49.0151, 81.0202], covers the Test Score."
   ]
  },
  {
   "cell_type": "markdown",
   "id": "05635068-73f4-441a-93ca-ee6e77470161",
   "metadata": {},
   "source": [
    "<h2>17.15"
   ]
  },
  {
   "cell_type": "code",
   "execution_count": 36,
   "id": "62488866-54f0-43d5-bb95-6d78673fb19b",
   "metadata": {},
   "outputs": [
    {
     "name": "stdout",
     "output_type": "stream",
     "text": [
      "Head of dataset:\n"
     ]
    },
    {
     "data": {
      "text/html": [
       "<div>\n",
       "<style scoped>\n",
       "    .dataframe tbody tr th:only-of-type {\n",
       "        vertical-align: middle;\n",
       "    }\n",
       "\n",
       "    .dataframe tbody tr th {\n",
       "        vertical-align: top;\n",
       "    }\n",
       "\n",
       "    .dataframe thead th {\n",
       "        text-align: right;\n",
       "    }\n",
       "</style>\n",
       "<table border=\"1\" class=\"dataframe\">\n",
       "  <thead>\n",
       "    <tr style=\"text-align: right;\">\n",
       "      <th></th>\n",
       "      <th>DEFINITE</th>\n",
       "      <th>AGE</th>\n",
       "      <th>EDUC</th>\n",
       "      <th>INCOME</th>\n",
       "    </tr>\n",
       "  </thead>\n",
       "  <tbody>\n",
       "    <tr>\n",
       "      <th>0</th>\n",
       "      <td>10</td>\n",
       "      <td>34</td>\n",
       "      <td>13</td>\n",
       "      <td>127500</td>\n",
       "    </tr>\n",
       "    <tr>\n",
       "      <th>1</th>\n",
       "      <td>10</td>\n",
       "      <td>58</td>\n",
       "      <td>12</td>\n",
       "      <td>16000</td>\n",
       "    </tr>\n",
       "    <tr>\n",
       "      <th>2</th>\n",
       "      <td>10</td>\n",
       "      <td>39</td>\n",
       "      <td>16</td>\n",
       "      <td>32500</td>\n",
       "    </tr>\n",
       "    <tr>\n",
       "      <th>3</th>\n",
       "      <td>5</td>\n",
       "      <td>49</td>\n",
       "      <td>12</td>\n",
       "      <td>23500</td>\n",
       "    </tr>\n",
       "    <tr>\n",
       "      <th>4</th>\n",
       "      <td>10</td>\n",
       "      <td>72</td>\n",
       "      <td>16</td>\n",
       "      <td>82500</td>\n",
       "    </tr>\n",
       "  </tbody>\n",
       "</table>\n",
       "</div>"
      ],
      "text/plain": [
       "   DEFINITE  AGE  EDUC  INCOME\n",
       "0        10   34    13  127500\n",
       "1        10   58    12   16000\n",
       "2        10   39    16   32500\n",
       "3         5   49    12   23500\n",
       "4        10   72    16   82500"
      ]
     },
     "metadata": {},
     "output_type": "display_data"
    },
    {
     "name": "stdout",
     "output_type": "stream",
     "text": [
      "Tail of dataset:\n"
     ]
    },
    {
     "data": {
      "text/html": [
       "<div>\n",
       "<style scoped>\n",
       "    .dataframe tbody tr th:only-of-type {\n",
       "        vertical-align: middle;\n",
       "    }\n",
       "\n",
       "    .dataframe tbody tr th {\n",
       "        vertical-align: top;\n",
       "    }\n",
       "\n",
       "    .dataframe thead th {\n",
       "        text-align: right;\n",
       "    }\n",
       "</style>\n",
       "<table border=\"1\" class=\"dataframe\">\n",
       "  <thead>\n",
       "    <tr style=\"text-align: right;\">\n",
       "      <th></th>\n",
       "      <th>DEFINITE</th>\n",
       "      <th>AGE</th>\n",
       "      <th>EDUC</th>\n",
       "      <th>INCOME</th>\n",
       "    </tr>\n",
       "  </thead>\n",
       "  <tbody>\n",
       "    <tr>\n",
       "      <th>1657</th>\n",
       "      <td>6</td>\n",
       "      <td>33</td>\n",
       "      <td>12</td>\n",
       "      <td>27500</td>\n",
       "    </tr>\n",
       "    <tr>\n",
       "      <th>1658</th>\n",
       "      <td>2</td>\n",
       "      <td>28</td>\n",
       "      <td>12</td>\n",
       "      <td>8750</td>\n",
       "    </tr>\n",
       "    <tr>\n",
       "      <th>1659</th>\n",
       "      <td>8</td>\n",
       "      <td>39</td>\n",
       "      <td>13</td>\n",
       "      <td>42500</td>\n",
       "    </tr>\n",
       "    <tr>\n",
       "      <th>1660</th>\n",
       "      <td>8</td>\n",
       "      <td>64</td>\n",
       "      <td>12</td>\n",
       "      <td>175000</td>\n",
       "    </tr>\n",
       "    <tr>\n",
       "      <th>1661</th>\n",
       "      <td>1</td>\n",
       "      <td>34</td>\n",
       "      <td>10</td>\n",
       "      <td>1500</td>\n",
       "    </tr>\n",
       "  </tbody>\n",
       "</table>\n",
       "</div>"
      ],
      "text/plain": [
       "      DEFINITE  AGE  EDUC  INCOME\n",
       "1657         6   33    12   27500\n",
       "1658         2   28    12    8750\n",
       "1659         8   39    13   42500\n",
       "1660         8   64    12  175000\n",
       "1661         1   34    10    1500"
      ]
     },
     "metadata": {},
     "output_type": "display_data"
    }
   ],
   "source": [
    "#讀取資料集\n",
    "df1 = pd.read_excel('Xr17-15.xlsx')\n",
    "\n",
    "#df1.loc[df1[\"DEFINITE\"] > 1, \"DEFINITE\"] = 0\n",
    "\n",
    "print('Head of dataset:')\n",
    "display(df1.head())\n",
    "print(\"Tail of dataset:\")\n",
    "display(df1.tail())"
   ]
  },
  {
   "cell_type": "code",
   "execution_count": 37,
   "id": "63a47c25-47f6-4718-b63e-1aaa674255c3",
   "metadata": {},
   "outputs": [
    {
     "data": {
      "image/png": "[encoded data removed]",
      "text/plain": [
       "<Figure size 600x400 with 1 Axes>"
      ]
     },
     "metadata": {
      "needs_background": "light"
     },
     "output_type": "display_data"
    },
    {
     "data": {
      "image/png": "[encoded data removed]",
      "text/plain": [
       "<Figure size 600x400 with 1 Axes>"
      ]
     },
     "metadata": {
      "needs_background": "light"
     },
     "output_type": "display_data"
    },
    {
     "data": {
      "image/png": "[encoded data removed]",
      "text/plain": [
       "<Figure size 600x400 with 1 Axes>"
      ]
     },
     "metadata": {
      "needs_background": "light"
     },
     "output_type": "display_data"
    },
    {
     "data": {
      "image/png": "[encoded data removed]",
      "text/plain": [
       "<Figure size 600x400 with 2 Axes>"
      ]
     },
     "metadata": {
      "needs_background": "light"
     },
     "output_type": "display_data"
    }
   ],
   "source": [
    "#Scatter Plots\n",
    "y_var = df1['DEFINITE'].values\n",
    "xnames = ['AGE', 'EDUC', 'INCOME']\n",
    "for aname in xnames:\n",
    "    x_var = df1[aname].values\n",
    "    _ = sns.regplot(x = x_var, y = y_var, data = df1, color = 'b', ci = None)\n",
    "    #_ = plt.plot(x, y, 'o', color = 'b')\n",
    "    plt.xlabel(aname)\n",
    "    plt.ylabel('DEFINITE')\n",
    "    plt.show()\n",
    "    \n",
    "# Coefficient of Correlation\n",
    "df1_2 = df1[['DEFINITE', 'AGE', 'EDUC', 'INCOME']]\n",
    "corr1 = df1_2.corr()\n",
    "corr1\n",
    "_ = sns.heatmap(corr1, annot=True)"
   ]
  },
  {
   "cell_type": "markdown",
   "id": "01c3470b-f712-462e-a3ca-fc19ce5ed233",
   "metadata": {},
   "source": [
    "<h2>(a)"
   ]
  },
  {
   "cell_type": "code",
   "execution_count": 38,
   "id": "548d4131-52e8-490c-a3ed-a8a84b759880",
   "metadata": {},
   "outputs": [
    {
     "name": "stdout",
     "output_type": "stream",
     "text": [
      "                            OLS Regression Results                            \n",
      "==============================================================================\n",
      "Dep. Variable:               DEFINITE   R-squared:                       0.070\n",
      "Model:                            OLS   Adj. R-squared:                  0.069\n",
      "Method:                 Least Squares   F-statistic:                     41.92\n",
      "Date:                Wed, 27 Apr 2022   Prob (F-statistic):           4.15e-26\n",
      "Time:                        10:07:54   Log-Likelihood:                -4116.4\n",
      "No. Observations:                1662   AIC:                             8241.\n",
      "Df Residuals:                    1658   BIC:                             8263.\n",
      "Df Model:                           3                                         \n",
      "Covariance Type:            nonrobust                                         \n",
      "==============================================================================\n",
      "                 coef    std err          t      P>|t|      [0.025      0.975]\n",
      "------------------------------------------------------------------------------\n",
      "const          3.0230      0.461      6.553      0.000       2.118       3.928\n",
      "AGE            0.0289      0.004      6.930      0.000       0.021       0.037\n",
      "EDUC           0.2461      0.031      8.068      0.000       0.186       0.306\n",
      "INCOME      3.745e-06   2.18e-06      1.719      0.086   -5.28e-07    8.02e-06\n",
      "==============================================================================\n",
      "Omnibus:                      248.030   Durbin-Watson:                   1.875\n",
      "Prob(Omnibus):                  0.000   Jarque-Bera (JB):              368.770\n",
      "Skew:                          -1.142   Prob(JB):                     8.37e-81\n",
      "Kurtosis:                       3.335   Cond. No.                     3.24e+05\n",
      "==============================================================================\n",
      "\n",
      "Notes:\n",
      "[1] Standard Errors assume that the covariance matrix of the errors is correctly specified.\n",
      "[2] The condition number is large, 3.24e+05. This might indicate that there are\n",
      "strong multicollinearity or other numerical problems.\n"
     ]
    },
    {
     "name": "stderr",
     "output_type": "stream",
     "text": [
      "/Users/liuweien/opt/anaconda3/lib/python3.9/site-packages/statsmodels/tsa/tsatools.py:142: FutureWarning: In a future version of pandas all arguments of concat except for the argument 'objs' will be keyword-only\n",
      "  x = pd.concat(x[::order], 1)\n"
     ]
    }
   ],
   "source": [
    "y_data = df1['DEFINITE']\n",
    "X_data_ar = np.array([df1['AGE'], df1['EDUC'], df1['INCOME']])\n",
    "X_data_T = X_data_ar.T\n",
    "X_data = pd.DataFrame(X_data_T,columns = ['AGE', 'EDUC', 'INCOME'])\n",
    "X_data2 = sm.add_constant(X_data)\n",
    "olsmod = sm.OLS(y_data, X_data2)\n",
    "result_reg = olsmod.fit()\n",
    "print(result_reg.summary())"
   ]
  },
  {
   "cell_type": "markdown",
   "id": "9895a45d-e3bc-4b30-927e-4a405e5a919d",
   "metadata": {},
   "source": [
    "Regression equation:<br>\n",
    "$DEFINITE = 0.0289 AGE + 0.2461 EDUC + 3.745e-06 INCOME + 3.0230$<br>"
   ]
  },
  {
   "cell_type": "markdown",
   "id": "13364535-2300-460e-aed6-b0b65ec10488",
   "metadata": {},
   "source": [
    "<h2>(b)"
   ]
  },
  {
   "cell_type": "markdown",
   "id": "2d09fd5e-8105-4d63-801d-1d58eb08ee93",
   "metadata": {},
   "source": [
    "Hypothesis:<br>\n",
    "H0: b1 = b2 = … = bk = 0<br>\n",
    "H1: At least one bi is not equal to zero."
   ]
  },
  {
   "cell_type": "code",
   "execution_count": 39,
   "id": "085869a6-bf00-4f3e-8f5e-052bbb846893",
   "metadata": {},
   "outputs": [
    {
     "name": "stdout",
     "output_type": "stream",
     "text": [
      "F value =  41.9182008328677\n",
      "SSR =  1045.711525713832 df =  3.0 MSR =  348.57050857127734\n",
      "SSE =  13787.087511590622 df =  1658.0 MSE =  8.315493070923173\n",
      "F =  41.9182008328677\n",
      "F test =  <F test: F=array([[41.91820083]]), p=4.1514619156506137e-26, df_denom=1.66e+03, df_num=3>\n"
     ]
    }
   ],
   "source": [
    "# ANOVA test\n",
    "f_res = result_reg.fvalue\n",
    "print(\"F value = \", f_res)\n",
    "MSE = result_reg.mse_resid\n",
    "df_model = result_reg.df_model\n",
    "df_error = result_reg.df_resid\n",
    "MSR = f_res * MSE\n",
    "SSR = MSR * df_model\n",
    "print(\"SSR = \", SSR, \"df = \", df_model, \"MSR = \", MSR)\n",
    "print(\"SSE = \", MSE * df_error, \"df = \", df_error, \"MSE = \", MSE)\n",
    "print(\"F = \", MSR / MSE)\n",
    "A = np.identity(len(result_reg.params))\n",
    "A = A[1:,:]\n",
    "print(\"F test = \", result_reg.f_test(A))"
   ]
  },
  {
   "cell_type": "markdown",
   "id": "b21efb76-b173-453a-ba46-67fd4f87dfcf",
   "metadata": {},
   "source": [
    "The p-value = 4.1514619156506137e-26 < 0.05, the null hypothesis is rejected. Thus, at least one independent variable is related to y. This regression model is valid."
   ]
  },
  {
   "cell_type": "markdown",
   "id": "ce14af17-0fd4-4cf0-83f6-065e82ff1f5a",
   "metadata": {},
   "source": [
    "<h2>(c)"
   ]
  },
  {
   "cell_type": "markdown",
   "id": "e22135c2-6b30-4764-b66d-19bb49623210",
   "metadata": {},
   "source": [
    "According to the OLS Regression Results:<br>\n",
    "Income do not reject H0, others reject H0. Thus, only Income is not linearly related to the DEFINITE in this model."
   ]
  }
 ],
 "metadata": {
  "kernelspec": {
   "display_name": "Python 3 (ipykernel)",
   "language": "python",
   "name": "python3"
  },
  "language_info": {
   "codemirror_mode": {
    "name": "ipython",
    "version": 3
   },
   "file_extension": ".py",
   "mimetype": "text/x-python",
   "name": "python",
   "nbconvert_exporter": "python",
   "pygments_lexer": "ipython3",
   "version": "3.9.7"
  }
 },
 "nbformat": 4,
 "nbformat_minor": 5
}
