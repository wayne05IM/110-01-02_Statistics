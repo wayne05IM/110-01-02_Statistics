{
 "cells": [
  {
   "cell_type": "markdown",
   "id": "b1aff25f",
   "metadata": {},
   "source": [
    "<h1>B09705039_劉惟恩_HW05"
   ]
  },
  {
   "cell_type": "code",
   "execution_count": 2,
   "id": "806b6f99",
   "metadata": {},
   "outputs": [],
   "source": [
    "from matplotlib import pyplot as plt\n",
    "%matplotlib inline\n",
    "# 設定圖形大小; DPI越大圖越大\n",
    "plt.rcParams[\"figure.dpi\"] = 100\n",
    "import seaborn as sns\n",
    "import pandas as pd\n",
    "import numpy as np\n",
    "import math as math"
   ]
  },
  {
   "cell_type": "markdown",
   "id": "be05df53",
   "metadata": {},
   "source": [
    "<h2>Problem 7.7"
   ]
  },
  {
   "cell_type": "markdown",
   "id": "724f2d03",
   "metadata": {},
   "source": [
    "<h3>a."
   ]
  },
  {
   "cell_type": "code",
   "execution_count": 2,
   "id": "8603e41b",
   "metadata": {},
   "outputs": [
    {
     "name": "stdout",
     "output_type": "stream",
     "text": [
      "Probability distribution of X:\n"
     ]
    },
    {
     "data": {
      "text/html": [
       "<div>\n",
       "<style scoped>\n",
       "    .dataframe tbody tr th:only-of-type {\n",
       "        vertical-align: middle;\n",
       "    }\n",
       "\n",
       "    .dataframe tbody tr th {\n",
       "        vertical-align: top;\n",
       "    }\n",
       "\n",
       "    .dataframe thead th {\n",
       "        text-align: right;\n",
       "    }\n",
       "</style>\n",
       "<table border=\"1\" class=\"dataframe\">\n",
       "  <thead>\n",
       "    <tr style=\"text-align: right;\">\n",
       "      <th></th>\n",
       "      <th>X</th>\n",
       "      <th>P(X)</th>\n",
       "    </tr>\n",
       "  </thead>\n",
       "  <tbody>\n",
       "    <tr>\n",
       "      <th>0</th>\n",
       "      <td>0</td>\n",
       "      <td>0.012000</td>\n",
       "    </tr>\n",
       "    <tr>\n",
       "      <th>1</th>\n",
       "      <td>1</td>\n",
       "      <td>0.319002</td>\n",
       "    </tr>\n",
       "    <tr>\n",
       "      <th>2</th>\n",
       "      <td>2</td>\n",
       "      <td>0.373996</td>\n",
       "    </tr>\n",
       "    <tr>\n",
       "      <th>3</th>\n",
       "      <td>3</td>\n",
       "      <td>0.191003</td>\n",
       "    </tr>\n",
       "    <tr>\n",
       "      <th>4</th>\n",
       "      <td>4</td>\n",
       "      <td>0.075999</td>\n",
       "    </tr>\n",
       "    <tr>\n",
       "      <th>5</th>\n",
       "      <td>5</td>\n",
       "      <td>0.028000</td>\n",
       "    </tr>\n",
       "  </tbody>\n",
       "</table>\n",
       "</div>"
      ],
      "text/plain": [
       "   X      P(X)\n",
       "0  0  0.012000\n",
       "1  1  0.319002\n",
       "2  2  0.373996\n",
       "3  3  0.191003\n",
       "4  4  0.075999\n",
       "5  5  0.028000"
      ]
     },
     "metadata": {},
     "output_type": "display_data"
    }
   ],
   "source": [
    "# X is the number of color televisions per household\n",
    "df_7_7 = pd.read_excel(\"Xr07-07.xlsx\")\n",
    "\n",
    "feq_sum = df_7_7[\"Frequency\"].sum()\n",
    "data = {\"X\" : [0, 1, 2, 3, 4, 5], \"P(X)\" : (df_7_7[\"Frequency\"]/feq_sum)}\n",
    "prob_dis = pd.DataFrame(data)\n",
    "print(\"Probability distribution of X:\")\n",
    "display(prob_dis)"
   ]
  },
  {
   "cell_type": "markdown",
   "id": "6d237253",
   "metadata": {},
   "source": [
    "<h3>b."
   ]
  },
  {
   "cell_type": "code",
   "execution_count": 3,
   "id": "e0ef2059",
   "metadata": {},
   "outputs": [
    {
     "name": "stdout",
     "output_type": "stream",
     "text": [
      "P(X <= 2) = 0.8840011428458834\n",
      "P(X > 2) = 0.6689983349917735\n",
      "P(X >= 4) = 0.10399897537955291\n"
     ]
    }
   ],
   "source": [
    "PX_smaller_or_equal_to_2 = prob_dis[\"P(X)\"][1] + prob_dis[\"P(X)\"][2] + prob_dis[\"P(X)\"][3]\n",
    "print(\"P(X <= 2) =\", PX_smaller_or_equal_to_2)\n",
    "\n",
    "PX_bigger_than_2 = prob_dis[\"P(X)\"][2] + prob_dis[\"P(X)\"][3] + prob_dis[\"P(X)\"][4] + prob_dis[\"P(X)\"][5]\n",
    "print(\"P(X > 2) =\", PX_bigger_than_2)\n",
    "\n",
    "PX_bigger_or_equal_to_4 = prob_dis[\"P(X)\"][4] + prob_dis[\"P(X)\"][5]\n",
    "print(\"P(X >= 4) =\", PX_bigger_or_equal_to_4)"
   ]
  },
  {
   "cell_type": "markdown",
   "id": "647a56ee",
   "metadata": {},
   "source": [
    "<h2>Problem 7.19"
   ]
  },
  {
   "cell_type": "markdown",
   "id": "04c50783",
   "metadata": {},
   "source": [
    "<h3>a."
   ]
  },
  {
   "cell_type": "code",
   "execution_count": 4,
   "id": "78f9e159",
   "metadata": {},
   "outputs": [
    {
     "name": "stdout",
     "output_type": "stream",
     "text": [
      "Mean = 1.0\n",
      "Variance = 1.0\n",
      "Standard Deviation = 1.0\n"
     ]
    }
   ],
   "source": [
    "df_7_19 = pd.read_excel(\"Xr07-19.xlsx\")\n",
    "\n",
    "mean_X = (df_7_19[\"x\"] * df_7_19[\"P(x)\"]).sum()\n",
    "print(\"Mean =\", mean_X)\n",
    "\n",
    "variance_X = (((df_7_19[\"x\"] ** 2) * df_7_19[\"P(x)\"]).sum() - (mean_X ** 2))\n",
    "print(\"Variance =\", variance_X)\n",
    "\n",
    "standard_deviation_X = math.sqrt(variance_X)\n",
    "print(\"Standard Deviation =\", standard_deviation_X)"
   ]
  },
  {
   "cell_type": "markdown",
   "id": "83700a0d",
   "metadata": {},
   "source": [
    "<h2>b."
   ]
  },
  {
   "cell_type": "code",
   "execution_count": 5,
   "id": "96c56034",
   "metadata": {},
   "outputs": [
    {
     "name": "stdout",
     "output_type": "stream",
     "text": [
      "Probability distribution of Y:\n"
     ]
    },
    {
     "data": {
      "text/html": [
       "<div>\n",
       "<style scoped>\n",
       "    .dataframe tbody tr th:only-of-type {\n",
       "        vertical-align: middle;\n",
       "    }\n",
       "\n",
       "    .dataframe tbody tr th {\n",
       "        vertical-align: top;\n",
       "    }\n",
       "\n",
       "    .dataframe thead th {\n",
       "        text-align: right;\n",
       "    }\n",
       "</style>\n",
       "<table border=\"1\" class=\"dataframe\">\n",
       "  <thead>\n",
       "    <tr style=\"text-align: right;\">\n",
       "      <th></th>\n",
       "      <th>Y</th>\n",
       "      <th>P(Y)</th>\n",
       "    </tr>\n",
       "  </thead>\n",
       "  <tbody>\n",
       "    <tr>\n",
       "      <th>0</th>\n",
       "      <td>2</td>\n",
       "      <td>0.4</td>\n",
       "    </tr>\n",
       "    <tr>\n",
       "      <th>1</th>\n",
       "      <td>5</td>\n",
       "      <td>0.3</td>\n",
       "    </tr>\n",
       "    <tr>\n",
       "      <th>2</th>\n",
       "      <td>8</td>\n",
       "      <td>0.2</td>\n",
       "    </tr>\n",
       "    <tr>\n",
       "      <th>3</th>\n",
       "      <td>11</td>\n",
       "      <td>0.1</td>\n",
       "    </tr>\n",
       "  </tbody>\n",
       "</table>\n",
       "</div>"
      ],
      "text/plain": [
       "    Y  P(Y)\n",
       "0   2   0.4\n",
       "1   5   0.3\n",
       "2   8   0.2\n",
       "3  11   0.1"
      ]
     },
     "metadata": {},
     "output_type": "display_data"
    }
   ],
   "source": [
    "data = {\"Y\" : ((3 * df_7_19[\"x\"]) + 2), \"P(Y)\" : df_7_19[\"P(x)\"]}\n",
    "prob_dis_Y = pd.DataFrame(data)\n",
    "print(\"Probability distribution of Y:\")\n",
    "display(prob_dis_Y)"
   ]
  },
  {
   "cell_type": "markdown",
   "id": "7f1afd38",
   "metadata": {},
   "source": [
    "<h3>c."
   ]
  },
  {
   "cell_type": "code",
   "execution_count": 6,
   "id": "b458fb3f",
   "metadata": {},
   "outputs": [
    {
     "name": "stdout",
     "output_type": "stream",
     "text": [
      "Mean = 5.0\n",
      "Variance = 9.0\n",
      "Standard Deviation = 3.0\n"
     ]
    }
   ],
   "source": [
    "mean_Y = (prob_dis_Y[\"Y\"] * prob_dis_Y[\"P(Y)\"]).sum()\n",
    "print(\"Mean =\", mean_Y)\n",
    "\n",
    "variance_Y = (((prob_dis_Y[\"Y\"] ** 2) * prob_dis_Y[\"P(Y)\"]).sum() - (mean_Y ** 2))\n",
    "print(\"Variance =\", variance_Y)\n",
    "\n",
    "standard_deviation_Y = math.sqrt(variance_Y)\n",
    "print(\"Standard Deviation =\", standard_deviation_Y)"
   ]
  },
  {
   "cell_type": "markdown",
   "id": "878e640a",
   "metadata": {},
   "source": [
    "<h3>d."
   ]
  },
  {
   "cell_type": "code",
   "execution_count": 7,
   "id": "d03bec5e",
   "metadata": {},
   "outputs": [
    {
     "name": "stdout",
     "output_type": "stream",
     "text": [
      "Mean by law = 5.0\n",
      "Variance by law = 9.0\n",
      "Standard Deviation by law = 3.0\n"
     ]
    }
   ],
   "source": [
    "# Apply law of expected value.\n",
    "mean_Y_law = 3 * mean_X + 2\n",
    "print(\"Mean by law =\", mean_Y_law)\n",
    "\n",
    "# Apply law of variance.\n",
    "variance_Y_law = (3 ** 2) * variance_X\n",
    "print(\"Variance by law =\", variance_Y_law)\n",
    "standard_deviation_Y_law = math.sqrt(variance_Y_law)\n",
    "print(\"Standard Deviation by law =\", standard_deviation_Y_law)"
   ]
  },
  {
   "cell_type": "markdown",
   "id": "3eb7c3f2",
   "metadata": {},
   "source": [
    "Yes, they are exactly the same."
   ]
  },
  {
   "cell_type": "markdown",
   "id": "9e04b7ba",
   "metadata": {},
   "source": [
    "<h2>Problem 7.37"
   ]
  },
  {
   "cell_type": "code",
   "execution_count": 8,
   "id": "871abfed",
   "metadata": {},
   "outputs": [
    {
     "name": "stdout",
     "output_type": "stream",
     "text": [
      "The expected value of the payoff = 0.7 $\n"
     ]
    }
   ],
   "source": [
    "data = {\"Prize\" : [1000000, 200000, 50000, 10000, 1000], \"Probability\" : [1/10000000, 1/1000000, 1/500000, 1/50000, 1/10000]}\n",
    "df_7_37 = pd.DataFrame(data)\n",
    "\n",
    "expected_value = (df_7_37[\"Prize\"] * df_7_37[\"Probability\"]).sum()\n",
    "print(\"The expected value of the payoff =\", expected_value, \"$\")"
   ]
  },
  {
   "cell_type": "markdown",
   "id": "72ab2202",
   "metadata": {},
   "source": [
    "<h2>Problem 7.57"
   ]
  },
  {
   "cell_type": "code",
   "execution_count": 9,
   "id": "c91f3ad0",
   "metadata": {},
   "outputs": [
    {
     "data": {
      "text/html": [
       "<div>\n",
       "<style scoped>\n",
       "    .dataframe tbody tr th:only-of-type {\n",
       "        vertical-align: middle;\n",
       "    }\n",
       "\n",
       "    .dataframe tbody tr th {\n",
       "        vertical-align: top;\n",
       "    }\n",
       "\n",
       "    .dataframe thead th {\n",
       "        text-align: right;\n",
       "    }\n",
       "</style>\n",
       "<table border=\"1\" class=\"dataframe\">\n",
       "  <thead>\n",
       "    <tr style=\"text-align: right;\">\n",
       "      <th></th>\n",
       "      <th>B = 0</th>\n",
       "      <th>B = 1</th>\n",
       "    </tr>\n",
       "  </thead>\n",
       "  <tbody>\n",
       "    <tr>\n",
       "      <th>C = 0</th>\n",
       "      <td>0.63</td>\n",
       "      <td>0.18</td>\n",
       "    </tr>\n",
       "    <tr>\n",
       "      <th>C = 1</th>\n",
       "      <td>0.09</td>\n",
       "      <td>0.10</td>\n",
       "    </tr>\n",
       "  </tbody>\n",
       "</table>\n",
       "</div>"
      ],
      "text/plain": [
       "       B = 0  B = 1\n",
       "C = 0   0.63   0.18\n",
       "C = 1   0.09   0.10"
      ]
     },
     "metadata": {},
     "output_type": "display_data"
    }
   ],
   "source": [
    "df_7_57 = pd.read_excel(\"Xr07-57.xlsx\")\n",
    "df_7_57 = df_7_57.rename(index = {0 : \"C = 0\", 1 : \"C = 1\"})\n",
    "df_7_57 = df_7_57.iloc[:, 1:]\n",
    "display(df_7_57)"
   ]
  },
  {
   "cell_type": "markdown",
   "id": "6b17da5f",
   "metadata": {},
   "source": [
    "<h3>a."
   ]
  },
  {
   "cell_type": "markdown",
   "id": "fc14a26a",
   "metadata": {},
   "source": [
    "Let X be the number of bottles imported."
   ]
  },
  {
   "cell_type": "code",
   "execution_count": 10,
   "id": "b9f7f0c3",
   "metadata": {},
   "outputs": [
    {
     "name": "stdout",
     "output_type": "stream",
     "text": [
      "Marginal probability distribution of the number of bottles imported:\n"
     ]
    },
    {
     "data": {
      "text/html": [
       "<div>\n",
       "<style scoped>\n",
       "    .dataframe tbody tr th:only-of-type {\n",
       "        vertical-align: middle;\n",
       "    }\n",
       "\n",
       "    .dataframe tbody tr th {\n",
       "        vertical-align: top;\n",
       "    }\n",
       "\n",
       "    .dataframe thead th {\n",
       "        text-align: right;\n",
       "    }\n",
       "</style>\n",
       "<table border=\"1\" class=\"dataframe\">\n",
       "  <thead>\n",
       "    <tr style=\"text-align: right;\">\n",
       "      <th></th>\n",
       "      <th>X</th>\n",
       "      <th>P(X)</th>\n",
       "    </tr>\n",
       "  </thead>\n",
       "  <tbody>\n",
       "    <tr>\n",
       "      <th>B = 0</th>\n",
       "      <td>0</td>\n",
       "      <td>0.72</td>\n",
       "    </tr>\n",
       "    <tr>\n",
       "      <th>B = 1</th>\n",
       "      <td>1</td>\n",
       "      <td>0.28</td>\n",
       "    </tr>\n",
       "  </tbody>\n",
       "</table>\n",
       "</div>"
      ],
      "text/plain": [
       "       X  P(X)\n",
       "B = 0  0  0.72\n",
       "B = 1  1  0.28"
      ]
     },
     "metadata": {},
     "output_type": "display_data"
    }
   ],
   "source": [
    "col_p = df_7_57.sum(0)\n",
    "data = {\"X\" : [0, 1], \"P(X)\" : col_p}\n",
    "prob_dis_B = pd.DataFrame(data)\n",
    "print(\"Marginal probability distribution of the number of bottles imported:\")\n",
    "display(prob_dis_B)"
   ]
  },
  {
   "cell_type": "markdown",
   "id": "ee2ac402",
   "metadata": {},
   "source": [
    "<h3>b."
   ]
  },
  {
   "cell_type": "markdown",
   "id": "a2295107",
   "metadata": {},
   "source": [
    "Let Y be the number of cigarette cartons imported."
   ]
  },
  {
   "cell_type": "code",
   "execution_count": 11,
   "id": "f0afc888",
   "metadata": {},
   "outputs": [
    {
     "name": "stdout",
     "output_type": "stream",
     "text": [
      "Marginal probability distribution of the number of cigarette cartons imported:\n"
     ]
    },
    {
     "data": {
      "text/html": [
       "<div>\n",
       "<style scoped>\n",
       "    .dataframe tbody tr th:only-of-type {\n",
       "        vertical-align: middle;\n",
       "    }\n",
       "\n",
       "    .dataframe tbody tr th {\n",
       "        vertical-align: top;\n",
       "    }\n",
       "\n",
       "    .dataframe thead th {\n",
       "        text-align: right;\n",
       "    }\n",
       "</style>\n",
       "<table border=\"1\" class=\"dataframe\">\n",
       "  <thead>\n",
       "    <tr style=\"text-align: right;\">\n",
       "      <th></th>\n",
       "      <th>Y</th>\n",
       "      <th>P(Y)</th>\n",
       "    </tr>\n",
       "  </thead>\n",
       "  <tbody>\n",
       "    <tr>\n",
       "      <th>C = 0</th>\n",
       "      <td>0</td>\n",
       "      <td>0.81</td>\n",
       "    </tr>\n",
       "    <tr>\n",
       "      <th>C = 1</th>\n",
       "      <td>1</td>\n",
       "      <td>0.19</td>\n",
       "    </tr>\n",
       "  </tbody>\n",
       "</table>\n",
       "</div>"
      ],
      "text/plain": [
       "       Y  P(Y)\n",
       "C = 0  0  0.81\n",
       "C = 1  1  0.19"
      ]
     },
     "metadata": {},
     "output_type": "display_data"
    }
   ],
   "source": [
    "row_p = df_7_57.sum(1)\n",
    "data = {\"Y\" : [0, 1], \"P(Y)\" : row_p}\n",
    "prob_dis_C = pd.DataFrame(data)\n",
    "print(\"Marginal probability distribution of the number of cigarette cartons imported:\")\n",
    "display(prob_dis_C)"
   ]
  },
  {
   "cell_type": "markdown",
   "id": "98cd6c26",
   "metadata": {},
   "source": [
    "<h3>c."
   ]
  },
  {
   "cell_type": "code",
   "execution_count": 12,
   "id": "80f55b72",
   "metadata": {},
   "outputs": [
    {
     "name": "stdout",
     "output_type": "stream",
     "text": [
      "Mean = 0.28\n",
      "Variance = 0.2016\n"
     ]
    }
   ],
   "source": [
    "mean_B = (prob_dis_B[\"X\"] * prob_dis_B[\"P(X)\"]).sum()\n",
    "variance_B = (((prob_dis_B[\"X\"] ** 2) * prob_dis_B[\"P(X)\"]).sum() - (mean_B ** 2))\n",
    "print(\"Mean =\", mean_B)\n",
    "print(\"Variance =\", variance_B)"
   ]
  },
  {
   "cell_type": "markdown",
   "id": "4951ad0a",
   "metadata": {},
   "source": [
    "<h3>d."
   ]
  },
  {
   "cell_type": "code",
   "execution_count": 13,
   "id": "0c004927",
   "metadata": {},
   "outputs": [
    {
     "name": "stdout",
     "output_type": "stream",
     "text": [
      "Mean = 0.19\n",
      "Variance = 0.1539\n"
     ]
    }
   ],
   "source": [
    "mean_C = (prob_dis_C[\"Y\"] * prob_dis_C[\"P(Y)\"]).sum()\n",
    "variance_C = (((prob_dis_C[\"Y\"] ** 2) * prob_dis_C[\"P(Y)\"]).sum() - (mean_C ** 2))\n",
    "print(\"Mean =\", mean_C)\n",
    "print(\"Variance =\", variance_C)"
   ]
  },
  {
   "cell_type": "markdown",
   "id": "8d72ec58",
   "metadata": {},
   "source": [
    "<h3>e."
   ]
  },
  {
   "cell_type": "code",
   "execution_count": 14,
   "id": "2f9cbbe8",
   "metadata": {},
   "outputs": [
    {
     "name": "stdout",
     "output_type": "stream",
     "text": [
      "Covariance = 0.04680000000000001\n",
      "The coefficient of correlation = 0.26569371377681855\n"
     ]
    }
   ],
   "source": [
    "# Compute covariance\n",
    "array_B = prob_dis_B[\"X\"] - mean_B\n",
    "array_C = prob_dis_C[\"Y\"] - mean_C\n",
    "y = 0\n",
    "covariance = 0\n",
    "for i in array_B:\n",
    "    x = 0\n",
    "    for j in array_C:\n",
    "        covariance += i * j * df_7_57.iloc[x, y]\n",
    "        x = 1\n",
    "    y = 1\n",
    "    \n",
    "print(\"Covariance =\", covariance)\n",
    "\n",
    "# Compute coefficient of correlation\n",
    "std_B = math.sqrt(variance_B)\n",
    "std_C = math.sqrt(variance_C)\n",
    "coeff = covariance / (std_B * std_C)\n",
    "print(\"The coefficient of correlation =\", coeff)"
   ]
  },
  {
   "cell_type": "markdown",
   "id": "69a90a7d",
   "metadata": {},
   "source": [
    "<h2>Problem 7.63"
   ]
  },
  {
   "cell_type": "code",
   "execution_count": 15,
   "id": "76e35bb9",
   "metadata": {},
   "outputs": [],
   "source": [
    "df_7_63 = pd.read_excel(\"Xr07-63.xlsx\")\n",
    "df_7_63 = df_7_63.iloc[:, 1:]\n",
    "df_7_63 = df_7_63.rename(columns = {\"Home Team: 0\" : 0, \"Home Team: 1\" : 1, \"Home Team: 2\" : 2, \"Home Team: 3\" : 3})"
   ]
  },
  {
   "cell_type": "markdown",
   "id": "e7867abf",
   "metadata": {},
   "source": [
    "<h3>a."
   ]
  },
  {
   "cell_type": "code",
   "execution_count": 16,
   "id": "e3f378bf",
   "metadata": {},
   "outputs": [
    {
     "name": "stdout",
     "output_type": "stream",
     "text": [
      "Probability of home team wins = 0.34\n"
     ]
    }
   ],
   "source": [
    "Home_team_wins = 0\n",
    "for i in range(0, 4):\n",
    "    for j in range(0, 4):\n",
    "        if i > j:\n",
    "            Home_team_wins += df_7_63.iloc[i, j]\n",
    "print(\"Probability of home team wins =\", round(Home_team_wins, 2))"
   ]
  },
  {
   "cell_type": "markdown",
   "id": "2b77b1f1",
   "metadata": {},
   "source": [
    "<h3>b."
   ]
  },
  {
   "cell_type": "code",
   "execution_count": 17,
   "id": "04e9bb97",
   "metadata": {},
   "outputs": [
    {
     "name": "stdout",
     "output_type": "stream",
     "text": [
      "Probability of a tie = 0.28\n"
     ]
    }
   ],
   "source": [
    "Tie = 0\n",
    "for i in range(0, 4):\n",
    "    for j in range(0, 4):\n",
    "        if i == j:\n",
    "            Tie += df_7_63.iloc[i, j]\n",
    "print(\"Probability of a tie =\", round(Tie, 2))"
   ]
  },
  {
   "cell_type": "markdown",
   "id": "97a362a8",
   "metadata": {},
   "source": [
    "<h3>c."
   ]
  },
  {
   "cell_type": "code",
   "execution_count": 18,
   "id": "364ed384",
   "metadata": {},
   "outputs": [
    {
     "name": "stdout",
     "output_type": "stream",
     "text": [
      "Probability of visiting team wins = 0.38\n"
     ]
    }
   ],
   "source": [
    "Visiting_team_wins = 0\n",
    "for i in range(0, 4):\n",
    "    for j in range(0, 4):\n",
    "        if i < j:\n",
    "            Visiting_team_wins += df_7_63.iloc[i, j]\n",
    "print(\"Probability of visiting team wins =\", round(Visiting_team_wins, 2))"
   ]
  },
  {
   "cell_type": "markdown",
   "id": "825e2621",
   "metadata": {},
   "source": [
    "<h2>Problem 7.73"
   ]
  },
  {
   "cell_type": "markdown",
   "id": "49ebacd6",
   "metadata": {},
   "source": [
    "<h3>a."
   ]
  },
  {
   "cell_type": "markdown",
   "id": "dd5a5801",
   "metadata": {},
   "source": [
    "He should choose stock 2, because stock 2 has a larger mean than stock 1 (0.13 > 0.09), which means it has a better earning in average."
   ]
  },
  {
   "cell_type": "markdown",
   "id": "e9b90fce",
   "metadata": {},
   "source": [
    "<h3>b."
   ]
  },
  {
   "cell_type": "markdown",
   "id": "84684459",
   "metadata": {},
   "source": [
    "He should choose stock 1, because stock 1 has a smaller standard deviation than stock 2, which means it has a narrower interval of returns implies that it is more possible to earn mean instead of the extremes."
   ]
  },
  {
   "cell_type": "markdown",
   "id": "fc4de517",
   "metadata": {},
   "source": [
    "<h2>Problem 7.87"
   ]
  },
  {
   "cell_type": "code",
   "execution_count": 3,
   "id": "ca9d261d",
   "metadata": {},
   "outputs": [
    {
     "name": "stdout",
     "output_type": "stream",
     "text": [
      "[[0.01741873 0.00114371]\n",
      " [0.00114371 0.00115558]]\n",
      "0.0011437057398458266\n",
      "-0.00039593141058685475\n"
     ]
    }
   ],
   "source": [
    "df_7_87 = pd.read_excel(\"Xr07-TSE.xlsx\")\n",
    "\n",
    "AEM_mean = df_7_87[\"AEM\"].mean()\n",
    "AEM_var = df_7_87[\"AEM\"].var()\n",
    "\n",
    "BCE_mean = df_7_87[\"BCE\"].mean()\n",
    "BCE_var = df_7_87[\"BCE\"].var()\n",
    "\n",
    "BMO_mean = df_7_87[\"BMO\"].mean()\n",
    "BMO_var = df_7_87[\"BMO\"].var()\n",
    "\n",
    "DOL_mean = df_7_87[\"DOL\"].mean()\n",
    "DOL_var = df_7_87[\"DOL\"].var()\n",
    "\n",
    "cov_AME_BCE = np.cov(df_7_87[[\"AEM\", \"BCE\"]].values, rowvar = False)[0][1]\n",
    "cov_AME_BMO = np.cov(df_7_87[[\"AEM\", \"BMO\"]].values, rowvar = False)[0][1]\n",
    "cov_AME_DOL = np.cov(df_7_87[[\"AEM\", \"DOL\"]].values, rowvar = False)[0][1]\n",
    "cov_BCE_BMO = np.cov(df_7_87[[\"BCE\", \"BMO\"]].values, rowvar = False)[0][1]\n",
    "cov_BCE_DOL = np.cov(df_7_87[[\"BCE\", \"DOL\"]].values, rowvar = False)[0][1]\n",
    "cov_BMO_DOL = np.cov(df_7_87[[\"BMO\", \"DOL\"]].values, rowvar = False)[0][1]\n",
    "print(cov_AME_BCE)\n",
    "print(cov_AME_BMO)"
   ]
  },
  {
   "cell_type": "markdown",
   "id": "3e6a76be",
   "metadata": {},
   "source": [
    "<h3>a."
   ]
  },
  {
   "cell_type": "code",
   "execution_count": 20,
   "id": "5679eab9",
   "metadata": {},
   "outputs": [],
   "source": [
    "def mean_std(c1, c2, c3, c4):\n",
    "    mean = c1 * AEM_mean + c2 * BCE_mean + c3 * BMO_mean + c4 * DOL_mean\n",
    "    var = ((c1 ** 2) * AEM_var) + ((c2 ** 2) * BCE_var) + ((c3 ** 2) * BMO_var) + ((c4 ** 2) * DOL_var) + (2 * c1 * c2 * cov_AME_BCE) + (2 * c1 * c3 * cov_AME_BMO) + (2 * c1 * c4 * cov_AME_DOL) + (2 * c2 * c3 * cov_BCE_BMO) + (2 * c2 * c4 * cov_BCE_DOL) + (2 * c3 * c4 * cov_BMO_DOL)\n",
    "    std = math.sqrt(var)\n",
    "    print(\"Mean of the portfolio =\", mean)\n",
    "    print(\"Standard deviation of the portfolio =\", std)"
   ]
  },
  {
   "cell_type": "code",
   "execution_count": 21,
   "id": "50846a4a",
   "metadata": {},
   "outputs": [
    {
     "name": "stdout",
     "output_type": "stream",
     "text": [
      "Mean of the portfolio = 0.013124659552818262\n",
      "Standard deviation of the portfolio = 0.036737143914178025\n"
     ]
    }
   ],
   "source": [
    "mean_std((25/100), (25/100), (25/100), (25/100))"
   ]
  },
  {
   "cell_type": "markdown",
   "id": "2d521622",
   "metadata": {},
   "source": [
    "<h3>b."
   ]
  },
  {
   "cell_type": "code",
   "execution_count": 22,
   "id": "424594d6",
   "metadata": {},
   "outputs": [
    {
     "name": "stdout",
     "output_type": "stream",
     "text": [
      "Mean of the portfolio = 0.011846535208133542\n",
      "Standard deviation of the portfolio = 0.04279713546059027\n"
     ]
    }
   ],
   "source": [
    "mean_std((30/100), (30/100), (20/100), (20/100))"
   ]
  },
  {
   "cell_type": "markdown",
   "id": "44c990a9",
   "metadata": {},
   "source": [
    "<h3>c."
   ]
  },
  {
   "cell_type": "code",
   "execution_count": 23,
   "id": "6c5fb1db",
   "metadata": {},
   "outputs": [
    {
     "name": "stdout",
     "output_type": "stream",
     "text": [
      "Mean of the portfolio = 0.01274100721905979\n",
      "Standard deviation of the portfolio = 0.053549341698792614\n"
     ]
    }
   ],
   "source": [
    "mean_std((40/100), (15/100), (15/100), (30/100))"
   ]
  },
  {
   "cell_type": "markdown",
   "id": "7f29f698",
   "metadata": {},
   "source": [
    "<h3>d."
   ]
  },
  {
   "cell_type": "markdown",
   "id": "f3276eb2",
   "metadata": {},
   "source": [
    "It is obvious to choose portfolio a to invest. Since it has the largest mean which implies that it can earn more money in average, also it has the smallest std which implies that it has the lowest risk."
   ]
  },
  {
   "cell_type": "markdown",
   "id": "a45af233",
   "metadata": {},
   "source": [
    "<h2>Problem 7.111"
   ]
  },
  {
   "cell_type": "code",
   "execution_count": 24,
   "id": "1885c33a",
   "metadata": {},
   "outputs": [],
   "source": [
    "import scipy.stats as stats\n",
    "import statsmodels.api as sm\n",
    "import statsmodels.stats.api as sms\n",
    "import statsmodels.formula.api as smf"
   ]
  },
  {
   "cell_type": "markdown",
   "id": "4457da5b",
   "metadata": {},
   "source": [
    "<h3>a."
   ]
  },
  {
   "cell_type": "code",
   "execution_count": 25,
   "id": "55a4a569",
   "metadata": {},
   "outputs": [
    {
     "name": "stdout",
     "output_type": "stream",
     "text": [
      "The probability that 15 or more of them would agree with the claim\n",
      "p(n = 25 , p = 0.75 , x >= 15 )= 0.9703300880644576\n"
     ]
    }
   ],
   "source": [
    "n = 25         # Number of total bets\n",
    "p = 0.75        # Probability of success\n",
    "hh = stats.binom(n, p)\n",
    "\n",
    "max_x = 14     # Maximum number of successes\n",
    "print(\"The probability that 15 or more of them would agree with the claim\")\n",
    "print(\"p(n =\", n, \", p =\", p, \", x >=\", max_x + 1, \")=\", 1 - hh.cdf(max_x))"
   ]
  },
  {
   "cell_type": "markdown",
   "id": "aed2346d",
   "metadata": {},
   "source": [
    "<h3>b."
   ]
  },
  {
   "cell_type": "code",
   "execution_count": 26,
   "id": "6f14c039",
   "metadata": {},
   "outputs": [
    {
     "name": "stdout",
     "output_type": "stream",
     "text": [
      "The probability that less than 14 would agree\n",
      "p(n = 25 , p = 0.75 , x < 14 )= 0.010734297951536576\n"
     ]
    }
   ],
   "source": [
    "max_x = 13     # Maximum number of successes\n",
    "print(\"The probability that less than 14 would agree\")\n",
    "print(\"p(n =\", n, \", p =\", p, \", x <\", max_x + 1, \")=\", hh.cdf(max_x))"
   ]
  },
  {
   "cell_type": "markdown",
   "id": "f9b79ea2",
   "metadata": {},
   "source": [
    "<h3>c."
   ]
  },
  {
   "cell_type": "code",
   "execution_count": 27,
   "id": "0f2ee33e",
   "metadata": {},
   "outputs": [
    {
     "name": "stdout",
     "output_type": "stream",
     "text": [
      "The probability that 15 would agree\n",
      "p(n = 25 , p = 0.75 , x = 15 )= 0.04165835076481274\n"
     ]
    }
   ],
   "source": [
    "x = 15\n",
    "print(\"The probability that 15 would agree\")\n",
    "print(\"p(n =\", n, \", p =\", p, \", x =\", x, \")=\", hh.pmf(x))"
   ]
  },
  {
   "cell_type": "markdown",
   "id": "16ebe9d8",
   "metadata": {},
   "source": [
    "<h2>Problem 7.123"
   ]
  },
  {
   "cell_type": "markdown",
   "id": "cb67b632",
   "metadata": {},
   "source": [
    "<h3>a."
   ]
  },
  {
   "cell_type": "code",
   "execution_count": 28,
   "id": "edcf4136",
   "metadata": {},
   "outputs": [
    {
     "name": "stdout",
     "output_type": "stream",
     "text": [
      "The probability that the ball falls into the green slots 2 or more times\n",
      "p(n = 25 , p = 0.05263157894736842 , x >= 2 )= 0.3817436946703432\n"
     ]
    }
   ],
   "source": [
    "n = 25\n",
    "p_r = 18 / (18 + 18 + 2)\n",
    "p_b = 18 / (18 + 18 + 2)\n",
    "p_g = 2 / (18 + 18 + 2)\n",
    "hh_r = stats.binom(n, p_r)\n",
    "hh_b = stats.binom(n, p_b)\n",
    "hh_g = stats.binom(n, p_g)\n",
    "\n",
    "max_x = 1     # Maximum number of successes\n",
    "print(\"The probability that the ball falls into the green slots 2 or more times\")\n",
    "print(\"p(n =\", n, \", p =\", p_g, \", x >=\", max_x + 1, \")=\", 1 - hh_g.cdf(max_x))"
   ]
  },
  {
   "cell_type": "markdown",
   "id": "c824682f",
   "metadata": {},
   "source": [
    "<h3>b."
   ]
  },
  {
   "cell_type": "code",
   "execution_count": 29,
   "id": "e7fdb860",
   "metadata": {},
   "outputs": [
    {
     "name": "stdout",
     "output_type": "stream",
     "text": [
      "The probability that the ball does not fall into the green slots\n",
      "p(n = 25 , p = 0.05263157894736842 , x = 0 )= 0.25880496502171735\n"
     ]
    }
   ],
   "source": [
    "x = 0\n",
    "print(\"The probability that the ball does not fall into the green slots\")\n",
    "print(\"p(n =\", n, \", p =\", p_g, \", x =\", x, \")=\", hh_g.pmf(x))"
   ]
  },
  {
   "cell_type": "markdown",
   "id": "cb12e179",
   "metadata": {},
   "source": [
    "<h3>c."
   ]
  },
  {
   "cell_type": "code",
   "execution_count": 30,
   "id": "fd74c37b",
   "metadata": {},
   "outputs": [
    {
     "name": "stdout",
     "output_type": "stream",
     "text": [
      "The probability that the ball falls into the black slots 15 or more times\n",
      "p(n = 25 , p = 0.47368421052631576 , x >= 15 )= 0.1435512856513057\n"
     ]
    }
   ],
   "source": [
    "max_x = 14     # Maximum number of successes\n",
    "print(\"The probability that the ball falls into the black slots 15 or more times\")\n",
    "print(\"p(n =\", n, \", p =\", p_b, \", x >=\", max_x + 1, \")=\", 1 - hh_b.cdf(max_x))"
   ]
  },
  {
   "cell_type": "markdown",
   "id": "ecc0d00d",
   "metadata": {},
   "source": [
    "<h3>d."
   ]
  },
  {
   "cell_type": "code",
   "execution_count": 31,
   "id": "7b188843",
   "metadata": {},
   "outputs": [
    {
     "name": "stdout",
     "output_type": "stream",
     "text": [
      "The probability that the ball falls into the red slots 10 or fewer times\n",
      "p(n = 25 , p = 0.47368421052631576 , x <= 10 )= 0.29679568222188246\n"
     ]
    }
   ],
   "source": [
    "max_x = 10     # Maximum number of successes\n",
    "print(\"The probability that the ball falls into the red slots 10 or fewer times\")\n",
    "print(\"p(n =\", n, \", p =\", p_r, \", x <=\", max_x, \")=\", hh_r.cdf(max_x))"
   ]
  },
  {
   "cell_type": "markdown",
   "id": "527fa412",
   "metadata": {},
   "source": [
    "<h2>Problem 7.131"
   ]
  },
  {
   "cell_type": "markdown",
   "id": "c59e3f59",
   "metadata": {},
   "source": [
    "<h3>a."
   ]
  },
  {
   "cell_type": "code",
   "execution_count": 32,
   "id": "7c4e15f1",
   "metadata": {},
   "outputs": [
    {
     "name": "stdout",
     "output_type": "stream",
     "text": [
      "The probability of five snowfalls in 2 weeks\n",
      "p(mu = 4.666666666666667 , x = 5 )= 0.173438327355808\n"
     ]
    }
   ],
   "source": [
    "mu = 1 * (14 / 3) # snowfalls per two week\n",
    "pp = stats.poisson(mu)\n",
    "\n",
    "x = 5\n",
    "print(\"The probability of five snowfalls in 2 weeks\")\n",
    "print(\"p(mu =\", mu, \", x =\", x, \")=\", pp.pmf(x))"
   ]
  },
  {
   "cell_type": "markdown",
   "id": "066b7bf5",
   "metadata": {},
   "source": [
    "<h3>b."
   ]
  },
  {
   "cell_type": "code",
   "execution_count": 33,
   "id": "5337c5cb",
   "metadata": {},
   "outputs": [
    {
     "name": "stdout",
     "output_type": "stream",
     "text": [
      "The probability of snowfall today\n",
      "p(mu = 0.3333333333333333 , x = 1 )= 0.28346868942621084\n"
     ]
    }
   ],
   "source": [
    "mu = 1 / 3 # snowfalls per day\n",
    "pp = stats.poisson(mu)\n",
    "\n",
    "x = 0\n",
    "print(\"The probability of snowfall today\")\n",
    "print(\"p(mu =\", mu, \", x =\", x + 1, \")=\", 1 - pp.cdf(x))"
   ]
  },
  {
   "cell_type": "markdown",
   "id": "9b63d3fd",
   "metadata": {},
   "source": [
    "<h2>Problem 7.137"
   ]
  },
  {
   "cell_type": "markdown",
   "id": "05c8ee4d",
   "metadata": {},
   "source": [
    "<h3>a."
   ]
  },
  {
   "cell_type": "code",
   "execution_count": 34,
   "id": "0948d6c0",
   "metadata": {},
   "outputs": [
    {
     "name": "stdout",
     "output_type": "stream",
     "text": [
      "The probability that on any item the number of bids is 5 or more\n",
      "p(mu = 2.5 , x >= 5 )= 0.10882198108584878\n"
     ]
    }
   ],
   "source": [
    "mu = 2.5\n",
    "pp = stats.poisson(mu)\n",
    "\n",
    "max_x = 5\n",
    "print(\"The probability that on any item the number of bids is 5 or more\")\n",
    "print(\"p(mu =\", mu, \", x >=\", max_x, \")=\", 1 - pp.cdf(max_x) + pp.pmf(max_x)) #pp.cdf(max_x - 1)"
   ]
  },
  {
   "cell_type": "markdown",
   "id": "cd935c3f",
   "metadata": {},
   "source": [
    "<h3>b."
   ]
  },
  {
   "cell_type": "code",
   "execution_count": 35,
   "id": "be594da7",
   "metadata": {},
   "outputs": [
    {
     "name": "stdout",
     "output_type": "stream",
     "text": [
      "The probability that there are no bids\n",
      "p(mu = 2.5 , x = 0 )= 0.0820849986238988\n"
     ]
    }
   ],
   "source": [
    "x = 0\n",
    "print(\"The probability that there are no bids\")\n",
    "print(\"p(mu =\", mu, \", x =\", x, \")=\", pp.cdf(x)) #pp.cdf(x + 1) - pp.pmf(x + 1)"
   ]
  },
  {
   "cell_type": "markdown",
   "id": "93017cf5",
   "metadata": {},
   "source": [
    "<h3>c."
   ]
  },
  {
   "cell_type": "code",
   "execution_count": 36,
   "id": "da65f8fe",
   "metadata": {},
   "outputs": [
    {
     "name": "stdout",
     "output_type": "stream",
     "text": [
      "The probability that there are 3 bids or less\n",
      "p(mu = 2.5 , x <= 3 )= 0.7575761331330662\n"
     ]
    }
   ],
   "source": [
    "max_x = 3\n",
    "print(\"The probability that there are 3 bids or less\")\n",
    "print(\"p(mu =\", mu, \", x <=\", max_x, \")=\", pp.cdf(max_x))"
   ]
  }
 ],
 "metadata": {
  "kernelspec": {
   "display_name": "Python 3 (ipykernel)",
   "language": "python",
   "name": "python3"
  },
  "language_info": {
   "codemirror_mode": {
    "name": "ipython",
    "version": 3
   },
   "file_extension": ".py",
   "mimetype": "text/x-python",
   "name": "python",
   "nbconvert_exporter": "python",
   "pygments_lexer": "ipython3",
   "version": "3.8.11"
  }
 },
 "nbformat": 4,
 "nbformat_minor": 5
}
